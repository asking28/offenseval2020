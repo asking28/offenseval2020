{
  "nbformat": 4,
  "nbformat_minor": 0,
  "metadata": {
    "colab": {
      "name": "offens_2020_danish.ipynb",
      "provenance": [],
      "collapsed_sections": []
    },
    "kernelspec": {
      "name": "python3",
      "display_name": "Python 3"
    },
    "accelerator": "GPU"
  },
  "cells": [
    {
      "cell_type": "code",
      "metadata": {
        "id": "a0BLcJep5y5Z",
        "colab_type": "code",
        "outputId": "ef983541-e1bb-43bd-aa39-c324cace599f",
        "colab": {
          "base_uri": "https://localhost:8080/",
          "height": 121
        }
      },
      "source": [
        "from google.colab import drive\n",
        "drive.mount('/content/drive/')"
      ],
      "execution_count": 0,
      "outputs": [
        {
          "output_type": "stream",
          "text": [
            "Go to this URL in a browser: https://accounts.google.com/o/oauth2/auth?client_id=947318989803-6bn6qk8qdgf4n4g3pfee6491hc0brc4i.apps.googleusercontent.com&redirect_uri=urn%3aietf%3awg%3aoauth%3a2.0%3aoob&response_type=code&scope=email%20https%3a%2f%2fwww.googleapis.com%2fauth%2fdocs.test%20https%3a%2f%2fwww.googleapis.com%2fauth%2fdrive%20https%3a%2f%2fwww.googleapis.com%2fauth%2fdrive.photos.readonly%20https%3a%2f%2fwww.googleapis.com%2fauth%2fpeopleapi.readonly\n",
            "\n",
            "Enter your authorization code:\n",
            "··········\n",
            "Mounted at /content/drive/\n"
          ],
          "name": "stdout"
        }
      ]
    },
    {
      "cell_type": "code",
      "metadata": {
        "id": "6t3mWlV357Bw",
        "colab_type": "code",
        "outputId": "d2df2960-e1bd-46ee-a949-d010be32548d",
        "colab": {
          "base_uri": "https://localhost:8080/",
          "height": 50
        }
      },
      "source": [
        "import pandas as pd\n",
        "import numpy as np\n",
        "import json\n",
        "import keras\n",
        "import tensorflow as tf\n",
        "import io\n",
        "from gensim.models import Word2Vec\n",
        "import pandas as pd\n",
        "import numpy as np\n",
        "from keras.preprocessing import sequence\n",
        "from keras.layers import Conv1D, Conv2D\n",
        "from sklearn.preprocessing import OneHotEncoder\n",
        "\n",
        "from sklearn.preprocessing import LabelEncoder\n",
        "import nltk\n",
        "from keras.layers import LSTM, Activation, Dense, Dropout, Input, Embedding,Bidirectional\n",
        "from keras.layers import average\n",
        "import tensorflow_hub as hub\n",
        "from keras.layers import Average\n",
        "from keras.layers import Concatenate\n",
        "nltk.download('punkt')\n",
        "from numpy import random\n",
        "import math\n",
        "from sklearn.model_selection import train_test_split\n",
        "from keras.models import Sequential\n",
        "from keras.layers import Dense, Dropout, Flatten, Activation, BatchNormalization\n",
        "import pickle\n",
        "from collections import defaultdict\n",
        "import re\n",
        "from bs4 import BeautifulSoup\n",
        "import sys\n",
        "from keras.layers import SpatialDropout1D, concatenate\n",
        "from keras.layers import GRU, Bidirectional, GlobalAveragePooling1D, GlobalMaxPooling1D\n",
        "import os\n",
        "from keras.preprocessing.text import Tokenizer\n",
        "from keras.preprocessing.sequence import pad_sequences\n",
        "from keras.utils.np_utils import to_categorical\n",
        "from keras.layers import Embedding\n",
        "from keras.layers import Dense, Input, Flatten\n",
        "from keras.layers import Conv1D, MaxPooling1D, Embedding, Dropout\n",
        "from keras.models import Model\n",
        "from keras.callbacks import ModelCheckpoint\n",
        "import matplotlib.pyplot as plt\n",
        "import gc\n",
        "from keras.callbacks import EarlyStopping\n",
        "from keras.optimizers import Adam\n",
        "from keras.metrics import top_k_categorical_accuracy\n",
        "#plt.switch_backend('agg')\n",
        "%matplotlib inline"
      ],
      "execution_count": 0,
      "outputs": [
        {
          "output_type": "stream",
          "text": [
            "[nltk_data] Downloading package punkt to /root/nltk_data...\n",
            "[nltk_data]   Package punkt is already up-to-date!\n"
          ],
          "name": "stdout"
        }
      ]
    },
    {
      "cell_type": "code",
      "metadata": {
        "id": "O1ZRPEX16GqP",
        "colab_type": "code",
        "outputId": "10459f47-7588-49e0-cc65-27501088dc30",
        "colab": {
          "base_uri": "https://localhost:8080/",
          "height": 168
        }
      },
      "source": [
        "!pip install keras_metrics\n",
        "import keras_metrics as km"
      ],
      "execution_count": 0,
      "outputs": [
        {
          "output_type": "stream",
          "text": [
            "Requirement already satisfied: keras_metrics in /usr/local/lib/python3.6/dist-packages (1.1.0)\n",
            "Requirement already satisfied: Keras>=2.1.5 in /usr/local/lib/python3.6/dist-packages (from keras_metrics) (2.2.5)\n",
            "Requirement already satisfied: keras-preprocessing>=1.1.0 in /usr/local/lib/python3.6/dist-packages (from Keras>=2.1.5->keras_metrics) (1.1.0)\n",
            "Requirement already satisfied: numpy>=1.9.1 in /usr/local/lib/python3.6/dist-packages (from Keras>=2.1.5->keras_metrics) (1.17.5)\n",
            "Requirement already satisfied: six>=1.9.0 in /usr/local/lib/python3.6/dist-packages (from Keras>=2.1.5->keras_metrics) (1.12.0)\n",
            "Requirement already satisfied: h5py in /usr/local/lib/python3.6/dist-packages (from Keras>=2.1.5->keras_metrics) (2.8.0)\n",
            "Requirement already satisfied: scipy>=0.14 in /usr/local/lib/python3.6/dist-packages (from Keras>=2.1.5->keras_metrics) (1.4.1)\n",
            "Requirement already satisfied: pyyaml in /usr/local/lib/python3.6/dist-packages (from Keras>=2.1.5->keras_metrics) (3.13)\n",
            "Requirement already satisfied: keras-applications>=1.0.8 in /usr/local/lib/python3.6/dist-packages (from Keras>=2.1.5->keras_metrics) (1.0.8)\n"
          ],
          "name": "stdout"
        }
      ]
    },
    {
      "cell_type": "code",
      "metadata": {
        "id": "eU4vkM4u6Wln",
        "colab_type": "code",
        "colab": {}
      },
      "source": [
        "root_path='/content/drive/My Drive/offenseval/2020'"
      ],
      "execution_count": 0,
      "outputs": []
    },
    {
      "cell_type": "code",
      "metadata": {
        "id": "FrWhJIr16hwC",
        "colab_type": "code",
        "colab": {}
      },
      "source": [
        "train_data=pd.read_csv(root_path+'/non_english_data/Danish/offenseval-da-training-v1.tsv',delimiter='\\t')"
      ],
      "execution_count": 0,
      "outputs": []
    },
    {
      "cell_type": "code",
      "metadata": {
        "id": "UZ7OozNa7iOJ",
        "colab_type": "code",
        "outputId": "ba0fce4c-91f2-402c-f1c1-17bef035ee26",
        "colab": {
          "base_uri": "https://localhost:8080/",
          "height": 118
        }
      },
      "source": [
        "print(train_data.head())"
      ],
      "execution_count": 0,
      "outputs": [
        {
          "output_type": "stream",
          "text": [
            "     id                                              tweet subtask_a\n",
            "0  3131  Jeg tror det vil være dejlig køligt, men jeg v...       NOT\n",
            "1   711  Så kommer de nok til at investere i en ny cyke...       NOT\n",
            "2  2500  Nu er det jo også de Ikea-aber der har lavet s...       OFF\n",
            "3  2678  128 Varme emails, er vi enige om at det er sex...       NOT\n",
            "4   784  Desværre tyder det på, at amerikanerne er helt...       NOT\n"
          ],
          "name": "stdout"
        }
      ]
    },
    {
      "cell_type": "markdown",
      "metadata": {
        "id": "jmKLSZ1ZCmlr",
        "colab_type": "text"
      },
      "source": [
        "## Tokenization and Split"
      ]
    },
    {
      "cell_type": "code",
      "metadata": {
        "id": "eAYPsuH7Cwqn",
        "colab_type": "code",
        "colab": {}
      },
      "source": [
        "from sklearn.model_selection import train_test_split"
      ],
      "execution_count": 0,
      "outputs": []
    },
    {
      "cell_type": "code",
      "metadata": {
        "id": "N1lQnedCazcs",
        "colab_type": "code",
        "colab": {}
      },
      "source": [
        "from sklearn.model_selection import StratifiedKFold"
      ],
      "execution_count": 0,
      "outputs": []
    },
    {
      "cell_type": "code",
      "metadata": {
        "id": "QgRrcqFTa8JF",
        "colab_type": "code",
        "colab": {}
      },
      "source": [
        "kfold=StratifiedKFold(n_splits=10,shuffle=True,random_state=42)"
      ],
      "execution_count": 0,
      "outputs": []
    },
    {
      "cell_type": "code",
      "metadata": {
        "id": "ZG69bfBpCmCr",
        "colab_type": "code",
        "colab": {}
      },
      "source": [
        "df_train,df_dev=train_test_split(train_data,test_size=0.1)"
      ],
      "execution_count": 0,
      "outputs": []
    },
    {
      "cell_type": "code",
      "metadata": {
        "id": "iCwwGLvpC0MQ",
        "colab_type": "code",
        "colab": {}
      },
      "source": [
        "y_train=(df_train['subtask_a']==\"OFF\").astype(int)\n",
        "y_dev=(df_dev['subtask_a']==\"OFF\").astype(int)"
      ],
      "execution_count": 0,
      "outputs": []
    },
    {
      "cell_type": "code",
      "metadata": {
        "id": "13Y2drVDDMOJ",
        "colab_type": "code",
        "outputId": "e16989ba-dded-4642-f16a-478411fe2acb",
        "colab": {
          "base_uri": "https://localhost:8080/",
          "height": 34
        }
      },
      "source": [
        "print(train_data.shape)"
      ],
      "execution_count": 0,
      "outputs": [
        {
          "output_type": "stream",
          "text": [
            "(2961, 3)\n"
          ],
          "name": "stdout"
        }
      ]
    },
    {
      "cell_type": "code",
      "metadata": {
        "id": "MeSkMR5rDFGo",
        "colab_type": "code",
        "colab": {}
      },
      "source": [
        "max_words =3000\n",
        "max_len = 45\n",
        "tok = Tokenizer(max_words)\n",
        "tok.fit_on_texts(train_data['tweet'].astype(str))"
      ],
      "execution_count": 0,
      "outputs": []
    },
    {
      "cell_type": "code",
      "metadata": {
        "id": "ECe8Cw7PDWzZ",
        "colab_type": "code",
        "colab": {}
      },
      "source": [
        "# sequences_train = tok.texts_to_sequences(df_train['tweet'].astype(str))\n",
        "# vocab_size = len(tok.word_index) + 1\n",
        "# sequences_matrix_train = sequence.pad_sequences(sequences_train,maxlen=max_len,padding='post',truncating='post')"
      ],
      "execution_count": 0,
      "outputs": []
    },
    {
      "cell_type": "code",
      "metadata": {
        "id": "97BorB4kDgyA",
        "colab_type": "code",
        "colab": {}
      },
      "source": [
        "# sequences_dev = tok.texts_to_sequences(df_dev['tweet'].astype(str))\n",
        "# vocab_size = len(tok.word_index) + 1\n",
        "# sequences_matrix_dev = sequence.pad_sequences(sequences_dev,maxlen=max_len,padding='post',truncating='post')"
      ],
      "execution_count": 0,
      "outputs": []
    },
    {
      "cell_type": "code",
      "metadata": {
        "id": "4IoEQG-rDlwo",
        "colab_type": "code",
        "outputId": "c51ebd50-b021-4e9b-aa86-2bcaf76af0bd",
        "colab": {
          "base_uri": "https://localhost:8080/",
          "height": 70
        }
      },
      "source": [
        "from keras.layers import Activation\n",
        "from keras.utils.generic_utils import get_custom_objects\n",
        "\n",
        "def custom_gelu(x):\n",
        "    return 0.5 * x * (1 + tf.tanh(tf.sqrt(2 / np.pi) * (x + 0.044715 * tf.pow(x, 3))))\n",
        "get_custom_objects().update({'custom_gelu': Activation(custom_gelu)})"
      ],
      "execution_count": 0,
      "outputs": [
        {
          "output_type": "stream",
          "text": [
            "WARNING:tensorflow:From /usr/local/lib/python3.6/dist-packages/keras/backend/tensorflow_backend.py:66: The name tf.get_default_graph is deprecated. Please use tf.compat.v1.get_default_graph instead.\n",
            "\n"
          ],
          "name": "stdout"
        }
      ]
    },
    {
      "cell_type": "markdown",
      "metadata": {
        "id": "x_gK1z32GN_O",
        "colab_type": "text"
      },
      "source": [
        "## Model"
      ]
    },
    {
      "cell_type": "code",
      "metadata": {
        "id": "A0R0kDUkGMNp",
        "colab_type": "code",
        "colab": {}
      },
      "source": [
        "word_index=tok.word_index"
      ],
      "execution_count": 0,
      "outputs": []
    },
    {
      "cell_type": "code",
      "metadata": {
        "id": "ckaNnpbVGbjo",
        "colab_type": "code",
        "outputId": "52229acf-bd62-4f74-e951-b62ca38fcc7f",
        "colab": {
          "base_uri": "https://localhost:8080/",
          "height": 54
        }
      },
      "source": [
        "print(word_index)"
      ],
      "execution_count": 0,
      "outputs": [
        {
          "output_type": "stream",
          "text": [
            "{'er': 1, 'det': 2, 'at': 3, 'og': 4, 'i': 5, 'en': 6, 'jeg': 7, 'ikke': 8, 'på': 9, 'de': 10, 'der': 11, 'til': 12, 'for': 13, 'så': 14, 'med': 15, 'har': 16, 'af': 17, 'den': 18, 'som': 19, 'kan': 20, 'du': 21, 'et': 22, 'vi': 23, 'men': 24, 'man': 25, 'om': 26, 'var': 27, 'skal': 28, 'være': 29, 'da': 30, 'han': 31, 'bare': 32, 'hvis': 33, 'hvor': 34, 'også': 35, 'her': 36, 'fra': 37, 'eller': 38, 'url': 39, 'jo': 40, 'hvad': 41, 'godt': 42, 'noget': 43, 'når': 44, 'user': 45, 'lige': 46, 'ved': 47, 'nu': 48, 'ud': 49, 'sig': 50, 'op': 51, 'dem': 52, 'alle': 53, 'danmark': 54, 'hun': 55, 'vil': 56, 'meget': 57, 'mig': 58, 'kunne': 59, 'lidt': 60, 'over': 61, 'have': 62, 'selv': 63, 'bliver': 64, 'deres': 65, 'nok': 66, 'dig': 67, 'ville': 68, 'må': 69, 'min': 70, 'se': 71, 'få': 72, 'helt': 73, 'dansk': 74, 'havde': 75, 'r': 76, 'år': 77, 'vores': 78, 'ja': 79, 'skulle': 80, 'mere': 81, 'kommer': 82, 'folk': 83, 'alt': 84, 'mange': 85, 'end': 86, 'ser': 87, 'danske': 88, 'os': 89, 'svensken': 90, 'andre': 91, 'aldrig': 92, 'sådan': 93, 'gør': 94, 'kun': 95, 'får': 96, 'din': 97, 'god': 98, 'gang': 99, 'efter': 100, 'nogen': 101, 'gøre': 102, 'fordi': 103, 'ind': 104, 'sverige': 105, 'hvorfor': 106, 'hele': 107, 'dag': 108, 'vel': 109, 'hjem': 110, 'går': 111, 'været': 112, 'tror': 113, 'måske': 114, 'nogle': 115, 'samme': 116, 'dog': 117, 'igen': 118, 'blive': 119, 'lort': 120, 'burde': 121, 'dette': 122, 'altid': 123, 'uden': 124, 'hvordan': 125, 'siger': 126, 'denne': 127, 'lille': 128, 'ingen': 129, 'sgu': 130, 'flere': 131, 'hans': 132, 'bedre': 133, 'mand': 134, 'sin': 135, 'blev': 136, 'andet': 137, 'synes': 138, 'penge': 139, 'altså': 140, 'kom': 141, 'før': 142, 'tak': 143, 'är': 144, 'ham': 145, 'mit': 146, 'siden': 147, 'tid': 148, 'komme': 149, 'sige': 150, 'anden': 151, 'eneste': 152, 'måde': 153, 'to': 154, 'ned': 155, 'stadig': 156, 'ting': 157, 'mod': 158, 'tage': 159, 'tilbage': 160, 'verden': 161, 'nej': 162, 'hver': 163, 'set': 164, 'land': 165, 'ret': 166, 'hold': 167, 'håber': 168, 'mener': 169, 'ellers': 170, 'under': 171, 'næste': 172, 'fik': 173, 'gå': 174, 'blevet': 175, 'norge': 176, 'par': 177, 'och': 178, 'hende': 179, 'finde': 180, 'endnu': 181, '2': 182, 'bedste': 183, 'virkelig': 184, 'længe': 185, 'hvem': 186, 'fucking': 187, 'fuck': 188, 'lad': 189, 'svensk': 190, 'faktisk': 191, 'att': 192, 'bruger': 193, 'gerne': 194, 'derfor': 195, 'billede': 196, 'giver': 197, 'stedet': 198, 'næsten': 199, 'selvfølgelig': 200, 'inden': 201, 'jag': 202, 'del': 203, 'smukt': 204, 'mine': 205, 'alligevel': 206, 'første': 207, 'danskere': 208, 'engang': 209, 'sjovt': 210, 'fandme': 211, '3': 212, 'forstår': 213, 'fået': 214, 'mennesker': 215, 'the': 216, 'lavet': 217, 'tænker': 218, 'mens': 219, 'tager': 220, 'står': 221, 'væk': 222, 'bruge': 223, 'heller': 224, 'børn': 225, 'grund': 226, 'd': 227, 'flag': 228, 'arbejde': 229, 'sidste': 230, 'svenske': 231, 'lande': 232, 'røde': 233, 'hendes': 234, 'mest': 235, 'give': 236, 'sikkert': 237, 'politiet': 238, 'inte': 239, 'betale': 240, 'langt': 241, 'kvinder': 242, 'kæft': 243, 'omkring': 244, 'side': 245, 'fantastisk': 246, '5': 247, 'holde': 248, 'egen': 249, 'danmag': 250, 'gode': 251, 'begge': 252, 'brug': 253, 'sagt': 254, 'rigtig': 255, 'føj': 256, 'store': 257, 'bag': 258, 'frem': 259, 'mænd': 260, 'sted': 261, 'sku': 262, 'glad': 263, 'sagde': 264, 'elsker': 265, 'ni': 266, 'syntes': 267, 'dage': 268, 'svenskere': 269, 'lære': 270, 'mindre': 271, 'sammen': 272, 'familie': 273, 'intet': 274, 'martin': 275, 'svært': 276, 'lave': 277, 'stor': 278, 'gået': 279, 'ligger': 280, 'mangler': 281, 'hvilket': 282, 'længere': 283, 'respekt': 284, 'sit': 285, 'liv': 286, 'fint': 287, 'sker': 288, 'vide': 289, 'taget': 290, 'ord': 291, 'gange': 292, 'fanden': 293, 'edit': 294, 'a': 295, 'landet': 296, 'bor': 297, 'unge': 298, 'klar': 299, 'gamle': 300, 'sidde': 301, 'gik': 302, 'dk': 303, 'leve': 304, 'fedt': 305, 'tog': 306, 'lol': 307, 'plads': 308, 'overhovedet': 309, 'laver': 310, 'slet': 311, 'husk': 312, 'flot': 313, 'c': 314, 'nogensinde': 315, 'billedet': 316, 'desværre': 317, 'ha': 318, 'tro': 319, 'kort': 320, 'dansker': 321, '1': 322, 'df': 323, 'venstre': 324, 'hørt': 325, 'manden': 326, 'mon': 327, 'bør': 328, 'blot': 329, 'stå': 330, '10': 331, 'vist': 332, 'venner': 333, 'lade': 334, 'osv': 335, 'skat': 336, 'lortet': 337, 'københavn': 338, 'slags': 339, 'ligesom': 340, 'sorte': 341, 'stort': 342, 'ej': 343, 'selvom': 344, 'musik': 345, 'hører': 346, 'of': 347, 'is': 348, 'kører': 349, 'dit': 350, 'gad': 351, 'dele': 352, 'minutter': 353, 'lyder': 354, 'ude': 355, 'både': 356, 'finder': 357, 'vis': 358, 'køre': 359, 'blandt': 360, 'pga': 361, 'rejse': 362, 'rigtigt': 363, 'mellem': 364, 'betyder': 365, 'ofte': 366, 'allerede': 367, 'høre': 368, '100': 369, 'især': 370, 'kaj': 371, 'kvinde': 372, 'mad': 373, 'rigtige': 374, 'tag': 375, 'muslimer': 376, 'hjælpe': 377, 'jul': 378, 'meme': 379, 'svenskerne': 380, 'hos': 381, 'lov': 382, 'barn': 383, 'tænke': 384, 'lars': 385, 'ny': 386, 'én': 387, 'hvornår': 388, 'haha': 389, 'usa': 390, 'trump': 391, 'rundt': 392, 'generelt': 393, 'stolte': 394, '30': 395, 'hårdt': 396, 'hjemme': 397, 'virker': 398, 'spørgsmål': 399, 'værste': 400, 'kone': 401, 'snart': 402, '0': 403, 'forstå': 404, 'för': 405, 'støtte': 406, 'gammel': 407, 'norsk': 408, 'tale': 409, 'mindste': 410, 'lorte': 411, 'hellere': 412, 'urlå': 413, 'hvide': 414, 'nå': 415, 'gjort': 416, 'disse': 417, 'sommer': 418, 'tiden': 419, '20': 420, 'ik': 421, 'lide': 422, 'blir': 423, 'største': 424, 'engelsk': 425, 'dine': 426, 'svensker': 427, 'sikker': 428, 'holder': 429, 'hovedet': 430, 'top': 431, 'å': 432, 'snakke': 433, 'reddit': 434, 'e': 435, 'sine': 436, 'pølser': 437, 'sætte': 438, 'mindst': 439, 'verdens': 440, 'muligt': 441, 'vise': 442, 'stærkt': 443, 'valg': 444, 'problem': 445, 'hvert': 446, 'klamme': 447, 'danskjävlar': 448, 'gennem': 449, 'røven': 450, 'ens': 451, 'imens': 452, 'historie': 453, 'indtil': 454, 'you': 455, 'ferie': 456, 'kr': 457, 'blå': 458, 'pasta': 459, 'ægte': 460, 't': 461, 'bedring': 462, 'upvote': 463, 'ju': 464, 'prøver': 465, 'uanset': 466, 'skid': 467, 'forældre': 468, 'hedder': 469, 'england': 470, 'gider': 471, 'skyld': 472, 'ligner': 473, 'imod': 474, '12': 475, 'resten': 476, 'føler': 477, 'død': 478, 'snakker': 479, 'satan': 480, 'øl': 481, 'pct': 482, 'kender': 483, 'stod': 484, 'foran': 485, 'politikere': 486, 'hjælp': 487, 'dårlig': 488, 'rejser': 489, 'handler': 490, 'fandt': 491, 'smide': 492, 'g': 493, 'dagen': 494, '7': 495, 'klart': 496, 'galt': 497, '15': 498, 'u': 499, 'stoppe': 500, 'egentlig': 501, 'navn': 502, 'gud': 503, 'værd': 504, 'begynder': 505, 'syg': 506, 'skåne': 507, 'simpelthen': 508, 'betaler': 509, 'findes': 510, 'timer': 511, 'gratis': 512, 'enig': 513, 'undgå': 514, 'fred': 515, 'perfekt': 516, 'øvrigt': 517, 'prøve': 518, 'tænk': 519, 's': 520, 'tåre': 521, 'bra': 522, 'denmark': 523, 'voldtægt': 524, 'ikk': 525, 'shit': 526, 'alene': 527, 'foregår': 528, 'islam': 529, 'større': 530, 'al': 531, 'nummer': 532, 'drenge': 533, 'danmarks': 534, 'derefter': 535, 'ekstra': 536, 'in': 537, 'skriver': 538, 'forkert': 539, 'up': 540, 'fejl': 541, 'grader': 542, 'spise': 543, 'natten': 544, 'videre': 545, 'bo': 546, 'p': 547, 'hvilken': 548, 'tråd': 549, 'eksempel': 550, 'sagen': 551, 'mening': 552, 'hurtigt': 553, 'skrive': 554, 'idag': 555, 'værre': 556, 'taler': 557, 'huske': 558, 'stykke': 559, 'ihjel': 560, 'troede': 561, 'livet': 562, 'migmig': 563, 'små': 564, 'fleste': 565, 'skam': 566, 'starte': 567, 'ønske': 568, 'fundet': 569, 'seriøst': 570, 'haft': 571, 'f': 572, 'hvil': 573, 'sprog': 574, 'europa': 575, 'syge': 576, 'inde': 577, 'samtidig': 578, 'vej': 579, 'o': 580, 'vand': 581, 'pis': 582, 'vejen': 583, 'tur': 584, 'alla': 585, 'kæmpe': 586, 'dannebrog': 587, 'stolt': 588, 'sad': 589, 'igennem': 590, 'hen': 591, 'fald': 592, 'nye': 593, 'varme': 594, 'stemme': 595, 'krig': 596, 'skole': 597, 'arbejder': 598, 'heldigvis': 599, 'forbi': 600, 'tre': 601, '50': 602, 'national': 603, 'bjarne': 604, 'steder': 605, 'sidst': 606, 'där': 607, 'hahaha': 608, 'sag': 609, 'eu': 610, 'person': 611, '4': 612, 'fravær': 613, 'støtter': 614, 'grine': 615, 'talt': 616, 'gulvet': 617, 'forlade': 618, 'hinanden': 619, 'fan': 620, 'spil': 621, 'virkeligheden': 622, 'fatter': 623, 'møde': 624, 'gjorde': 625, 'personligt': 626, 'bror': 627, 'fx': 628, 'starter': 629, 'x200b': 630, 'koldt': 631, 'vildt': 632, 'endelig': 633, 'løn': 634, 'fast': 635, 'lang': 636, 'absolut': 637, 'viser': 638, 'island': 639, 'finland': 640, 'frederik': 641, 'følge': 642, 'tal': 643, 'av': 644, 'slå': 645, 'tænkte': 646, 'satans': 647, 'passe': 648, 'nemt': 649, 'helvede': 650, 'fuldstændig': 651, 'korrekt': 652, '14': 653, 'billeder': 654, 'xd': 655, '8': 656, 'far': 657, 'check': 658, 'spillet': 659, 'tjene': 660, 'an': 661, 'jeres': 662, 'guld': 663, 'kæreste': 664, 'mor': 665, 'tv2': 666, 'hørte': 667, 'passer': 668, 'folket': 669, 'dronning': 670, 'sidder': 671, 'post': 672, 'subreddit': 673, 'højt': 674, 'grænsen': 675, 'vad': 676, 'sang': 677, 'først': 678, 'vold': 679, 'købe': 680, 'hår': 681, 'måtte': 682, 'begyndte': 683, 'pølse': 684, 'jer': 685, 'givet': 686, 'link': 687, 'form': 688, 'holdning': 689, 'gav': 690, 'tidspunkt': 691, 'spørger': 692, 'dumt': 693, '000': 694, 'eks': 695, 'dårligt': 696, 'ganske': 697, 'stærk': 698, 'kalde': 699, 'ene': 700, 'till': 701, 'bara': 702, 'it': 703, 'udover': 704, 'problemer': 705, 'kælling': 706, 'kalder': 707, 'samt': 708, 'and': 709, 'hader': 710, 'prøv': 711, 'årige': 712, 'relevant': 713, 'video': 714, '99': 715, 'højere': 716, 'vidste': 717, 'kommentar': 718, 'spille': 719, 'tingene': 720, 'frihed': 721, 'typisk': 722, 'idiot': 723, '24': 724, 'styr': 725, 'direkte': 726, 'totalt': 727, 'behøver': 728, 'andersen': 729, 'all': 730, 'varmt': 731, 'dejligt': 732, 'falske': 733, 'vær': 734, 'urgent': 735, 'rød': 736, 'hej': 737, 'swarje': 738, 'flytte': 739, 'sikkerhed': 740, 'bange': 741, 'bruges': 742, 'fredag': 743, 'regler': 744, 'lykke': 745, 'ung': 746, '1x': 747, 'ven': 748, 'dejlig': 749, 'lægge': 750, 'amerikanerne': 751, 'ben': 752, 'mærke': 753, 'fare': 754, 'bevise': 755, 'slår': 756, 'glemmer': 757, 'ses': 758, 'afsted': 759, 'dronningen': 760, '2018': 761, 'ok': 762, 'sq': 763, 'dejlige': 764, 'netop': 765, 'personer': 766, 'toppen': 767, 'pengene': 768, 'tjener': 769, 'heldig': 770, 'svenskens': 771, 'efterhånden': 772, 'lader': 773, 'dr': 774, 'læse': 775, 'svenska': 776, 'on': 777, 'religion': 778, 'vet': 779, 'sælger': 780, 'grin': 781, 'dybt': 782, 'tårer': 783, 'filmen': 784, 'go': 785, 'tæt': 786, 'sælge': 787, 'nazister': 788, 'forslag': 789, 'här': 790, 'tragisk': 791, 'minder': 792, 'lukke': 793, 'specielt': 794, 'dét': 795, 'kriminelle': 796, 'bryster': 797, 'tydeligvis': 798, 'desuden': 799, 'kroner': 800, 'giv': 801, 'idioter': 802, 'danish': 803, 'senere': 804, 'kim': 805, 'me': 806, 'enhver': 807, 'forhold': 808, 'nyt': 809, 'kontekst': 810, 'tidligere': 811, 'sort': 812, 'sikke': 813, 'nød': 814, 'photoshop': 815, 'hr': 816, 'holger': 817, 'tvivler': 818, 'løgn': 819, 'herhjemme': 820, 'smukke': 821, 'vidst': 822, 'græder': 823, 'bil': 824, 'sende': 825, 'm': 826, 'vejr': 827, 'samfundet': 828, 'udlændinge': 829, 'svin': 830, 'lignende': 831, 'stille': 832, 'døren': 833, 'hoved': 834, 'ad': 835, 'bestemt': 836, '40': 837, 'kørte': 838, 'dermed': 839, 'let': 840, 'helst': 841, 'kigge': 842, 'engelske': 843, 'hygge': 844, 'oppe': 845, 'lange': 846, 'læser': 847, 'ta': 848, 'dumme': 849, 'reklame': 850, 'dum': 851, 'magt': 852, 'tider': 853, '9': 854, 'hva': 855, 'koster': 856, 'sex': 857, 'co2': 858, 'ryger': 859, 'politik': 860, 'naturligvis': 861, 'dødsstraf': 862, 'hjerte': 863, 'fri': 864, 'fuld': 865, 'dom': 866, 'kongen': 867, 'fin': 868, 'kors': 869, 'em': 870, 'kristne': 871, 'kære': 872, 'regn': 873, 'sager': 874, 'smid': 875, 'ske': 876, 'hurra': 877, 'danskerne': 878, 'køb': 879, 'høj': 880, 'falsk': 881, 'politiker': 882, 'medier': 883, 'bilen': 884, 'brugte': 885, 'nødder': 886, 'held': 887, 'trist': 888, 'klog': 889, 'genialt': 890, 'hvidt': 891, 'farve': 892, 'dagens': 893, 'overfor': 894, 'ren': 895, 'tillykke': 896, 'fugtigt': 897, 'dér': 898, 'orden': 899, 'udlandet': 900, 'studerende': 901, 'eb': 902, 'vælger': 903, 'spiller': 904, 'forsøger': 905, 'gruppe': 906, 'smidt': 907, 'uge': 908, 'måneder': 909, 'klare': 910, 'debat': 911, 'my': 912, 'respektløs': 913, 'send': 914, 'hvid': 915, 'konge': 916, 'spiser': 917, 'korruption': 918, 'margrethe': 919, 'majestæt': 920, 'træt': 921, 'masse': 922, 'forsvare': 923, 'straf': 924, 'peger': 925, 'siddende': 926, 'flaske': 927, 'istedet': 928, 'åbenbart': 929, 'sub': 930, 'vælge': 931, 'parti': 932, 'hov': 933, 'info': 934, 'læs': 935, 'historien': 936, 'synd': 937, 'stikker': 938, 'lokale': 939, 'skifte': 940, '6': 941, 'enten': 942, 'pokker': 943, '25': 944, 'begyndt': 945, 'fyldt': 946, 'norden': 947, 'tabt': 948, 'koge': 949, 'lamper': 950, 'tide': 951, 'pas': 952, 'trods': 953, 'angribe': 954, 'regner': 955, 'militær': 956, 'larsen': 957, 'interesse': 958, 'mega': 959, 'gælder': 960, 'ondt': 961, 'skide': 962, 'rent': 963, 'brugt': 964, 'super': 965, 'h': 966, 'stakkels': 967, 'sur': 968, 'eget': 969, 'falder': 970, 'sindsyge': 971, 'serie': 972, 'rusland': 973, 'nr': 974, 'færøerne': 975, 'glemt': 976, 'bornholm': 977, 'politikerne': 978, 'sjov': 979, 'beskidt': 980, 'job': 981, 'vent': 982, 'start': 983, 'pisse': 984, 'antal': 985, 'høje': 986, \"hva'\": 987, 'savner': 988, 'netto': 989, 'case': 990, 'beviser': 991, 'gengæld': 992, 'danskar': 993, 'luk': 994, 'evt': 995, 'tvivl': 996, 'kasse': 997, 'billigt': 998, 'faldt': 999, 'startede': 1000, 'memes': 1001, 'grundet': 1002, 'dere': 1003, 'indenfor': 1004, 'fortælle': 1005, 'angreb': 1006, 'kommet': 1007, 'glædelig': 1008, 'svare': 1009, 'facebook': 1010, 'urlære': 1011, 'fortjener': 1012, 'hemmelig': 1013, 'news': 1014, 'sjove': 1015, 'nævne': 1016, \"'\": 1017, 'anklage': 1018, 'byen': 1019, 'this': 1020, 'vandt': 1021, 'skål': 1022, 'løbet': 1023, 'husker': 1024, 'vor': 1025, 'live': 1026, 'herinde': 1027, 'samfund': 1028, 'morgen': 1029, 'nede': 1030, 'hverken': 1031, 'plejer': 1032, 'etc': 1033, 'hundrede': 1034, 'normalt': 1035, 'aalborg': 1036, 'totesmessenger': 1037, 'kiggede': 1038, 'oh': 1039, 'juridisk': 1040, 'su': 1041, 'døde': 1042, 'ikea': 1043, 'enige': 1044, 'kontrol': 1045, 'dårligere': 1046, 'olsen': 1047, 'kriminalitet': 1048, 'maden': 1049, 'ende': 1050, 'slut': 1051, 'sød': 1052, 'sove': 1053, 'unger': 1054, 'vente': 1055, 'toget': 1056, 'teksten': 1057, 'slap': 1058, 'nemlig': 1059, 'bank': 1060, 'ligeglad': 1061, 'lugter': 1062, 'tar': 1063, 'kendt': 1064, 'køn': 1065, 'straffe': 1066, 'ut': 1067, 'gymnasiet': 1068, 'alkohol': 1069, 'stoffer': 1070, 'tråden': 1071, 'artiklen': 1072, 'sludder': 1073, 'brødre': 1074, 'havet': 1075, 'lærer': 1076, 'kaldt': 1077, 'begå': 1078, 'økonomisk': 1079, 'fed': 1080, 'utroligt': 1081, 'ordet': 1082, 'vikinger': 1083, 'kong': 1084, 'henrik': 1085, 'propaganda': 1086, 'partier': 1087, 'købte': 1088, 'smukkeste': 1089, 'vinder': 1090, 'stil': 1091, 'dansken': 1092, 'vandet': 1093, 'solen': 1094, 'kristendommen': 1095, 'nordiske': 1096, 'røv': 1097, 'tydeligt': 1098, 'fy': 1099, 'fakta': 1100, 'hmmm': 1101, 'enkelt': 1102, 'ph': 1103, 'genial': 1104, 'joke': 1105, 'find': 1106, 'vare': 1107, 'poste': 1108, 'chance': 1109, 'by': 1110, 'anders': 1111, 'not': 1112, 'komma': 1113, 'læst': 1114, 'nyhederne': 1115, 'wow': 1116, 'uskyld': 1117, 'yderst': 1118, 'sjældent': 1119, 'indbrud': 1120, 'situation': 1121, 'klamt': 1122, 'nærmest': 1123, 'norske': 1124, 'fanme': 1125, 'rolig': 1126, 'kontakt': 1127, 'betalt': 1128, 'egne': 1129, 'flyttet': 1130, 'sandheden': 1131, 'ramme': 1132, 'lagt': 1133, 'lovgivning': 1134, 'pludselig': 1135, 'blomster': 1136, 'lyst': 1137, 'konsekvenser': 1138, 'smuk': 1139, 'like': 1140, 'prins': 1141, 'pr': 1142, 'klokken': 1143, 'svaner': 1144, 'klogt': 1145, 'fædrelandet': 1146, 'lønninger': 1147, 'bättre': 1148, 'artikel': 1149, 'forskel': 1150, 'inglin': 1151, 'folketinget': 1152, 'endda': 1153, 'skolen': 1154, '😂': 1155, 'satme': 1156, 'koger': 1157, 'tyske': 1158, 'hmm': 1159, 'point': 1160, 'x': 1161, 'året': 1162, 'or': 1163, 'grænsekontrol': 1164, 'mørke': 1165, 'forskellen': 1166, 'oftere': 1167, 'hurtig': 1168, 'hey': 1169, 'internettet': 1170, 'kvalitets': 1171, 'japan': 1172, 'kronprins': 1173, 'union': 1174, 'ældre': 1175, 'ender': 1176, 'jord': 1177, 'pointen': 1178, 'ca': 1179, 'piger': 1180, '16': 1181, 'argument': 1182, 'svar': 1183, 'pastaen': 1184, 'interview': 1185, 'indlæg': 1186, 'besked': 1187, 'kaldte': 1188, 'fisk': 1189, 'repræsenterer': 1190, 'fake': 1191, 'lever': 1192, 'teknisk': 1193, 'luft': 1194, 'endte': 1195, 'herfra': 1196, 'då': 1197, 'linket': 1198, 'pige': 1199, 'vore': 1200, 'ka': 1201, 'stemmer': 1202, 'skamme': 1203, 'sandt': 1204, 'velfærd': 1205, 'sætter': 1206, \"det'\": 1207, 'drikker': 1208, 'ødelægge': 1209, 'ulovligt': 1210, 'jävlar': 1211, 'øjeblik': 1212, 'kørt': 1213, 'forsiden': 1214, 'glade': 1215, 'fair': 1216, 'patter': 1217, 'urlår': 1218, 'sociale': 1219, 'humor': 1220, 'antidepressive': 1221, '75': 1222, 'blod': 1223, 'skidt': 1224, 'føle': 1225, 'falde': 1226, 'klam': 1227, 'kones': 1228, 'ringe': 1229, 'lig': 1230, 'lav': 1231, 'message': 1232, 'idé': 1233, 'billig': 1234, 'årig': 1235, 'scene': 1236, 'skrevet': 1237, 'satte': 1238, 'ryge': 1239, 'postnord': 1240, 'lært': 1241, 'gym': 1242, 'sammenligne': 1243, 'siges': 1244, 'abort': 1245, 'særligt': 1246, 'løsning': 1247, 'ordentligt': 1248, 'omgående': 1249, 'sendt': 1250, 'gir': 1251, 'kartofler': 1252, 'ældste': 1253, 'ide': 1254, 'biler': 1255, 'gammelt': 1256, 'spørge': 1257, 'play': 1258, 'arrogante': 1259, 'boet': 1260, 'ligge': 1261, '21': 1262, 'flygtning': 1263, 'drømme': 1264, 'niveau': 1265, 'banken': 1266, 'sejr': 1267, 'jamen': 1268, 'straffes': 1269, 'ryggen': 1270, 'måste': 1271, 'hålla': 1272, 'karakter': 1273, 'klasse': 1274, 'vedkommende': 1275, 'procent': 1276, 'sure': 1277, 'jävla': 1278, 'sindssygt': 1279, 'sider': 1280, 'undskyld': 1281, 'ifølge': 1282, 'lite': 1283, 'säger': 1284, 'lego': 1285, 'sange': 1286, 'opstemt': 1287, 'rydde': 1288, 'regningen': 1289, 'satire': 1290, 'grineren': 1291, 'øje': 1292, 'vidt': 1293, 'slået': 1294, 'millioner': 1295, 'your': 1296, 'gut': 1297, 'flygtninge': 1298, 'gule': 1299, 'områder': 1300, 'ligegyldig': 1301, 'tyskland': 1302, 'vælgere': 1303, 'linke': 1304, 'elske': 1305, 'søde': 1306, 'hed': 1307, 'glas': 1308, 'møgunger': 1309, 'jesus': 1310, 'kendte': 1311, 'velkommen': 1312, 'pæn': 1313, 'spillede': 1314, 'lurpak': 1315, 'north': 1316, 'anelse': 1317, 'ingenting': 1318, 'mer': 1319, 'enn': 1320, 'løbe': 1321, 'spist': 1322, 'seneste': 1323, '17': 1324, 'billet': 1325, 'he': 1326, 'kvalitet': 1327, 'tendens': 1328, 'virksomheder': 1329, 'almindelige': 1330, 'vigtigt': 1331, 'well': 1332, 'skræmmende': 1333, 'banden': 1334, 'please': 1335, 'råd': 1336, 'derovre': 1337, 'udenlandsk': 1338, 'overtage': 1339, 'pind': 1340, 'here': 1341, 'morgenen': 1342, 'nice': 1343, 'bli': 1344, 'kassen': 1345, 'sandhed': 1346, 'sweden': 1347, 'munden': 1348, 'overraskende': 1349, 'krænkende': 1350, 'tack': 1351, 'but': 1352, 'morten': 1353, 'søn': 1354, 'familien': 1355, 'skandinavien': 1356, 'ry': 1357, 'feminisme': 1358, 'kanon': 1359, 'krop': 1360, 'kostede': 1361, 'nordmænd': 1362, 'nemmere': 1363, 'løkke': 1364, 'reaktion': 1365, 'viking': 1366, 'tekst': 1367, 'ligestilling': 1368, 'stillet': 1369, 'smule': 1370, 'størstedelen': 1371, 'født': 1372, 'evigt': 1373, 'sover': 1374, 'stukket': 1375, 'stadigt': 1376, 'politiske': 1377, 'grimme': 1378, 'sharia': 1379, 'dårlige': 1380, 'stolthed': 1381, 'rammer': 1382, 'broen': 1383, 'præcist': 1384, 'hopper': 1385, 'bekymret': 1386, '½': 1387, 'ødelægger': 1388, 'fat': 1389, 'styre': 1390, 'suk': 1391, 'dengang': 1392, 'bevare': 1393, 'magen': 1394, 'svaret': 1395, 'ansvar': 1396, 'hjemmefra': 1397, 'nuværende': 1398, 'nederste': 1399, 'tør': 1400, 'højhed': 1401, 'version': 1402, 'antallet': 1403, 'medaljer': 1404, 'cyklister': 1405, 'miljø': 1406, 'undskyldning': 1407, 'ist': 1408, '2016': 1409, 'tilfælde': 1410, 'lå': 1411, 'jorden': 1412, 'tanke': 1413, 'hus': 1414, 'rap': 1415, 'indvandrere': 1416, 'halvt': 1417, 'ett': 1418, 'dyr': 1419, 'flok': 1420, 'krav': 1421, 'overbevist': 1422, 'staten': 1423, 'britta': 1424, 'regeringen': 1425, 'ligeglade': 1426, 'opmærksomme': 1427, 'deltage': 1428, 'påstår': 1429, 'va': 1430, 'planer': 1431, 'nyd': 1432, 'vådt': 1433, 'so': 1434, 'good': 1435, 'undtagelse': 1436, 'danska': 1437, 'karma': 1438, 'farvel': 1439, 'tallet': 1440, 'anklager': 1441, 'ligeså': 1442, 'hård': 1443, 'knægt': 1444, 'bringe': 1445, 'mund': 1446, 'opfører': 1447, 'nærheden': 1448, 'slemt': 1449, 'ligefrem': 1450, 'stop': 1451, '200': 1452, 'aarhus': 1453, 'boller': 1454, 'beslutning': 1455, 'puste': 1456, 'ejendom': 1457, 'landets': 1458, 'kamp': 1459, 'lyde': 1460, 'følger': 1461, 'øst': 1462, 'længst': 1463, 'ubåd': 1464, 'bl': 1465, 'amerikanske': 1466, 'ønsker': 1467, '28': 1468, 'flygte': 1469, 'klassisk': 1470, 'opslag': 1471, 'bitch': 1472, 'flaget': 1473, 'kongeriget': 1474, 'upvoted': 1475, 'dømt': 1476, 'varmer': 1477, 'yndigt': 1478, 'opdateret': 1479, 'liste': 1480, 'baseret': 1481, 'europæiske': 1482, 'lovgivningen': 1483, 'krone': 1484, 'downvote': 1485, 'utrolig': 1486, 'sjælland': 1487, 'kommunen': 1488, 'sande': 1489, 'hur': 1490, 'john': 1491, 'faldet': 1492, 'ama': 1493, 'problemet': 1494, 'grønland': 1495, 'kode': 1496, 'omskæring': 1497, 'bevares': 1498, 'lavede': 1499, 'tjek': 1500, 'grænser': 1501, 'bogstaveligt': 1502, 'kl': 1503, 'oversat': 1504, 'aftenen': 1505, 'stemte': 1506, 'ændret': 1507, 'ligemeget': 1508, 'anderledes': 1509, 'øjne': 1510, 'grad': 1511, 'offentlige': 1512, 'more': 1513, 'grønt': 1514, 'hvilke': 1515, 'repost': 1516, 'uger': 1517, 'lækkert': 1518, 'føles': 1519, 'gangen': 1520, 'helvete': 1521, 'no': 1522, 'fælles': 1523, 'enormt': 1524, 'hjælper': 1525, 'oc': 1526, 'frisk': 1527, 'loot': 1528, 'forældrene': 1529, 'ironisk': 1530, 'lavere': 1531, 'andelen': 1532, 'alder': 1533, 'när': 1534, 'ris': 1535, 'vende': 1536, 'också': 1537, 'afrika': 1538, 'skabe': 1539, 'henter': 1540, 'bagefter': 1541, 'aften': 1542, 'kunde': 1543, 'virkeligt': 1544, 'natur': 1545, 'teknik': 1546, 'stjæle': 1547, 'rødt': 1548, 'kørestol': 1549, 'sæk': 1550, 'damn': 1551, 'tættere': 1552, 'kolde': 1553, 'upvotes': 1554, '45': 1555, 'skridt': 1556, 'smager': 1557, 'fryseren': 1558, 'retning': 1559, 'drabelige': 1560, 'inhumane': 1561, 'biblen': 1562, 'media': 1563, 'file': 1564, 'world': 1565, 'laws': 1566, 'svg': 1567, 'korrupt': 1568, 'links': 1569, 'soldater': 1570, 'nation': 1571, 'indrømme': 1572, 'vinduer': 1573, 'udenfor': 1574, 'varm': 1575, 'luften': 1576, 'prøvet': 1577, 'online': 1578, 'angår': 1579, 'tysk': 1580, 'pølsevogn': 1581, 'bot': 1582, 'compose': 1583, 'sproget': 1584, 'overlegenhed': 1585, 'besøg': 1586, 'originale': 1587, 'overgået': 1588, 'tasken': 1589, 'kaster': 1590, 'løb': 1591, 'omgang': 1592, 'rimelig': 1593, 'igår': 1594, 'butik': 1595, 'roskilde': 1596, 'overveje': 1597, 'vender': 1598, 'titlen': 1599, 'perfekte': 1600, 'esben': 1601, 'universitet': 1602, 'plagiat': 1603, 'sluppet': 1604, 'ærlig': 1605, 'lyver': 1606, 'fucked': 1607, 'ændre': 1608, 'kogt': 1609, 'kigger': 1610, 'dommerkendelse': 1611, 'mælk': 1612, 'personen': 1613, 'cykel': 1614, 'aber': 1615, 'opkald': 1616, 'mareridt': 1617, 'farlig': 1618, 'måder': 1619, '2013': 1620, 'skriv': 1621, 'brugere': 1622, 'blade': 1623, 'tilfreds': 1624, 'ordenligt': 1625, 'forestille': 1626, 'ét': 1627, 'formel': 1628, 'gælde': 1629, 'lege': 1630, 'gæt': 1631, 'salte': 1632, 'svær': 1633, 'svane': 1634, 'stoppet': 1635, 'amager': 1636, 'fædreland': 1637, 'slog': 1638, 'rosinboller': 1639, 'løber': 1640, 'computer': 1641, 'sæt': 1642, 'historisk': 1643, 'rodet': 1644, 'muligheden': 1645, 'software': 1646, 'forventer': 1647, 'brænd': 1648, 'rejst': 1649, 'farligt': 1650, 'hjemland': 1651, 'ynkelige': 1652, 'retten': 1653, 'bevis': 1654, 'was': 1655, 'ein': 1656, 'die': 1657, 'universitetet': 1658, 'planlægge': 1659, 'skylden': 1660, 'över': 1661, 'era': 1662, 'smörlösa': 1663, 'clickbait': 1664, 'meste': 1665, 'fuldstændigt': 1666, 'misvisende': 1667, 'bad': 1668, 'munnen': 1669, '22': 1670, 'kanske': 1671, 'intro': 1672, 'tænkt': 1673, 'halvdelen': 1674, 'pinligt': 1675, 'mente': 1676, 'frygtelig': 1677, 'hjemlandet': 1678, 'forklare': 1679, 'fest': 1680, 'cringe': 1681, 'venstrefløjen': 1682, 'gris': 1683, 'ærligt': 1684, 'medierne': 1685, 'grinte': 1686, 'guf': 1687, 'øjnene': 1688, 'triller': 1689, 'opfordrer': 1690, 'sf': 1691, 'too': 1692, 'grå': 1693, '95': 1694, 'gammeldags': 1695, 'køber': 1696, 'sendes': 1697, 'hahahaha': 1698, 'voldsomt': 1699, 'forklaring': 1700, 'herkomst': 1701, 'velfærdssamfund': 1702, 'skorsten': 1703, 'ført': 1704, 'menneskeheden': 1705, 'kræve': 1706, 'rette': 1707, 'snydt': 1708, 'driver': 1709, 'sandsynligt': 1710, 'foreslå': 1711, 'bygge': 1712, 'niels': 1713, 'størrelse': 1714, 'iorden': 1715, 'regnet': 1716, 'underligt': 1717, 'piv': 1718, 'sygehuset': 1719, 'klassiker': 1720, 'tyskere': 1721, 'farlige': 1722, 'skøre': 1723, 'maj': 1724, 'stegt': 1725, 'flæsk': 1726, 'nationaldag': 1727, 'politi': 1728, 'droppet': 1729, 'flyve': 1730, 'hovedstad': 1731, 'design': 1732, 'sender': 1733, 'led': 1734, 'rige': 1735, 'pænere': 1736, 'metoder': 1737, 'umiddelbart': 1738, 'lørdag': 1739, 'formiddag': 1740, 'times': 1741, 'nogenlunde': 1742, 'bringer': 1743, 'fordel': 1744, 'mods': 1745, 'did': 1746, 'king': 1747, 'modtog': 1748, 'posts': 1749, 'ideologi': 1750, 'vælgerne': 1751, 'nazisterne': 1752, 'bede': 1753, 'lene': 1754, 'fulde': 1755, 'uprofessionelt': 1756, 'æ': 1757, 'ø': 1758, 'armen': 1759, 'lovligt': 1760, 'mycket': 1761, 'grand': 1762, 'danois': 1763, 'ugudeligt': 1764, 'firma': 1765, 'almindelig': 1766, 'noe': 1767, 'ubåden': 1768, 'gul': 1769, 'menneske': 1770, 'muslim': 1771, 'forbindelse': 1772, 'system': 1773, 'bestille': 1774, 'påstand': 1775, 'skønt': 1776, 'fortnite': 1777, 'förstår': 1778, 'hade': 1779, 'agtigt': 1780, 'putte': 1781, 'detaljer': 1782, 'fjeldaber': 1783, 'stole': 1784, 'storebror': 1785, 'mary': 1786, 'museum': 1787, 'års': 1788, 'modsatte': 1789, 'international': 1790, 'sørgeligt': 1791, 'organisation': 1792, 'bedst': 1793, '150': 1794, 'overvejer': 1795, 'lægger': 1796, 'blæser': 1797, 'århus': 1798, 'varmen': 1799, 'åbne': 1800, 'låret': 1801, 'indhold': 1802, 'folkens': 1803, 'kedelige': 1804, 'awesome': 1805, 'henne': 1806, 'overskriften': 1807, 'cool': 1808, '02': 1809, 'læge': 1810, 'oversigt': 1811, 'hjemmeside': 1812, 'derhjemme': 1813, 'nat': 1814, 'klassen': 1815, 'kniber': 1816, 'økologisk': 1817, 'meningen': 1818, 'gif': 1819, 'skills': 1820, 'banker': 1821, 'kvote': 1822, 'skifter': 1823, 'voksne': 1824, 'kongelige': 1825, 'smil': 1826, 'randers': 1827, 'kultur': 1828, 'tit': 1829, 'shitty': 1830, 'modsat': 1831, 'paradox': 1832, 'lån': 1833, 'gætte': 1834, 'sket': 1835, 'odense': 1836, 'regnvejr': 1837, 'aflyse': 1838, 'gevær': 1839, 'befolkningen': 1840, 'ku': 1841, 'dens': 1842, 'involveret': 1843, 'javell': 1844, 'består': 1845, 'global': 1846, 'klima': 1847, 'skämt': 1848, 'muligvis': 1849, 'angriber': 1850, 'åben': 1851, 'hav': 1852, 'vinde': 1853, 'skattelettelser': 1854, 'gavn': 1855, 'sosu': 1856, 'magisk': 1857, 'fattige': 1858, 'forresten': 1859, 'interessant': 1860, 'trak': 1861, 'veje': 1862, 'forsvinder': 1863, 'postet': 1864, 'nærmere': 1865, 'kogte': 1866, 'nedladende': 1867, '27': 1868, 'brændt': 1869, 'rant': 1870, 'sænke': 1871, 'flyttede': 1872, 'skabt': 1873, 'fylder': 1874, 'hel': 1875, 'anbefales': 1876, 'bonus': 1877, 'konstant': 1878, 'tillade': 1879, 'kongerige': 1880, 'danskarna': 1881, 'internet': 1882, 'smadret': 1883, 'station': 1884, 'zoo': 1885, 'hæve': 1886, 'kalmar': 1887, 'krige': 1888, 'nordboerne': 1889, 'kællinger': 1890, 'statistikker': 1891, 'røre': 1892, 'skærer': 1893, '300': 1894, 'udslette': 1895, 'stormen': 1896, 'adgang': 1897, 'forbandede': 1898, 'drukne': 1899, '13': 1900, 'flygter': 1901, 'ære': 1902, 'kontor': 1903, 'vild': 1904, 'gick': 1905, 'sol': 1906, 'udledning': 1907, 'canada': 1908, 'mørk': 1909, 'rasende': 1910, 'salt': 1911, '1992': 1912, 'amen': 1913, 'kriminelt': 1914, 'ligegyldigt': 1915, 'stoppede': 1916, 'mitt': 1917, 'alltid': 1918, 'la': 1919, 'bork': 1920, 'fældede': 1921, 'syd': 1922, 'opdage': 1923, 'tnegru': 1924, 'kræfter': 1925, 'gurnet': 1926, 'således': 1927, 'nægter': 1928, 'can': 1929, 'fløde': 1930, \"i'm\": 1931, 'brækket': 1932, 'brændte': 1933, 'foreslår': 1934, 'togt': 1935, 'fandeme': 1936, 'svenskar': 1937, 'nato': 1938, 'svenskt': 1939, 'hånd': 1940, 'ring': 1941, 'sandsynligvis': 1942, 'fjende': 1943, 'kaos': 1944, 'resultat': 1945, 'mulighed': 1946, 'plat': 1947, 'nationalret': 1948, 'frit': 1949, 'marianne': 1950, 'daværende': 1951, 'elskede': 1952, 'diagnose': 1953, 'danse': 1954, 'eksistens': 1955, 'værdig': 1956, 'squ': 1957, 'valgte': 1958, 'normal': 1959, 'ramte': 1960, 'læste': 1961, 'hidtil': 1962, 'sat': 1963, 'værdier': 1964, 'bör': 1965, 'rask': 1966, 'restaurant': 1967, 'herre': 1968, 'what': 1969, 'systemet': 1970, 'mellemøsten': 1971, 'seng': 1972, 'coroutines': 1973, 'forhåbentlig': 1974, 'drengebørn': 1975, 'føre': 1976, 'stregen': 1977, 'benzin': 1978, 'kulturelle': 1979, 'tyskerne': 1980, 'meg': 1981, 'erklærer': 1982, 'starten': 1983, '19': 1984, 'dank': 1985, 'million': 1986, 'månen': 1987, 'welcome': 1988, 'møg': 1989, 'våra': 1990, 'egentligt': 1991, 'forkerte': 1992, 'anbefale': 1993, 'urlæg': 1994, 'fantastiske': 1995, 'chancen': 1996, 'erkende': 1997, 'adfærd': 1998, 'risiko': 1999, '2000': 2000, 'per': 2001, 'folks': 2002, 'morgenmad': 2003, 'nazismen': 2004, 'passende': 2005, 'straffen': 2006, 'peter': 2007, 'madsen': 2008, 'nä': 2009, 'skinner': 2010, 'stodder': 2011, 'nær': 2012, 'skete': 2013, 'dræbes': 2014, 'mærkeligt': 2015, 'respektløst': 2016, 'amerika': 2017, 'ugen': 2018, 'opdaget': 2019, 'oplevelse': 2020, 'imellem': 2021, 'red': 2022, 'plus': 2023, 'teenager': 2024, 'banner': 2025, 'spild': 2026, 'ødelagt': 2027, 'antager': 2028, \"sku'\": 2029, 'godkender': 2030, 'bog': 2031, 'mister': 2032, 'win': 2033, 'håbe': 2034, 'midler': 2035, 'polandball': 2036, 'særlig': 2037, 'andel': 2038, 'lægemidler': 2039, 'dobbelt': 2040, 'tilsvarende': 2041, 'gemt': 2042, 'one': 2043, 'argumentet': 2044, 'siddet': 2045, 'socialisme': 2046, 'länge': 2047, 'langsomt': 2048, 'andres': 2049, 'forsørge': 2050, 'præcis': 2051, 'hul': 2052, 'brokke': 2053, 'danere': 2054, 'undervisningen': 2055, 'homoseksuel': 2056, 'ønsket': 2057, 'udtaler': 2058, 'lyden': 2059, 'skægt': 2060, 'love': 2061, 'country': 2062, 'okay': 2063, 'venezuela': 2064, 'pointe': 2065, 'tvunget': 2066, 'ond': 2067, 'regering': 2068, 'forsøg': 2069, 'malmö': 2070, 'än': 2071, 'underviser': 2072, 'døgnet': 2073, 'koldskål': 2074, 'skyhøje': 2075, 'koranen': 2076, 'urløre': 2077, 'korrupte': 2078, 'verdenen': 2079, 'lytter': 2080, 'has': 2081, \"ha'\": 2082, 'comedy': 2083, 'sørg': 2084, 'varmere': 2085, 'lukker': 2086, 'mørkt': 2087, 'åbn': 2088, 'virke': 2089, 'velfungerende': 2090, 'kloge': 2091, 'opføre': 2092, 'tråde': 2093, 'bygget': 2094, 'manglen': 2095, 'scenen': 2096, 'rapper': 2097, 'skyde': 2098, 'årene': 2099, 'åt': 2100, 'komplet': 2101, 'nærmer': 2102, 'aktive': 2103, '1000': 2104, 'pæne': 2105, 'olie': 2106, 'nordisk': 2107, 'oss': 2108, 'ovenstående': 2109, 'grød': 2110, '11': 2111, 'idéen': 2112, 'begynde': 2113, 'øvrige': 2114, 'downvotes': 2115, 'midt': 2116, 'klaret': 2117, 'røget': 2118, 'app': 2119, 'mørket': 2120, 'filter': 2121, 'lagde': 2122, 'rulle': 2123, 'fortsatte': 2124, 'sikre': 2125, 'sengen': 2126, 'mark': 2127, 'karameller': 2128, 'samle': 2129, 'valgt': 2130, 'tanker': 2131, 'sejt': 2132, 'spreder': 2133, 'sport': 2134, 'ekstremt': 2135, 'bananer': 2136, 'out': 2137, 'amok': 2138, '00': 2139, 'faxe': 2140, 'jensen': 2141, 'svarer': 2142, 'hænger': 2143, 'l': 2144, 'straks': 2145, 'voksen': 2146, 'åhh': 2147, 'rip': 2148, 'show': 2149, 'popcorn': 2150, 'reelt': 2151, 'forsøgt': 2152, 'boede': 2153, 'banen': 2154, 'glem': 2155, 'bøtten': 2156, 'kød': 2157, 'faktatjekke': 2158, '”': 2159, 'døtre': 2160, 'us': 2161, 'ur': 2162, 'landbrug': 2163, 'mærsk': 2164, 'tv': 2165, 'immigranter': 2166, 'tæller': 2167, 'omstændigheder': 2168, 'tykke': 2169, 'glæde': 2170, 'brok': 2171, 'flotte': 2172, 'faktum': 2173, 'højre': 2174, 'fremover': 2175, 'opstemme': 2176, 'riktigt': 2177, 'fb': 2178, 'ole': 2179, 'efterfølgende': 2180, 'farver': 2181, 'kvinden': 2182, 'amerikansk': 2183, 'pakke': 2184, 'google': 2185, 'åh': 2186, 'folkeparti': 2187, 'soldat': 2188, 'overrasket': 2189, 'træk': 2190, 'skud': 2191, 'svage': 2192, 'nope': 2193, 'yep': 2194, 'stof': 2195, 'håller': 2196, 'ever': 2197, 'seriøse': 2198, 'spørgsmålet': 2199, 'muslimsk': 2200, 'fødevarer': 2201, 'seks': 2202, 'irland': 2203, 'minde': 2204, 'halv': 2205, 'ska': 2206, 'type': 2207, 'studie': 2208, 'udenom': 2209, 'life': 2210, 'ruc': 2211, 'kcal': 2212, 'kilo': 2213, 'ollé': 2214, 'curling': 2215, 'vurdering': 2216, 'såfremt': 2217, 'rykke': 2218, 'uspilleligt': 2219, '128': 2220, 'emails': 2221, '63': 2222, 'tyder': 2223, 'stave': 2224, 'egon': 2225, 'udelukkende': 2226, 'ulovlig': 2227, 'sprede': 2228, 'idioti': 2229, 'blodbad': 2230, 'forstille': 2231, 'situationen': 2232, 'anerkender': 2233, 'vågnede': 2234, 'arm': 2235, 'bed': 2236, 'smut': 2237, 'slemme': 2238, 'fans': 2239, 'tennisbold': 2240, 'joakim': 2241, 'motorcykler': 2242, 'trafikanter': 2243, 'knallerter': 2244, 'undtaget': 2245, 'spiste': 2246, 'sataner': 2247, 'stolen': 2248, 'div': 2249, 'supermarkeder': 2250, 'sælges': 2251, 'lidl': 2252, 'spurgte': 2253, 'indgangen': 2254, 'nævnte': 2255, 'grunden': 2256, 'hil': 2257, 'vort': 2258, 'bølgen': 2259, 'puha': 2260, 'armene': 2261, 'snyde': 2262, 'stjæler': 2263, 'hjemløs': 2264, 'nysgerrig': 2265, 'installere': 2266, 'ålborg': 2267, 'klap': 2268, 'skulderen': 2269, 'besøget': 2270, 'semi': 2271, 'studerer': 2272, 'udvikler': 2273, 'uddannelse': 2274, 'uddybe': 2275, 'just': 2276, 'le': 2277, 'omg': 2278, 'syns': 2279, 'pjat': 2280, 'institution': 2281, 'moral': 2282, 'kunder': 2283, 'undrer': 2284, 'byer': 2285, 'indeholder': 2286, 'brændende': 2287, 'eftermiddagen': 2288, 'osaka': 2289, 'lede': 2290, 'moustafa': 2291, 'optik': 2292, 'censur': 2293, 'nationalitet': 2294, 'modbydelige': 2295, 'heste': 2296, 'finns': 2297, 'subs': 2298, 'overtaget': 2299, 'oplevet': 2300, 'elever': 2301, 'uretfærdigt': 2302, 'risikere': 2303, 'knapt': 2304, 'provokerende': 2305, 'misbruger': 2306, 'misbrug': 2307, 'pölse': 2308, 'artikler': 2309, 'spare': 2310, 'förstå': 2311, '2015': 2312, '2011': 2313, 'ruller': 2314, 'kedelig': 2315, 'læger': 2316, 'undertrykkelse': 2317, 'kritik': 2318, 'forstod': 2319, 'reference': 2320, 'forfærdeligt': 2321, 'never': 2322, 'willem': 2323, 'stemt': 2324, 'posten': 2325, 'stået': 2326, 'ryd': 2327, 'nordens': 2328, 'naboer': 2329, 'nosser': 2330, 'gevinst': 2331, 'samler': 2332, 'materiale': 2333, 'valgkamp': 2334, 'højrefløjen': 2335, 'fattig': 2336, 'hvidevarer': 2337, 'aldeles': 2338, 'upassende': 2339, 'forkælet': 2340, 'kinder': 2341, 'bravo': 2342, 'typiskt': 2343, 'fejk': 2344, 'konkret': 2345, 'dyreste': 2346, 'indtægt': 2347, 'hvorledes': 2348, 'dyre': 2349, 'downloade': 2350, 'spaghetti': 2351, 'svinekød': 2352, 'hellige': 2353, 'kommunistisk': 2354, 'finger': 2355, 'feel': 2356, 'nasty': 2357, 'eet': 2358, 'princippet': 2359, 'jaaa': 2360, 'bi': 2361, 'værdi': 2362, 'familen': 2363, 'retur': 2364, 'psykopat': 2365, 'lel': 2366, 'jylland': 2367, 'remulade': 2368, 'el': 2369, 'tungere': 2370, 'dame': 2371, 'formål': 2372, 'målet': 2373, 'indvandre': 2374, 'ensom': 2375, 'venstres': 2376, 'drejer': 2377, 'inderligt': 2378, 'gott': 2379, 'næ': 2380, 'halland': 2381, 'blekinge': 2382, 'overkanten': 2383, 'mindes': 2384, 'manager': 2385, 'tour': 2386, 'elefanter': 2387, 'sauce': 2388, 'skruer': 2389, 'bluetooth': 2390, 'højtalere': 2391, 'bohr': 2392, 'statue': 2393, 'lufthavn': 2394, 'lettede': 2395, 'lasere': 2396, 'rio': 2397, 'fremstille': 2398, 'dyrke': 2399, 'odin': 2400, 'tor': 2401, 'freja': 2402, 'omegn': 2403, 'lækker': 2404, 'fire': 2405, 'bryder': 2406, 'naturlig': 2407, 'cand': 2408, 'hest': 2409, 'dos': 2410, 'indbygget': 2411, 'såvel': 2412, 'restauranter': 2413, 'bekendt': 2414, 'hænderne': 2415, 'jakob': 2416, 'beriget': 2417, 'tilbud': 2418, 'ramt': 2419, 'ordentlig': 2420, 'fridag': 2421, 'luder': 2422, 'forøvrigt': 2423, 'pet': 2424, 'velfærdsturister': 2425, 'radio': 2426, 'radio24syv': 2427, 'p3': 2428, 'ahhh': 2429, 'underlig': 2430, 'besøge': 2431, 'journalistik': 2432, 'leger': 2433, 'class': 2434, 'borgmesteren': 2435, 'hængt': 2436, 'trit': 2437, '130': 2438, 'ærgerligt': 2439, 'private': 2440, 'holland': 2441, 'beskidte': 2442, 'streamer': 2443, 'joken': 2444, 'report': 2445, 'vigtige': 2446, 'overvældende': 2447, 'angrebet': 2448, 'erobre': 2449, 'høfligt': 2450, 'once': 2451, 'part': 2452, 'højeste': 2453, 'vigtig': 2454, 'udgave': 2455, 'blok': 2456, 'telefonnummer': 2457, 'lign': 2458, 'regards': 2459, 'best': 2460, 'allt': 2461, 'svanen': 2462, 'look': 2463, 'kanten': 2464, 'behold': 2465, 'tøjet': 2466, 'sagerne': 2467, 'www': 2468, 'latterlige': 2469, 'forbydes': 2470, 'socialister': 2471, 'kommunist': 2472, 'ører': 2473, 'fremmed': 2474, 'handlinger': 2475, 'pepe': 2476, 'shorts': 2477, 'kokain': 2478, 'røvhul': 2479, 'hf': 2480, 'nordjylland': 2481, '‘sammel’': 2482, 'talte': 2483, 'ualmindeligt': 2484, 'ked': 2485, 'danskernes': 2486, 'stege': 2487, 'præst': 2488, 'mærket': 2489, 'router': 2490, 'påpege': 2491, 'ypperste': 2492, 'patriotisk': 2493, 'vilken': 2494, 'inne': 2495, 'denna': 2496, 'solgte': 2497, 'icke': 2498, 'overarbejde': 2499, 'fokus': 2500, 'poäng': 2501, 'sålænge': 2502, 'kartoffel': 2503, 'same': 2504, 'fejler': 2505, 'nævnt': 2506, 'enda': 2507, 'olsenbanden': 2508, 'kjente': 2509, 'versjon': 2510, 'elendig': 2511, 'onkel': 2512, 'fætter': 2513, 'skrue': 2514, 'smukkere': 2515, 'interesseret': 2516, 'cancer': 2517, 'lortesommer': 2518, 'rigsfællesskabet': 2519, 'trenden': 2520, 'masser': 2521, 'gældende': 2522, 'tom': 2523, 'tøj': 2524, 'medlemmer': 2525, 'modtager': 2526, 'veninde': 2527, 'pt': 2528, 'identisk': 2529, 'kvindes': 2530, 'kaution': 2531, 'selfie': 2532, '99år': 2533, 'tremmer': 2534, 'nazikort': 2535, 'ansigtet': 2536, 'jøder': 2537, 'forsøge': 2538, 'ryg': 2539, 'nøje': 2540, 'forskellig': 2541, 'vinden': 2542, 'udstille': 2543, 'burka': 2544, 'attitude': 2545, 'understrege': 2546, 'langsom': 2547, 'kirkegård': 2548, 'aflevere': 2549, 'stjålet': 2550, 'mødte': 2551, 'kbh': 2552, 'makker': 2553, 'halsen': 2554, 'hahah': 2555, 'rækken': 2556, 'pænt': 2557, 'lukas': 2558, 'helte': 2559, 'tåler': 2560, 'trailer': 2561, 'q': 2562, 'fødevare': 2563, 'kys': 2564, 'bernie': 2565, 'støjberg': 2566, 'monster': 2567, 'midten': 2568, 'wtf': 2569, 'gifv': 2570, 'finsk': 2571, 'lyd': 2572, 'vitterligt': 2573, 'stikke': 2574, 'pligt': 2575, 'diskussioner': 2576, 'diskussion': 2577, 'hand': 2578, 'pigerne': 2579, 'holy': 2580, 'neger': 2581, 'overset': 2582, 'invadere': 2583, 'sejler': 2584, 'anyways': 2585, '3237': 2586, '😳': 2587, 'stiller': 2588, 'history': 2589, 'takke': 2590, 'disciplin': 2591, 'eleverne': 2592, 'forfra': 2593, 'endt': 2594, 'cannabis': 2595, 'personlighed': 2596, 'python': 2597, 'forklar': 2598, 'volvo': 2599, 'grupper': 2600, 'dels': 2601, 'vrede': 2602, 'udenlandske': 2603, 'uha': 2604, 'samlede': 2605, 'vinter': 2606, 'ol': 2607, 'lands': 2608, 'xc': 2609, 'ryttere': 2610, 'trails': 2611, '60k': 2612, 'råber': 2613, 'samtaler': 2614, 'gudskelov': 2615, 'mtb': 2616, 'lokal': 2617, 'cykler': 2618, 'fysisk': 2619, 'sporet': 2620, 'hvidvask': 2621, 'paraply': 2622, 'fransk': 2623, 'horder': 2624, \"'92\": 2625, 'spanien': 2626, 'lærte': 2627, 'deutschland': 2628, 'alles': 2629, 'vorbei': 2630, 'kollektivt': 2631, 'larmende': 2632, 'jf': 2633, 'drak': 2634, 'think': 2635, 'modstand': 2636, 'tortur': 2637, 'selvmord': 2638, 'betjente': 2639, 'søgte': 2640, 'procentdel': 2641, 'befolkning': 2642, 'bill': 2643, 'statistisk': 2644, 'favorit': 2645, 'nærmeste': 2646, 'grænse': 2647, '1940': 2648, 'vilde': 2649, 'gas': 2650, 'løse': 2651, 'smage': 2652, 'major': 2653, 'astralis': 2654, 'assistenten': 2655, 'bygger': 2656, 'tusind': 2657, 'sundhedsforsikring': 2658, 'præsident': 2659, 'beskatningen': 2660, 'gennemsnitlig': 2661, 'gtfo': 2662, 'skattekroner': 2663, 'øhh': 2664, 'skudt': 2665, 'genkende': 2666, 'benægte': 2667, 'fredelige': 2668, 'udland': 2669, 'nyde': 2670, 'klassiske': 2671, 'suger': 2672, 'sammenlignes': 2673, 'eje': 2674, 'hænge': 2675, 'daner': 2676, 'dernede': 2677, 'hadede': 2678, 'pølseret': 2679, 'gulerødder': 2680, 'gör': 2681, 'mejmej': 2682, 'whisky': 2683, 'glæder': 2684, 'cykelstien': 2685, 'trafikken': 2686, 'kage': 2687, 'damen': 2688, 'vill': 2689, 'baggrunden': 2690, '😊': 2691, 'tørt': 2692, 'varer': 2693, 'danskeren': 2694, 'menneskeligt': 2695, 'big': 2696, 'deal': 2697, 'vesten': 2698, 'overhoved': 2699, 'acceptere': 2700, 'mejmejs': 2701, 'frie': 2702, 'skiltet': 2703, 'snälla': 2704, 'griner': 2705, 'pølsehorn': 2706, 'listen': 2707, 'nedlæg': 2708, 'indsamlinger': 2709, 'oplysninger': 2710, 'turneringen': 2711, 'målestok': 2712, 'något': 2713, 'dankmark': 2714, 'reglerne': 2715, 'unionen': 2716, 'lys': 2717, 'gjordt': 2718, 'sinde': 2719, 'kæmpede': 2720, 'polske': 2721, 'østersøen': 2722, 'duh': 2723, 'nordboere': 2724, 'mistet': 2725, 'fuldt': 2726, 'gerningsmændene': 2727, 'frank': 2728, 'tilstede': 2729, 'forskelle': 2730, 'landene': 2731, 'b': 2732, 'patriot': 2733, 'ost': 2734, 'årgang': 2735, 'adskillige': 2736, 'hemmelige': 2737, 'trænet': 2738, 'slippe': 2739, 'netværk': 2740, 'tværs': 2741, 'stank': 2742, 'dets': 2743, 'varet': 2744, 'mht': 2745, 'sent': 2746, 'indretning': 2747, 'sammenligning': 2748, 'personlige': 2749, 'begynd': 2750, 'søren': 2751, 'snakkede': 2752, 'kussen': 2753, 'argumenter': 2754, 'svansken': 2755, 'overmagt': 2756, 'opdannebrog': 2757, 'första': 2758, 'hadere': 2759, 'sne': 2760, 'plastic': 2761, 'naturen': 2762, 'miljøet': 2763, 'derudover': 2764, 'tillader': 2765, 'økonomi': 2766, 'baggrund': 2767, 'loven': 2768, 'muhammed': 2769, 'rart': 2770, 'radikale': 2771, 'stopper': 2772, 'nya': 2773, 'hellig': 2774, 'ligegyldige': 2775, 'modtageren': 2776, 'fremmedsprog': 2777, 'nord': 2778, 'hei': 2779, 'finnes': 2780, 'noen': 2781, 'raii': 2782, 'gemmes': 2783, 'subjektiv': 2784, 'virkede': 2785, 'kølig': 2786, 'politisk': 2787, 'børsen': 2788, 'kunst': 2789, 'andrea': 2790, 'pia': 2791, 'grænsebom': 2792, 'jørgen': 2793, 'agenter': 2794, 'dybere': 2795, 'racistisk': 2796, 'tilstand': 2797, 'gurnard': 2798, 'våde': 2799, 'blob': 2800, 'generationer': 2801, 'sorg': 2802, 'miste': 2803, 'los': 2804, '29': 2805, 'akavet': 2806, 'invitere': 2807, 'presse': 2808, 'tilpasset': 2809, 'støder': 2810, '“alene': 2811, 'kvinde”': 2812, 'omvendt': 2813, 'rødgrød': 2814, 'produceret': 2815, 'dummere': 2816, 'tilhører': 2817, 'vs': 2818, 'betyde': 2819, 'oprindelige': 2820, 'ro': 2821, 'filtrere': 2822, 'kommunikation': 2823, 'teknikker': 2824, 'klistrede': 2825, 'oftest': 2826, 'forholde': 2827, 'fødder': 2828, 'bekendtskab': 2829, 'eksil': 2830, 'håb': 2831, 'fortalt': 2832, 'fem': 2833, 'bud': 2834, 'introduceret': 2835, 'nødigt': 2836, 'tilværelse': 2837, 'stik': 2838, 'fjæs': 2839, 'fod': 2840, 'confirm': 2841, 'irak': 2842, 'trængte': 2843, 'rejste': 2844, 'fjer': 2845, 'new': 2846, 'bolig': 2847, 'pladsen': 2848, 'gymnasium': 2849, 'erfaring': 2850, 'fall': 2851, 'övrigt': 2852, 'anser': 2853, 'förstöras': 2854, 'kysen': 2855, 'grum': 2856, 'puns': 2857, 'venter': 2858, 'utålelig': 2859, 'crossposter': 2860, 'smørrebrød': 2861, 'got': 2862, 'sammenlignet': 2863, 'brød': 2864, 'menneskelige': 2865, 'upopulær': 2866, 'ankomme': 2867, 'overblik': 2868, 'spillere': 2869, 'markant': 2870, 'forbyde': 2871, 'skære': 2872, 'koner': 2873, 'vægten': 2874, 'koste': 2875, 'fjerne': 2876, 'tarvelige': 2877, 'nam': 2878, 'stående': 2879, 'taber': 2880, 'content': 2881, '80': 2882, 'averagemonkey': 2883, 'tilsendt': 2884, 'hadet': 2885, 'grænserne': 2886, 'fængslet': 2887, 'svære': 2888, 'spjældet': 2889, 'kandidat': 2890, 'fine': 2891, 'grønne': 2892, 'indtages': 2893, 'lune': 2894, 'ringer': 2895, 'mønter': 2896, 'administration': 2897, 'årlig': 2898, 'enestående': 2899, 'dækker': 2900, 'startet': 2901, 'evolutions': 2902, 'benægtelse': 2903, 'påstås': 2904, 'folkefærd': 2905, 'vikingerne': 2906, 'kost': 2907, 'forvirret': 2908, 'bragt': 2909, 'personerne': 2910, 'eksempler': 2911, 'slesvig': 2912, 'leder': 2913, 'årh': 2914, 'bro': 2915, 'budskab': 2916, 'rygning': 2917, 'plan': 2918, 'onsdag': 2919, 'lærerne': 2920, 'mellom': 2921, 'gjør': 2922, 'glædeligt': 2923, 'tilføj': 2924, 'ihvertfald': 2925, 'værelse': 2926, 'tomt': 2927, 'adresse': 2928, 'grov': 2929, 'undskyldninger': 2930, 'positivt': 2931, 'ær': 2932, 'djøøøøt': 2933, 'nødt': 2934, 'psykopater': 2935, 'kopiere': 2936, 'mord': 2937, 'tuborg': 2938, 'lagen': 2939, 'lækreste': 2940, 'tåbeligt': 2941, 'religiøs': 2942, 'sandsynlighed': 2943, 'måltid': 2944, 'skynd': 2945, 'opret': 2946, 'borgerforslag': 2947, 'frugt': 2948, 'forklarer': 2949, 'busserne': 2950, 'kvinderne': 2951, 'husket': 2952, 'reklamer': 2953, 'tema': 2954, 'pink': 2955, 'fløj': 2956, 'delte': 2957, 'meninger': 2958, 'ytringsfriheden': 2959, 'takker': 2960, 'allierede': 2961, 'stadigvæk': 2962, 'blik': 2963, 'remoulade': 2964, 'løg': 2965, 'griske': 2966, 'historier': 2967, 'glemme': 2968, 'sammenhold': 2969, 'butikker': 2970, 'glip': 2971, 'tirsdag': 2972, 'konservative': 2973, 'modigt': 2974, 'mount': 2975, 'everest': 2976, 'rørt': 2977, 'vant': 2978, 'temmelig': 2979, 'selveste': 2980, 'foretrækker': 2981, 'bull': 2982, 'vodka': 2983, 'beskeder': 2984, 'everything': 2985, 'racister': 2986, 'if': 2987, 'film': 2988, 'offentlig': 2989, 'render': 2990, 'strække': 2991, 'faktor': 2992, 'såkaldt': 2993, 'smugle': 2994, 'relevante': 2995, 'reformationen': 2996, 'søndagen': 2997, 'frækt': 2998, 'porno': 2999, 'klogere': 3000, 'from': 3001, 'drik': 3002, 'regne': 3003, 'bon': 3004, 'uansvarlig': 3005, 'demokratiske': 3006, 'diktatur': 3007, 'nazistisk': 3008, 'islamisme': 3009, 'hak': 3010, 'subreddits': 3011, 'hilsen': 3012, 'nationale': 3013, 'dersgrupper': 3014, 'receptindløsninger': 3015, 'alderen': 3016, 'højest': 3017, 'mændene': 3018, 'truet': 3019, 'tillsammans': 3020, 'fucke': 3021, 'stavet': 3022, 'sant': 3023, 'midgårdsormen': 3024, 'skræmme': 3025, 'tåbelige': 3026, 'englændere': 3027, 'landsmænd': 3028, 'spøg': 3029, 'papiret': 3030, 'flertallet': 3031, 'surstrømning': 3032, 'refererer': 3033, 'seriøs': 3034, 'bestemmer': 3035, 'simpelt': 3036, 'nsfl': 3037, 'fyfan': 3038, 'välfärden': 3039, 'fede': 3040, 'ryddet': 3041, 'mellemøstlige': 3042, 'amerikanere': 3043, 'mødt': 3044, 'information': 3045, 'kontroversielt': 3046, 'indflydelse': 3047, 'christiansborg': 3048, 'landsholdet': 3049, 'detektivarbejde': 3050, 'øer': 3051, 'placering': 3052, 'lister': 3053, 'host': 3054, 'overraske': 3055, 'viden': 3056, 'udløst': 3057, 'arbejdede': 3058, 'tip': 3059, 'bum': 3060, 'sofa': 3061, 'kaffe': 3062, 'kende': 3063, 'internationalt': 3064, 'forhelvede': 3065, 'blokken': 3066, 'larme': 3067, \"harley'er\": 3068, 'larm': 3069, 'færdes': 3070, '9gag': 3071, 'com': 3072, 'hadforbrydelse': 3073, \"don't\": 3074, 'speak': 3075, 'chokoladeboller': 3076, 'tradition': 3077, 'opmærksomhed': 3078, 'noma': 3079, 'kraftædme': 3080, 'tanken': 3081, 'troen': 3082, 'bunke': 3083, 'kraftedme': 3084, 'pifter': 3085, 'spænder': 3086, 'reb': 3087, 'gold': 3088, 'uenig': 3089, 'christian': 3090, 'gætter': 3091, 'smagsløst': 3092, 'sendte': 3093, 'uenighed': 3094, 'kæmper': 3095, 'heroppe': 3096, 'stunt': 3097, 'klaphat': 3098, 'hund': 3099, 'beholde': 3100, 'potentiale': 3101, 'pludder': 3102, 'från': 3103, 'tycker': 3104, 'förlåt': 3105, 'himlen': 3106, '…': 3107, 'bade': 3108, 'bus': 3109, 'derud': 3110, 'time': 3111, 'fag': 3112, 'råbe': 3113, 'tjekke': 3114, 'datter': 3115, 'bollerne': 3116, '😁': 3117, 'usundt': 3118, 'forbudt': 3119, 'punkter': 3120, 'glemte': 3121, 'flasken': 3122, 'isterninger': 3123, 'fyr': 3124, 'fanger': 3125, 'ftw': 3126, 'beder': 3127, 'brysterne': 3128, 'koranens': 3129, 'landes': 3130, 'homoseksualitet': 3131, 'pertaining': 3132, 'homosexual': 3133, 'relationships': 3134, 'expression': 3135, 'apostasi': 3136, 'blasphemy': 3137, 'worldwide': 3138, 'fortolkning': 3139, 'islamisk': 3140, 'utroskab': 3141, 'minoritet': 3142, 'acceptabelt': 3143, 'skumle': 3144, 'undgår': 3145, 'konflikter': 3146, 'utföra': 3147, 'deltog': 3148, 'respondents': 3149, 'crime': 3150, 'high': 3151, 'duo': 3152, 'opvurdering': 3153, 'dyb': 3154, 'besøgt': 3155, 'forvejen': 3156, 'temperaturen': 3157, 'ac': 3158, 'dække': 3159, 'klimaanlægget': 3160, 'blæse': 3161, 'kold': 3162, 'hjælpen': 3163, 'passet': 3164, 'erhverv': 3165, 'hitler': 3166, 'hundige': 3167, 'koncert': 3168, 'traditionelle': 3169, 'ug': 3170, 'aktiv': 3171, 'hæphop': 3172, '90’erne': 3173, 'vrissen': 3174, 'udsendt': 3175, 'sorteret': 3176, 'jams': 3177, 'battles': 3178, 'demobånd': 3179, 'udgiver': 3180, 'snøvlet': 3181, 'mikrofonen': 3182, 'midthalvfemserne': 3183, 'savet': 3184, 'oraklet': 3185, 'rappere': 3186, 'lyrik': 3187, 'flow': 3188, 'undtagelser': 3189, 'musikken': 3190, 'hovedparten': 3191, 'playlist': 3192, 'fungerer': 3193, 'minister': 3194, 'come': 3195, 'niveauet': 3196, '900': 3197, 'fuglsang': 3198, '2020': 3199, 'dra': 3200, 'passede': 3201, '1917': 3202, 'flytter': 3203, 'foreslået': 3204, 'pm': 3205, 'profilbillede': 3206, 'ansigt': 3207, 'muslimske': 3208, 'klasserne': 3209, 'kastede': 3210, '32': 3211, 'points': 3212, 'blæst': 3213, 'fastede': 3214, 'påske': 3215, 'arbejdet': 3216, 'chef': 3217, 'næppe': 3218, 'hverdag': 3219, 'behöver': 3220, 'fronter': 3221, 'kommentarer': 3222, 'yes': 3223, 'lejlighed': 3224, 'kamelåså': 3225, 'vundet': 3226, 'kjøller': 3227, 'ak': 3228, 'nåede': 3229, 'hunden': 3230, 'sigte': 3231, 'hårde': 3232, 'nylig': 3233, 'tropper': 3234, 'mistede': 3235, 'tsk': 3236, 'blip': 3237, 'blop': 3238, 'sett': 3239, 'footer': 3240, 'respekter': 3241, 'venligst': 3242, 'reddits': 3243, 'undlad': 3244, 'subject': 3245, 'translation': 3246, '20error': 3247, 'kanel': 3248, 'stilling': 3249, 'sirenerne': 3250, 'frø': 3251, 'kælder': 3252, 'stavefejl': 3253, 'jönssonligan': 3254, 'posen': 3255, 'oslo': 3256, 'knald': 3257, 'runde': 3258, 'sindssyg': 3259, 'dröm': 3260, 'feminist': 3261, 'taxaen': 3262, 'adressen': 3263, 'dyrt': 3264, 'melde': 3265, 'nervøs': 3266, 'migmigs': 3267, 'oplevede': 3268, 'såååå': 3269, 'politikkerne': 3270, 'turister': 3271, 'rapporterer': 3272, 'rettet': 3273, 'hjernedødt': 3274, 'sættes': 3275, 'ulykke': 3276, 'pointsystem': 3277, 'dyrevelfærd': 3278, 'burger': 3279, 'forsigtigt': 3280, 'rakte': 3281, 'taske': 3282, 'lyttede': 3283, 'åbnede': 3284, 'tupperware': 3285, 'lod': 3286, 'sekunder': 3287, 'jason': 3288, 'fortæl': 3289, 'færdig': 3290, 'kommentaren': 3291, 'sååå': 3292, 'martins': 3293, \"go'morgen\": 3294, 'lukket': 3295, 'planlagt': 3296, 'låste': 3297, 'fordele': 3298, 'masken': 3299, 'hjalp': 3300, 'skjold': 3301, 'fallout': 3302, 'kig': 3303, 'vejret': 3304, 'dreje': 3305, 'villig': 3306, 'cykle': 3307, 'force': 3308, 'informationer': 3309, 'indvandrer': 3310, 'fætre': 3311, 'vantro': 3312, 'etnisk': 3313, 'nationalisme': 3314, 'udviklet': 3315, 'harm': 3316, 'kommunisme': 3317, 'nazisme': 3318, 'udtrykke': 3319, 'tydeligere': 3320, 'mandag': 3321, 'tosset': 3322, 'kneb': 3323, 'våd': 3324, 'terror': 3325, 'vest': 3326, 'danskhed': 3327, 'feministerne': 3328, 'heteronormative': 3329, 'mandegruppe': 3330, 'feminismen': 3331, 'lykkes': 3332, 'get': 3333, 'felt': 3334, 'coke': 3335, 'cs': 3336, 'hudfarve': 3337, 'glögg': 3338, 'hollandsk': 3339, \"danmark's\": 3340, 'overall': 3341, 'drikke': 3342, 'dårligst': 3343, 'nsfw': 3344, 'kommentér': 3345, 'bagud': 3346, 'nyheder': 3347, 'drengo': 3348, 'hjælpes': 3349, 'apropos': 3350, 'støvsugere': 3351, 'n': 3352, 'nettet': 3353, 'nødvendigvis': 3354, 'reality': 3355, 'ugers': 3356, 'rain': 3357, 'nyhed': 3358, 'tyrkiet': 3359, 'dertil': 3360, 'thai': 3361, 'ffs': 3362, 'krim': 3363, 'kulturen': 3364, 'regnen': 3365, 'krænket': 3366, 'tysken': 3367, 'crazy': 3368, '37': 3369, 'bortset': 3370, 'hænder': 3371, 'ansvarlig': 3372, 'deroppe': 3373, 'atlas': 3374, 'prejudice': 3375, 'opdelinger': 3376, 'sulten': 3377, 'alting': 3378, 'fjenden': 3379, 'drukket': 3380, 'hansen': 3381, 'star': 3382, 'wat': 3383, 'krigsstien': 3384, 'investerer': 3385, 'sand': 3386, 'ture': 3387, 'skatteyderne': 3388, 'oplysning': 3389, 'alternativet': 3390, 'jagt': 3391, 'guldbroche': 3392, 'svindle': 3393, 'svindel': 3394, 'velfærdsystem': 3395, 'segment': 3396, 'dovne': 3397, 'huset': 3398, 'drive': 3399, 'via': 3400, 'praksis': 3401, 'blander': 3402, 'debatten': 3403, 'smagt': 3404, 'rødvin': 3405, 'pist': 3406, 'hentet': 3407, 'sigtelsen': 3408, 'keep': 3409, 'fryd': 3410, 'nappe': 3411, 'storbarmet': 3412, 'opløsning': 3413, 'jbo': 3414, 'udfordringer': 3415, 'vægt': 3416, 'going': 3417, 'kørestol♿️': 3418, 'røg': 3419, 'flammer': 3420, 'forsendelse': 3421, 'legitimerer': 3422, 'hvorefter': 3423, 'aka': 3424, 'mohammad': 3425, 'etnicitet': 3426, 'boxes': 3427, 'gambling': 3428, 'klokke': 3429, 'ww2': 3430, 'kede': 3431, 'droppede': 3432, 'forbyder': 3433, 'greatest': 3434, 'cv': 3435, 'københavns': 3436, 'naviger': 3437, 'suck': 3438, 'anmeldelser': 3439, 'alvorlige': 3440, 'anmelder': 3441, \"df'ere\": 3442, 'alvorligt': 3443, 'white': 3444, 'trash': 3445, 'smatso': 3446, 'sådanne': 3447, 'psykolog': 3448, 'samtale': 3449, 'snak': 3450, 'risengrød': 3451, 'hate': 3452, 'behandling': 3453, 'nytår': 3454, 'eksisterende': 3455, 'test': 3456, 'næsen': 3457, 'translate': 3458, 'svenskernes': 3459, 'svearike': 3460, 'tilhøre': 3461, 'englænderne': 3462, 'frosne': 3463, 'genopbygge': 3464, 'bye': 3465, 'vanvittigt': 3466, 'lyset': 3467, 'ligget': 3468, 'tja': 3469, 'øve': 3470, 'hæren': 3471, 'gennemsigtighed': 3472, 'socialdemokratiet': 3473, 'punkt': 3474, 'banke': 3475, 'lommen': 3476, 'sukker': 3477, 'biograf': 3478, 'arla': 3479, 'jyde': 3480, 'typer': 3481, 'venligfolket': 3482, 'klarer': 3483, 'marken': 3484, 'danskjävel': 3485, 'nånånå': 3486, 'innuendo': 3487, 'there': 3488, 'some': 3489, 'spor': 3490, 'v': 3491, 'fjernet': 3492, 'slutningen': 3493, 'trusler': 3494, 'tomme': 3495, 'motivere': 3496, 'president': 3497, 'helenius': 3498, 'udlevere': 3499, 'biografen': 3500, 'uskyldige': 3501, 'annat': 3502, 'socialismen': 3503, 'åbenlyst': 3504, 'syndebuk': 3505, 'osten': 3506, 'tjubang': 3507, 'kunstner': 3508, 'overskrift': 3509, 'rate': 3510, 'expat': 3511, 'immigrant': 3512, 'randomdkguy': 3513, 'netflix': 3514, 'følelsen': 3515, 'läst': 3516, 'verkligen': 3517, 'forventede': 3518, 'data': 3519, 'opdager': 3520, 'formålet': 3521, 'afstamning': 3522, 'skriger': 3523, 'himmelbjerget': 3524, 'anerkendt': 3525, 'periode': 3526, 'sagtens': 3527, 'kuglerne': 3528, 'tversted': 3529, 'drengene': 3530, 'sommers': 3531, 'skygge': 3532, 'rute': 3533, 'orange': 3534, 'rigeligt': 3535, \"usa's\": 3536, 'fjols': 3537, 'figur': 3538, 'bling': 3539, 'skru': 3540, 'cumshot': 3541, 'pædofiler': 3542, 'nyligt': 3543, 'beset': 3544, 'æret': 3545, '5000': 3546, 'usle': 3547, 'eksisteret': 3548, 'gives': 3549, 'frygteligt': 3550, 'stykker': 3551, 'overhaling': 3552, 'gentage': 3553, 'stykket': 3554, 'moderne': 3555, 'bådflygtninge': 3556, 'nordvei': 3557, 'færre': 3558, 'fremragende': 3559, 'trusser': 3560, 'bedrift': 3561, 'christ': 3562, 'menar': 3563, 'straffet': 3564, 'erstatning': 3565, 'massere': 3566, 'derned': 3567, 'pape': 3568, 'ubetydelige': 3569, 'forsvandt': 3570, 'april': 3571, 'hør': 3572, 'elgiganten': 3573, 'språk': 3574, \"ta'\": 3575, 'hedde': 3576, 'aller': 3577, 'stjerne': 3578, 'tyveri': 3579, 'bukserne': 3580, 'imo': 3581, 'ladet': 3582, 'dkk': 3583, 'måneden': 3584, 'ministerpension': 3585, 'vildere': 3586, 'emilie': 3587, 'skadet': 3588, 'foto': 3589, 'nedslidt': 3590, 'uddanner': 3591, 'omskåret': 3592, 'styreform': 3593, 'straight': 3594, 'salat': 3595, 'affyret': 3596, 'bajer': 3597, 'pol': 3598, 'banneret': 3599, 'alverden': 3600, 'europas': 3601, 'gøres': 3602, 'kø': 3603, 'retter': 3604, 'undersøgelse': 3605, 'pølsevognene': 3606, 'tidligt': 3607, 'mild': 3608, 'løftet': 3609, 'logning': 3610, 'arbejdslyst': 3611, 'episode': 3612, 'sæson': 3613, 'indvandring': 3614, 'spurgt': 3615, 'integrere': 3616, 'hubba': 3617, 'marius': 3618, 'medarbejder': 3619, 'tegne': 3620, 'tyr': 3621, 'kør': 3622, 'koffein': 3623, 'rander': 3624, 'beton': 3625, 'downvoted': 3626, 'youtube': 3627, 'alcohol': 3628, 'udfra': 3629, 'kilde': 3630, 'ah': 3631, 'meldt': 3632, 'nåde': 3633, 'rosende': 3634, 'døende': 3635, 'visst': 3636, 'superhelt': 3637, 'udlænding': 3638, 'fyre': 3639, 'sikken': 3640, 'indtage': 3641, 'bryde': 3642, 'baren': 3643, 'derind': 3644, 'vestegn': 3645, 'vaaaandt': 3646, 'julekalender': 3647, 'krænkelse': 3648, 'surprise': 3649, 'kondomet': 3650, 'tidsramme': 3651, 'abortere': 3652, 'køligt': 3653, 'softicen': 3654, 'investere': 3655, 'cykelpumpe': 3656, 'landbetjenten': 3657, 'sextilbud': 3658, 'indgående': 3659, 'folkeskolerne': 3660, 'sammenhæng': 3661, 'hædersmand': 3662, 'beskæftigede': 3663, 'nemme': 3664, 'salute': 3665, 'ståkhålmske': 3666, 'malet': 3667, 'veteranerne': 3668, 'forledes': 3669, 'soldaters': 3670, 'ofre': 3671, 'morges': 3672, 'kløede': 3673, 'blodsugende': 3674, 'sneg': 3675, 'soveværelse': 3676, 'lokket': 3677, 'guldregn': 3678, 'træer': 3679, 'ringet': 3680, 'giftlinjen': 3681, 'tygget': 3682, 'spyttet': 3683, 'bekymre': 3684, 'skadestuen': 3685, 'forfølgere': 3686, 'fortsat': 3687, 'flette': 3688, 'næbbet': 3689, 'michella': 3690, 'fikser': 3691, 'levende': 3692, 'fritidsdragtklædte': 3693, 'hunbold': 3694, 'kæften': 3695, 'termokandekaffe': 3696, 'spruttende': 3697, 'tilråb': 3698, 'lag': 3699, 'udlændingestramninger': 3700, 'fornuftig': 3701, 'larmer': 3702, 'resterne': 3703, 'dyppede': 3704, 'sovsen': 3705, 'rystede': 3706, 'seerbillede': 3707, 'toppe': 3708, 'trunte': 3709, 'heiler': 3710, 'trick': 3711, 'lorteunger': 3712, 'sos': 3713, 'børnebyerne': 3714, 'måneders': 3715, 'hørevidde': 3716, 'hustlede': 3717, 'carsberg': 3718, 'altids': 3719, 'ægge': 3720, 'hvider': 3721, 'strammer': 3722, 'kursen': 3723, 'drot': 3724, 'danneborger': 3725, 'bestå': 3726, 'bøgen': 3727, 'spejler': 3728, 'lækkersulten': 3729, 'ringeste': 3730, 'sportsgren': 3731, 'udgangen': 3732, 'massakre': 3733, 'franskmænd': 3734, 'hvo': 3735, 'jef': 3736, 'rum': 3737, 'storskrald': 3738, 'boligområde': 3739, 'bort': 3740, 'single': 3741, 'russiske': 3742, 'mødre': 3743, 'date': 3744, 'microsoft': 3745, 'fixe': 3746, 'sælg': 3747, 'japanere': 3748, 'herop': 3749, 'maglev': 3750, 'flensborg': 3751, '300km': 3752, 'august': 3753, 'kryds': 3754, 'kalenderen': 3755, 'svenskeeeen': 3756, 'psykose': 3757, 'ex': 3758, 'goddag': 3759, 'offtopic': 3760, 'arbejds': 3761, 'søger': 3762, 'springet': 3763, 'rundkreds': 3764, 'skraldgriner': 3765, 'turist': 3766, 'huffington': 3767, 'hoppet': 3768, 'scandijerk': 3769, 'dae': 3770, 'sooo': 3771, 'progressive': 3772, 'vognen': 3773, 'finans': 3774, 'havner': 3775, 'profitten': 3776, 'låne': 3777, '“nej': 3778, 'penge”': 3779, 'lugten': 3780, 'klostre': 3781, 'okej': 3782, 'invaderar': 3783, 'bjuder': 3784, 'november': 3785, 'mærkværdigt': 3786, 'ostekage': 3787, 'äckligt': 3788, 'stäng': 3789, 'rystende': 3790, 'opholde': 3791, 'sørge': 3792, 'sammenført': 3793, 'censurere': 3794, 'ködböllër': 3795, 'undersøges': 3796, 'håndteredes': 3797, 'anklageren': 3798, 'öhm': 3799, 'um': 3800, \"geht's\": 3801, 'hier': 3802, \"gibt's\": 3803, 'trotzdem': 3804, 'ich': 3805, 'mochte': 3806, 'schon': 3807, 'immer': 3808, 'dänische': 3809, 'flagge': 3810, 'ulven': 3811, 'buerakruter': 3812, 'faktiskt': 3813, 'ganska': 3814, 'fattigt': 3815, 'väl': 3816, 'även': 3817, 'chans': 3818, 'portionen': 3819, 'fyller': 3820, 'rund': 3821, 'mage': 3822, 'invaderet': 3823, 'succesfuldt': 3824, 'brave': 3825, 'fordrukne': 3826, 'kirsebærlikør': 3827, \"g'er\": 3828, 'initiativ': 3829, 'kraftigt': 3830, 'afspejlet': 3831, 'studietur': 3832, 'uacceptabelt': 3833, 'casual': 3834, 'konstatere': 3835, 'fraværet': 3836, 'cirka': 3837, 'regnede': 3838, 'studenterkørsel': 3839, 'samtalen': 3840, 'yeah': 3841, 'personens': 3842, 'sorry': 3843, 'roman': 3844, 'ätande': 3845, 'bastubadande': 3846, 'muppar': 3847, 'licens': 3848, 'lejre': 3849, 'fejlagtigt': 3850, 'stemmerne': 3851, 'trish': 3852, 'regan': 3853, 'svårt': 3854, 'låter': 3855, '😘': 3856, 'ursäkta': 3857, 'grammatiska': 3858, 'fel': 3859, 'søstre': 3860, 'liksom': 3861, 'februari': 3862, 'juli': 3863, 'fler': 3864, 'datum': 3865, 'enade': 3866, 'course': 3867, 'oksen': 3868, 'hammel': 3869, 'missen': 3870, 'amsterdam': 3871, 'team': 3872, 'easy': 3873, 'forbindes': 3874, 'psykiatrien': 3875, 'staver': 3876, 'begår': 3877, 'kortfattet': 3878, 'journalnotater': 3879, 'astroels': 3880, 'oplysningsens': 3881, 'idealer': 3882, 'humoristisk': 3883, 'burkaforbudet': 3884, 'sorteste': 3885, 'saudiske': 3886, 'imamer': 3887, 'selvforståelse': 3888, 'funky': 3889, 'progressiv': 3890, 'middelalderstyle': 3891, 'success': 3892, 'breeds': 3893, 'jealousy': 3894, 'klovn': 3895, 'vredt': 3896, 'færde': 3897, 'åndsvagt': 3898, 'trots': 3899, 'oranje': 3900, '1581': 3901, 'dagspanje': 3902, 'vask': 3903, 'fremmest': 3904, 'bombningerne': 3905, 'inklusiv': 3906, 'røvfuld': 3907, 'sarkasmen': 3908, 'direkt': 3909, 'diskret': 3910, 'swedistan': 3911, 'granater': 3912, 'pizzariaer': 3913, 'ment': 3914, 'eksportvare': 3915, 'smagsløse': 3916, 'indskud': 3917, 'stål': 3918, 'imperiale': 3919, 'imperialister': 3920, 'modargument': 3921, 'kompensere': 3922, 'ministre': 3923, 'øges': 3924, 'risikovillighed': 3925, 'kastet': 3926, 'frådende': 3927, 'skærmen': 3928, 'sunken': 3929, \"'hvid'\": 3930, 'nedstammet': 3931, 'tér': 3932, 'brokker': 3933, 'snotunge': 3934, 'majestætsfornærmelse': 3935, 'afværget': 3936, 'natholdet': 3937, 'showet': 3938, 'klippede': 3939, 'shabadibadabdab': 3940, 'danskjävleri': 3941, 'phwoaarrrrr': 3942, '2g': 3943, 'btc': 3944, 'lap': 3945, 'fineste': 3946, 'kvarter': 3947, 'indbetaler': 3948, 'skat¿': 3949, 'husleje': 3950, 'registeret': 3951, 'streame': 3952, 'digitalt': 3953, 'kødsovs': 3954, 'tyben': 3955, 'kummunist': 3956, 'præciserer': 3957, 'tåle': 3958, 'pain': 3959, 'skider': 3960, 'exit': 3961, 'gentagne': 3962, 'rodalon': 3963, 'røvtur': 3964, 'stuegulvet': 3965, 'tilbageblevne': 3966, 'halløj': 3967, 'bagpelsen': 3968, 'bedrag': 3969, 'hensigt': 3970, 'reelle': 3971, 'syrerne': 3972, 'mægtig': 3973, 'folkehøvding': 3974, 'begrebet': 3975, 'hurtigpasta': 3976, 'pris': 3977, 'stevia': 3978, 'kemikalier': 3979, 'saftevand': 3980, 'smagte': 3981, 'lakrids': 3982, 'udrikkeligt': 3983, 'fun': 3984, 'gentagende': 3985, 'reagere': 3986, 'ryssian': 3987, 'medlidenhedskram': 3988, 'kedeligt': 3989, 'rubjerg': 3990, 'knude': 3991, 'urløerne': 3992, 'line': 3993, 'indendøre': 3994, 'danskjäääävlar': 3995, 'universial': 3996, 'tillverkar': 3997, 'total': 3998, 'vejtrækning': 3999, 'skød': 4000, '❤️🌧': 4001, 'trefoldigt': 4002, 'funnyjunk': 4003, 'forside': 4004, 'godnat': 4005, 'vestligt': 4006, 'opbygget': 4007, 'stoppes': 4008, 'asp': 4009, 'atombombe': 4010, 'fucker': 4011, 'partifæller': 4012, 'påstå': 4013, 'ahlgrens': 4014, 'bilar': 4015, 'hjemmebag': 4016, 'duft': 4017, 'nederlag': 4018, '8000': 4019, 'lps': 4020, 'hyggelig': 4021, 'lyserøde': 4022, 'levere': 4023, 'genbrugsstationen': 4024, 'metal': 4025, 'worcestershire': 4026, 'steno': 4027, 'frihedsgudinden': 4028, 'kastrup': 4029, 'landede': 4030, 'muliggjorde': 4031, 'computerchips': 4032, 'royalist': 4033, 'magrethe': 4034, 'nazist': 4035, 'fise': 4036, 'hm': 4037, 'hatten': 4038, 'omar': 4039, 'ynglings': 4040, 'komikere': 4041, 'ivrige': 4042, 'mellemøstlig': 4043, 'guder': 4044, 'ateist': 4045, 'sejere': 4046, 'næsteved': 4047, 'hils': 4048, 'udlænninge': 4049, 'tattoos': 4050, 'merc': 4051, 'alumni': 4052, 'trojanske': 4053, 'øhhh': 4054, 'kaptajn': 4055, 'kaper': 4056, 'kattegat': 4057, '1981': 4058, 'downloades': 4059, 'cpu': 4060, 'forsinker': 4061, 'nostalgiske': 4062, 'forsinkelse': 4063, 'dosbox': 4064, 'urlærktøj': 4065, 'sjællændere': 4066, 'fyi': 4067, 'delikatesse': 4068, 'afdelingen': 4069, 'supermarked': 4070, 'carolina': 4071, 'justitsministeren': 4072, 'formoder': 4073, 'hovedrolle': 4074, 'bekæmpelse': 4075, 'stofmisbrug': 4076, 'fjerneste': 4077, 'enkelte': 4078, 'gøy': 4079, 'gi': 4080, 'skikkelig': 4081, 'smekk': 4082, 'rumpen': 4083, 'gulne': 4084, 'paryk': 4085, 'konens': 4086, 'sminke': 4087, 'frakken': 4088, 'blåv': 4089, 'væsel': 4090, 'bææætsj': 4091, 'nationalt': 4092, 'fyrtårn': 4093, 'juicebarer': 4094, 'sushi': 4095, 'åsyn': 4096, 'hjertestop': 4097, 'vidunder': 4098, 'gyldig': 4099, 'buket': 4100, 'metaldetektorer': 4101, 'vanvittige': 4102, 'tegn': 4103, 'kontrolere': 4104, 'rummet': 4105, 'honor': 4106, 'kriger': 4107, 'indspiste': 4108, 'tossede': 4109, 'tøjlerne': 4110, 'befri': 4111, 'billar': 4112, 'wium': 4113, 'bunden': 4114, 'medinas': 4115, 'indholdsløse': 4116, 'tekster': 4117, 'folkefest': 4118, 'dokumentarprogram': 4119, 'imerco': 4120, 'opklaret': 4121, 'limet': 4122, '100år': 4123, 'overtal': 4124, 'hjernedød': 4125, 'mentalitet': 4126, 'voldsommere': 4127, 'overmand': 4128, 'vsovs': 4129, 'kanaler': 4130, 'undtagen': 4131, 'p1': 4132, 'plejede': 4133, 'lortemusik': 4134, \"roomba'en\": 4135, 'kirkegården': 4136, 'underlødig': 4137, 'djævelens': 4138, 'advokat': 4139, 'jantelov': 4140, 'statsministeren': 4141, 'budget': 4142, 'pryde': 4143, 'kontoret': 4144, 'kjötbulla': 4145, 'henvender': 4146, 'busines': 4147, 'rådhuset': 4148, 'elfenben': 4149, 'tidløst': 4150, 'nydelsesværdi': 4151, 'bilkas': 4152, 'trend': 4153, 'modeller': 4154, 'modeinteriør': 4155, 'utide': 4156, 'signaler': 4157, 'ambassadør': 4158, 'millionby': 4159, 'nogengange': 4160, 'pylrede': 4161, 'ledere': 4162, 'småpenge': 4163, 'melamin': 4164, 'skrivebord': 4165, 'hjemmeflettede': 4166, 'lampeskærme': 4167, 'borgmesterkontoret': 4168, 'kikke': 4169, 'apoteker': 4170, 'kontorer': 4171, 'byens': 4172, 'ledelse': 4173, 'djævlemode': 4174, 'off': 4175, 'egentlige': 4176, 'sparepærer': 4177, 'indlemmet': 4178, 'stortyske': 4179, 'coffeeshop': 4180, 'flader': 4181, 'velgørenhed': 4182, 'firmaer': 4183, 'gofundme': 4184, 'indsend': 4185, 'frøerne': 4186, 'ledet': 4187, 'pingo': 4188, 'kløjs': 4189, 'påskmusten': 4190, 'underlagt': 4191, 'suverænitet': 4192, 'tilfredse': 4193, 'imgur': 4194, 'middag': 4195, 'forspring': 4196, 'angelsakserne': 4197, 'hærge': 4198, 'udnytte': 4199, 'mønstring': 4200, 'skibene': 4201, 'skyts': 4202, 'opmærksom': 4203, 'sletter': 4204, 'know': 4205, 'that': 4206, 'sea': 4207, 'empire': 4208, 'ruled': 4209, 'cnut': 4210, 'lassen': 4211, 'victoria': 4212, 'cross': 4213, 'hædersbevisning': 4214, 'barnddom': 4215, 'kasettebånd': 4216, 'hudløshed': 4217, 'forme': 4218, 'dfs': 4219, 'nazistiske': 4220, 'elementer': 4221, 'udmærket': 4222, 'alen': 4223, 'rædsome': 4224, 'monstre': 4225, 'rettænkende': 4226, 'fodrer': 4227, 'løverne': 4228, 'pregnant': 4229, 'fornavn': 4230, 'further': 4231, 'enquiries': 4232, 'hesitate': 4233, 'contact': 4234, 'phone': 4235, 'numbe': 4236, 'profession': 4237, 'blabla': 4238, 'gynecologist': 4239, 'punktum': 4240, 'accepteret': 4241, 'rørende': 4242, 'driller': 4243, 'jorder': 4244, 'sammenholdsfølelsen': 4245, 'halvvikinger': 4246, 'z': 4247, 'blått': 4248, 'fuc': 4249, 'ing': 4250, 'vred': 4251, 'markeringer': 4252, 'morgenkaffe': 4253, 'hadeobjekt': 4254, 'undertrykt': 4255, 'skåret': 4256, 'hiv': 4257, 'nålen': 4258, 'vend': 4259, 'fodboldkamp': 4260, 'afskyelig': 4261, 'idelogi': 4262, 'afskyelige': 4263, 'ideologier': 4264, 'absurd': 4265, 'legitimeres': 4266, '“religion”': 4267, 'stærkstrømsreglementet': 4268, 'sjoven': 4269, 'tvivlen': 4270, 'tilgode': 4271, 'rod': 4272, 'folkelig': 4273, 'repræsentant': 4274, 'roder': 4275, 'brænder': 4276, 'sygemelder': 4277, 'freehansisland': 4278, 'org': 4279, 'feminister': 4280, 'flygtningene': 4281, 'fyldes': 4282, 'fejr': 4283, 'underbart': 4284, 'lycka': 4285, 'framtiden': 4286, 'historielærer': 4287, 'giraf': 4288, 'misdannet': 4289, 'aflivet': 4290, 'blanding': 4291, 'lama': 4292, 'socialist': 4293, 'airpods': 4294, 'minecraft': 4295, 'ævl': 4296, 'medborgere': 4297, 'invasionsmagt': 4298, 'whistleblower': 4299, 'afslører': 4300, 'ulovlige': 4301, 'miljøer': 4302, 'udbrydere': 4303, 'whistleblowers': 4304, 'opfattes': 4305, 'omgangskredse': 4306, 'heard': 4307, 'first': 4308, 'sniffe': 4309, 'bagerens': 4310, 'hørtes': 4311, 'ordtak': 4312, 'tatt': 4313, 'nesen': 4314, 'bløffet': 4315, 'alternativ': 4316, '‘wtf’': 4317, 'sexet': 4318, 'photoshoppe': 4319, 'legokassen': 4320, '‘sammen’': 4321, 'distanceret': 4322, 'skrevne': 4323, 'stupidt': 4324, 'skraldet': 4325, 'tomhjernede': 4326, 'emoji': 4327, 'msn': 4328, 'følg': 4329, 'koncept': 4330, 'friture': 4331, 'frikadellerne': 4332, 'kingos': 4333, 'kirke': 4334, 'throttlet': 4335, 'torrenter': 4336, '5mbit': 4337, 'upload': 4338, 'hastigheden': 4339, 'torrents': 4340, 'vpn': 4341, 'forestiller': 4342, 'uploadet': 4343, 'bridge': 4344, 'mode': 4345, 'kokke': 4346, 'kombination': 4347, 'tis': 4348, 'svennebrogen': 4349, 'fortaller': 4350, 'sammentyggeloven': 4351, 'opfordres': 4352, 'anklaget': 4353, 'sikret': 4354, 'anklagers': 4355, 'påstået': 4356, 'modbevises': 4357, 'bevises': 4358, 'bakke': 4359, 'libyen': 4360, 'fældet': 4361, 'skada': 4362, 'kunnat': 4363, 'göra': 4364, 'linus': 4365, 'höra': 4366, 'universalis': 4367, 'dødelig': 4368, 'dosis': 4369, 'balrog': 4370, 'kugler': 4371, 'misundeligt': 4372, 'uovertrufne': 4373, 'visdom': 4374, 'kunnen': 4375, '50°': 4376, 'kødbolle': 4377, 'arbejdskraft': 4378, 'urlåd': 4379, 'underholdende': 4380, 'skæpper': 4381, 'bødekassen': 4382, '“hvad': 4383, 'svensk”': 4384, 'atomvåben': 4385, '15km': 4386, 'motorvejene': 4387, 'cowboy': 4388, 'henk': 4389, 'drøm': 4390, 'udkommer': 4391, 'løgne': 4392, 'ussel': 4393, 'bolonaise': 4394, 'al’dente': 4395, 'spærres': 4396, 'respektere': 4397, 'kompetencer': 4398, 'branche': 4399, 'skjuler': 4400, 'sugerbabe': 4401, 'potato': 4402, 'different': 4403, 'name': 4404, 'hydelst': 4405, 'væren': 4406, 'programmerne': 4407, 'grundstenen': 4408, \"'parks\": 4409, \"recreation'\": 4410, 'hovedpersonen': 4411, 'episoderne': 4412, 'wikipedia': 4413, 'serien': 4414, 'basert': 4415, 'hellip': 4416, 'opprinnelig': 4417, 'filmkomedier': 4418, 'ble': 4419, 'importert': 4420, 'hadde': 4421, 'publikumssuksess': 4422, 'datidens': 4423, 'regissør': 4424, 'knut': 4425, 'bohwim': 4426, 'fikk': 4427, 'ideen': 4428, 'lage': 4429, 'skuespillere': 4430, 'urlén': 4431, 'agurketid': 4432, 'familiefar': 4433, 'succesfulde': 4434, 'lillesøster': 4435, 'ubehagelige': 4436, 'underlige': 4437, 'rygtes': 4438, 'yousee': 4439, 'blakket': 4440, 'baggrundshistorien': 4441, 'patterne': 4442, 'hug': 4443, 'mangle': 4444, '“den': 4445, 'skole”': 4446, 'abdicerer': 4447, 'tildække': 4448, 'udradere': 4449, 'aftager': 4450, 'tlf': 4451, 'millard': 4452, 'urlænge': 4453, 'affærer': 4454, 'luftrum': 4455, 'høtyven': 4456, 'godtnok': 4457, 'gevaldige': 4458, 'moobs': 4459, 'smør': 4460, 'uni': 4461, 'flinkere': 4462, 'finnere': 4463, 'umulige': 4464, 'privat': 4465, 'forman': 4466, 'rengøring': 4467, 'regnskab': 4468, 'skatteforholdene': 4469, 'goder': 4470, 'gaver': 4471, 'opereret': 4472, 'epic': 4473, 'laban': 4474, 'hidkaldte': 4475, 'voldsorgie': 4476, 'ahh': 4477, 'hevet': 4478, 'forgældet': 4479, 'troværdighed': 4480, 'fandtes': 4481, 'beskyldte': 4482, 'gjord': 4483, 'forbud': 4484, 'ressource': 4485, '“blot”': 4486, 'etisk': 4487, 'sølvpapirshatte': 4488, 'antisemitisme': 4489, 'drivhustomater': 4490, 'feeedt': 4491, 'signe': 4492, 'privaten': 4493, 'dannebrogsflag': 4494, 'foldet': 4495, 'kulturelt': 4496, 'fjernt': 4497, 'sammenkoblet': 4498, 'tydelig': 4499, 'berettiget': 4500, 'undren': 4501, 'båret': 4502, 'optrækket': 4503, 'satw': 4504, 'gående': 4505, 'sågar': 4506, 'bukket': 4507, 'afdøde': 4508, 'blomsterne': 4509, 'jur': 4510, 'betragtet': 4511, 'low': 4512, 'altan': 4513, 'agario': 4514, 'tønde': 4515, 'mjød': 4516, 'black': 4517, 'army': 4518, 'medlem': 4519, 'obc': 4520, 'flugt': 4521, 'sociologiske': 4522, 'migmigernes': 4523, 'eskalerende': 4524, 'æhh': 4525, 'kvalt': 4526, 'ællinger': 4527, 'franskmand': 4528, 'bidedag': 4529, 'bide': 4530, 'overvågningskamera': 4531, 'nåå': 4532, 'ønsk': 4533, '1644': 4534, 'kilimanjaro': 4535, '5800': 4536, 'modsiger': 4537, 'manglende': 4538, 'lederegenskaber': 4539, 'whooooaaaa': 4540, 'mø': 4541, 'graham': 4542, 'hæhæhæ': 4543, 'sommerhuse': 4544, 'skandaløst': 4545, 'pesfarvede': 4546, 'eye': 4547, 'funkar': 4548, 'skrivit': 4549, 'protip': 4550, 'ulækkert': 4551, 'raufwähl': 4552, 'für': 4553, 'sie': 4554, 'mein': 4555, 'guter': 4556, 'herr': 4557, 'korruptions': 4558, 'bølge': 4559, 'chokerende': 4560, 'medicinstuderende': 4561, 'eksaminer': 4562, 'miljøstyrelsens': 4563, 'nem': 4564, 'selvmedlidenhed': 4565, 'biedermeierkultur': 4566, 'hamle': 4567, 'græsset': 4568, 'grønnere': 4569, 'skinken': 4570, 'graders': 4571, 'oktober': 4572, 'sprogfærdigheder': 4573, 'besynderlige': 4574, 'krapylets': 4575, 'regning': 4576, 'hærværket': 4577, 'mindreårige': 4578, 'fratrækkes': 4579, 'forældrenes': 4580, 'overførselsindkomst': 4581, 'multi': 4582, 'uundgåelige': 4583, 'messi': 4584, 'ronaldo': 4585, 'fodbold': 4586, 'relatere': 4587, 'nydannede': 4588, 'feministparti': 4589, 'alibi': 4590, 'forsmåede': 4591, 'pigebarn': 4592, 'misundelig': 4593, 'orgasme': 4594, 'takket': 4595, 'niveauer': 4596, 'kravet': 4597, 'provokere': 4598, 'dyreplageri': 4599, 'himym': 4600, 'travlt': 4601, 'skønhed': 4602, 'tæve': 4603, 'besluttet': 4604, 'blandingen': 4605, 'bogstaver': 4606, 'debatter': 4607, 'urløderne': 4608, 'jeps': 4609, 'ghetto': 4610, '🙄': 4611, 'useriøs': 4612, 'dan': 4613, 'fugtige': 4614, 'lortepostideer': 4615, 'stolpskott': 4616, 'slatten': 4617, 'morale': 4618, 'afsluttede': 4619, 'kalkuleret': 4620, 'beføjelser': 4621, 'mængde': 4622, 'udnyttede': 4623, 'gymnasiets': 4624, 'kompetence': 4625, 'spildte': 4626, 'underviseres': 4627, 'virkelige': 4628, 'banket': 4629, 'indstilling': 4630, 'eksamensbevis': 4631, 'snit': 4632, 'pædagogmedhjælper': 4633, 'lortebleer': 4634, 'happy': 4635, 'dåd': 4636, 'sikrede': 4637, 'storsejr': 4638, 'kjöttbullar': 4639, 'regnskov': 4640, 'flottere': 4641, 'mrn': 4642, 'facebooks': 4643, 'guldmine': 4644, 'hundelorte': 4645, 'varevogne': 4646, 'tales': 4647, 'bevæge': 4648, 'skiløb': 4649, 'atletik': 4650, 'formentlig': 4651, 'sportsgrene': 4652, 'medalje': 4653, 'sølv': 4654, 'flytninge': 4655, 'tilføje': 4656, 'opdatering': 4657, 'kærer': 4658, 'racer': 4659, 'flokdyr': 4660, 'full': 4661, 'suspensions': 4662, 'vandblærer': 4663, 'gopro': 4664, 'verdensmesterskab': 4665, 'interessante': 4666, 'asshats': 4667, 'klub': 4668, 'regionalt': 4669, 'mængden': 4670, 'asshat': 4671, 'proff': 4672, 'hareskov': 4673, 'hillerød': 4674, 'racercyklister': 4675, 'afbræk': 4676, 'hvaøøøh': 4677, \"skøj'\": 4678, 'madlavningen': 4679, 'kampagne': 4680, 'ddrjake': 4681, 'twitch': 4682, 'interactive': 4683, 'skavank': 4684, 'skinnende': 4685, 'dobbeltmoral': 4686, 'udfylde': 4687, '30000': 4688, 'spore': 4689, 'trykkemaskinen': 4690, 'holluf': 4691, 'pile': 4692, 'sø': 4693, 'regnskærm': 4694, 'antifa': 4695, 'afskum': 4696, 'rekylen': 4697, 'lejligheden': 4698, 'dæj': 4699, 'vendsyssel': 4700, 'represents': 4701, 'sommeren': 4702, 'campingferie': 4703, 'finalen': 4704, 'elakt': 4705, 'fingeren': 4706, 'motorcykel': 4707, 'fuckfingre': 4708, 'ko': 4709, 'danskjævel': 4710, 'fadbamsen': 4711, 'beskyttelse': 4712, 'jaaaaaaaaaa': 4713, 'guuuuuuuuuuuuuuuuuuuld': 4714, 'figuren': 4715, 'udgjorde': 4716, 'trees': 4717, 'original': 4718, 'filters': 4719, 'pu': 4720, 'brænding': 4721, 'kurt': 4722, 'cobain': 4723, 'veldokumenteret': 4724, 'closed': 4725, 'sjusk': 4726, 'frankrig': 4727, 'relativt': 4728, 'clinton': 4729, 'udlevede': 4730, 'sexfantasier': 4731, 'svanerne': 4732, 'synger': 4733, 'forbrydelse': 4734, 'løjet': 4735, 'klynke': 4736, 'mena': 4737, 'lorten': 4738, 'pjuskebusk': 4739, 'pog': 4740, 'dario': 4741, 'von': 4742, 'slutty': 4743, 'juel': 4744, 'admiral': 4745, 'flåde': 4746, 'øland': 4747, 'møn': 4748, 'irsk': 4749, 'snyyyggt': 4750, 'opvarmning': 4751, 'programmet': 4752, 'fang': 4753, 'kontainer': 4754, 'hanen': 4755, 'træde': 4756, 'mysteriet': 4757, 'perkerne': 4758, 'roasters': 4759, 'procentvise': 4760, 'rig': 4761, 'bankdirektøren': 4762, 'afskedigelse': 4763, 'assistentens': 4764, 'kollegaer': 4765, 'løbes': 4766, 'hurtigere': 4767, 'primært': 4768, 'ulempe': 4769, 'klang': 4770, 'republikanernes': 4771, 'kampagner': 4772, 'tjent': 4773, 'ifht': 4774, 'uddannelses': 4775, 'udgifter': 4776, 'amerikaners': 4777, 'fællesskabet': 4778, 'tilkøber': 4779, 'maja': 4780, 'matilde': 4781, 'fosser': 4782, 'egendele': 4783, 'fanget': 4784, 'steges': 4785, 'lyspunkt': 4786, 'memo': 4787, 'secret': 4788, 'service': 4789, 'analgafler': 4790, 'mandsling': 4791, 'tidlige': 4792, 'eksport': 4793, 'betegnet': 4794, 'bacon': 4795, 'breakfast': 4796, 'skiferie': 4797, 'raid': 4798, 'kyster': 4799, 'handikappede': 4800, 'julekugler': 4801, 'juletræet': 4802, 'bidraget': 4803, 'civilizationen': 4804, 'ayy': 4805, 'lmao': 4806, 'kritiserer': 4807, 'initiativer': 4808, 'ellerter': 4809, 'citronmåner': 4810, 'hc': 4811, 'benny': 4812, 'anja': 4813, 'dies': 4814, 'jetzt': 4815, 'deutsches': 4816, 'unterlases': 4817, 'erkennt': 4818, 'aiman': 4819, 'abdallah': 4820, 'als': 4821, 'euren': 4822, 'neuen': 4823, 'herrscher': 4824, 'huldigt': 4825, 'knolli': 4826, 'tolle': 4827, 'knolle': 4828, 'lår': 4829, 'leverpostej': 4830, 'abe': 4831, 'træ': 4832, 'opfandt': 4833, 'ørevoks': 4834, 'dålig': 4835, 'detta': 4836, 'inge': 4837, 'medaljeoverraekkelsen': 4838, 'paa': 4839, 'forhaand': 4840, 'prostituere': 4841, 'prostitueret': 4842, 'nedgøre': 4843, 'fadbamse': 4844, 'bertel': 4845, 'portvin': 4846, 'kaminovn': 4847, 'wingback': 4848, 'chairs': 4849, 'iført': 4850, 'yndlingsblazer': 4851, 'tweed': 4852, 'læderlapper': 4853, 'ærmerne': 4854, 'ellert4lyfe': 4855, 'trillede': 4856, 'vejgaard': 4857, 'måsen': 4858, 'knallert': 4859, 'bette': 4860, 'puch': 4861, 'mælkekasse': 4862, 'baduljen': 4863, 'fyldte': 4864, 'cyklisterne': 4865, 'hadsundvej': 4866, 'resulterede': 4867, 'forpulede': 4868, 'skrummel': 4869, 'foranliggende': 4870, 'dyttede': 4871, 'fremme': 4872, 'vendetta': 4873, 'tuktuk': 4874, 'ladknallerter': 4875, 'cykelsti': 4876, 'endrant': 4877, 'naa': 4878, 'hage': 4879, 'kórs': 4880, 'ềfterligner': 4881, 'stojberg': 4882, 'kvalité': 4883, 'færdiggører': 4884, 'separatist': 4885, 'kungsleden': 4886, 'slæber': 4887, 'karolina': 4888, '71s': 4889, 'obligatorisk': 4890, 'sydpå': 4891, 'rekord': 4892, 'grille': 4893, 'sveder': 4894, 'tuder': 4895, 'glat': 4896, 'und': 4897, 'weiter': 4898, 'hypede': 4899, 'dranker': 4900, 'affald': 4901, 'riddance': 4902, 'loade': 4903, 'proxy': 4904, 'bamses': 4905, 'julerejse': 4906, 'dope': 4907, 'accepterer': 4908, 'evolution': 4909, '98': 4910, 'kujonagtige': 4911, 'anvende': 4912, 'teorien': 4913, 'overbevisninger': 4914, 'bræk': 4915, 'brune': 4916, 'identiske': 4917, 'hudfarven': 4918, 'klandre': 4919, 'videnskab': 4920, 'benægter': 4921, 'omfang': 4922, 'containerskibe': 4923, 'forhåbentligt': 4924, 'snor': 4925, 'mina': 4926, 'jä': 4927, 'blond': 4928, 'jantelagen': 4929, 'ansvarig': 4930, 'utan': 4931, 'generna': 4932, 'roastme': 4933, 'originalen': 4934, 'bevist': 4935, 'svindles': 4936, 'ændrer': 4937, 'intergreret': 4938, 'karriere': 4939, 'photo': 4940, 'kagebiks': 4941, 'ueno': 4942, 'tokyo': 4943, 'urlølgelig': 4944, 'treenighed': 4945, 'blyanter': 4946, 'vestager': 4947, 'indsamling': 4948, 'parten': 4949, 'beløbet': 4950, 'administrationen': 4951, 'direktørløninger': 4952, 'aldig': 4953, 'hvortil': 4954, 'såmænd': 4955, 'blege': 4956, 'asparges': 4957, 'omtale': 4958, 'besøgstallet': 4959, 'grumme': 4960, 'moralske': 4961, 'tømmermænd': 4962, 'knæ': 4963, 'regnes': 4964, 'sjok': 4965, 'boxen': 4966, 'broke': 4967, 'sparket': 4968, 'ifgl': 4969, 'obersvømmes': 4970, 'usjove': 4971, 'finn': 4972, 'nørbygaard': 4973, 'jamil': 4974, 'bestemme': 4975, '7000': 4976, 'bagklogskabets': 4977, 'skandiunavien': 4978, 'indbydes': 4979, 'impire': 4980, 'baltiske': 4981, 'slechsvig': 4982, 'holstein': 4983, 'lunde': 4984, 'indfydelse': 4985, 'kejserige': 4986, 'daværne': 4987, 'tidpunkt': 4988, 'mægtiste': 4989, 'fronten': 4990, 'majet': 4991, 'skdinavien': 4992, 'samlet': 4993, 'overlegne': 4994, 'strateger': 4995, '1100': 4996, '1200': 4997, 'frygt': 4998, 'indfyelse': 4999, 'vikinge': 5000, 'evidens': 5001, 'ægyptens': 5002, 'stoheds': 5003, '4000': 5004, '3000': 5005, 'fygtede': 5006, 'krigerer': 5007, 'skadinavien': 5008, 'kristens': 5009, 'lægere': 5010, 'samled': 5011, 'militære': 5012, 'omfatter': 5013, 'nordeuropa': 5014, 'normadefolk': 5015, 'rener': 5016, 'okser': 5017, 'henviser': 5018, 'weekendavisen': 5019, 'linker': 5020, 'zeus': 5021, 'sikkerhedsteater': 5022, 'fandema': 5023, 'såkaldte': 5024, '‘gerningsmand’': 5025, 'stær': 5026, 'gid': 5027, 'republik': 5028, 'madamme': 5029, 'skriftspråk': 5030, 'dessverre': 5031, 'talespråk': 5032, 'dritt': 5033, 'sier': 5034, 'heia': 5035, 'cyklet': 5036, 'tandem': 5037, 'udpræget': 5038, 'past': 5039, 'statistikkerne': 5040, 'opkonge': 5041, 'skreg': 5042, 'ophygge': 5043, 'flagellanter': 5044, 'kommentarene': 5045, 'minimale': 5046, 'skiller': 5047, 'statistiske': 5048, 'usikkerhed': 5049, 'bekymring': 5050, 'krænkede': 5051, 'skosåler': 5052, 'krænkelsesmuligheder': 5053, 'cajun': 5054, 'sounds': 5055, 'irriteret': 5056, 'ostehøvl': 5057, 'fesne': 5058, 'spåner': 5059, 'l2': 5060, 'k2': 5061, 'indvadrerpolitik': 5062, 'dimitterede': 5063, 'frømandskorpset': 5064, 'bekræftede': 5065, 'drab': 5066, 'elgekrig': 5067, 'finskytte': 5068, 'riges': 5069, 'væbnede': 5070, 'styrker': 5071, 'præcision': 5072, 'kontakte': 5073, 'spioner': 5074, 'surströmning': 5075, 'forberede': 5076, 'orm': 5077, 'udsletter': 5078, 'kræftædeme': 5079, 'dræbe': 5080, '700': 5081, 'klodser': 5082, 'omfattende': 5083, 'brandert': 5084, 'siriuspatruljens': 5085, 'arsenal': 5086, 'effekt': 5087, 'kontinentets': 5088, 'overflade': 5089, 'grusom': 5090, 'gengældelse': 5091, 'smarte': 5092, '“kommentar”': 5093, 'prisen': 5094, 'raseri': 5095, 'glædens': 5096, 'øllerne': 5097, 'skaderne': 5098, 'snildt': 5099, 'v90': 5100, 'årsdagen': 5101, 'suspekt': 5102, 'hvam': 5103, 'brætspil': 5104, 'industrien': 5105, 'sædvanlig': 5106, 'kær': 5107, '130k': 5108, 'kontorplads': 5109, 'overtag': 5110, 'assimilationen': 5111, 'arenaen': 5112, 'lignede': 5113, 'hyttar': 5114, 'näven': 5115, 'færge': 5116, 'samsø': 5117, 'kortet': 5118, 'slutter': 5119, 'forhånd': 5120, 'spejderbøgerne': 5121, 'omskrives': 5122, 'kompas': 5123, 'farer': 5124, 'fortvivlet': 5125, 'bindegal': 5126, 'morfar': 5127, '85': 5128, 'bærbar': 5129, 'rager': 5130, 'slidesår': 5131, 'hilarious': 5132, 'sølvpapirshatten': 5133, 'barbarisk': 5134, 'middelalderligt': 5135, 'primitivt': 5136, 'sjat': 5137, 'sparer': 5138, 'im14andthisisdeep': 5139, 'endu': 5140, 'omskære': 5141, 'degraderet': 5142, 'oppeg': 5143, 'svalt': 5144, 'tungan': 5145, 'bøsserøven': 5146, 'macron': 5147, 'mandfolket': 5148, 'ufarligt': 5149, 'forbrændingsanlægget': 5150, 'plastemballage': 5151, 'reducerer': 5152, 'madspild': 5153, 'udfase': 5154, 'gakket': 5155, 'elgen': 5156, 'asylansøger': 5157, 'canadiere': 5158, 'randen': 5159, 'kollaps': 5160, 'skidegodt': 5161, 'samarbejdet': 5162, 'heriblandt': 5163, 'kina': 5164, 'rovdrift': 5165, 'boligbobble': 5166, 'storbyerne': 5167, 'opkøbe': 5168, 'canadisk': 5169, 'hvidvaske': 5170, 'kinesiske': 5171, 'lyttet': 5172, 'chokolade': 5173, 'pålægschokolade': 5174, 'computeren': 5175, 'møder': 5176, 'ambassadører': 5177, 'kræver': 5178, 'afsat': 5179, 'erklæret': 5180, 'ugyldig': 5181, 'krisen': 5182, 'enhedslisten': 5183, 'unexpectedsmash': 5184, 'ækel': 5185, 'ullevi': 5186, 'navneforbud': 5187, 'detektiver': 5188, 'bøger': 5189, 'efterlyste': 5190, 'jazeera': 5191, 'arabiske': 5192, 'programmer': 5193, 'pik3': 5194, 'finurligt': 5195, 'tolker': 5196, 'udtrykt': 5197, 'sløset': 5198, 'hønsegård': 5199, 'hilset': 5200, 'håper': 5201, 'prøvd': 5202, 'øke': 5203, 'interessen': 5204, 'studentforeninger': 5205, 'vanskelig': 5206, 'emner': 5207, 'gått': 5208, 'spre': 5209, 'budskap': 5210, 'lurt': 5211, 'forelesere': 5212, 'sånn': 5213, 'programmeringsspråk': 5214, 'bruker': 5215, 'à': 5216, 'superior': 5217, 'ovenfor': 5218, 'alternativer': 5219, 'garbage': 5220, 'collecting': 5221, 'tilbageskridt': 5222, 'kvindernes': 5223, 'overfald': 5224, '169': 5225, 'pølsearv': 5226, 'kulturskatte': 5227, 'nationalmuseet': 5228, 'moldova': 5229, 'barcelona': 5230, 'manel': 5231, 'catalanske': 5232, 'spanske': 5233, 'manuel': 5234, 'journalisten': 5235, 'seere': 5236, 'zoos': 5237, 'negativ': 5238, 'rating': 5239, 'fornemmeren': 5240, 'scams': 5241, 'feature': 5242, 'nummeret': 5243, '“loyalitet”': 5244, 'formået': 5245, 'hedenske': 5246, 'dannevirke': 5247, 'øverst': 5248, 'øre': 5249, 'nederst': 5250, 'mørkeblå': 5251, 'leth': 5252, 'stillede': 5253, 'voldtægtforbrydere': 5254, 'folkemøde': 5255, 'holdes': 5256, 'brilliant': 5257, 'vattet': 5258, 'bohemian': 5259, 'grove': 5260, 'oldtiden': 5261, 'hygiene': 5262, 'kodesprog': 5263, 'fornemmer': 5264, 'ryster': 5265, 'tungen': 5266, 'nymoden': 5267, 'dansebamse': 5268, 'feministiske': 5269, 'undertoner': 5270, 'numsen': 5271, 'rykker': 5272, 'baglæns': 5273, 'fjerdebølge': 5274, 'rex': 5275, 'dinosaur': 5276, 'dystert': 5277, 'begravet': 5278, 'ordforråd': 5279, 'hovedløst': 5280, 'afledningsmanøvre': 5281, 'oplyste': 5282, 'defensive': 5283, 'mission': 5284, 'yellow': 5285, 'fisken': 5286, 'element': 5287, 'bekræfter': 5288, 'sonaren': 5289, 'dykker': 5290, 'gutter': 5291, 'referer': 5292, 'pilgrimme': 5293, 'tolke': 5294, 'forbipassere': 5295, 'apparat': 5296, 'generobre': 5297, 'forfædres': 5298, 'fremtidige': 5299, 'staves': 5300, 'urlølge': 5301, 'afkode': 5302, 'ders': 5303, 'græde': 5304, 'urlædre': 5305, 'dobbelte': 5306, 'betydning': 5307, 'skynde': 5308, 'oldtidsagenters': 5309, 'nosserne': 5310, 'hvaa': 5311, 'shadowban': 5312, 'aftensmad': 5313, 'forventet': 5314, 'venstreorienteret': 5315, 'photoshopped': 5316, 'samfundets': 5317, 'vagthund': 5318, 'usaglig': 5319, 'borger': 5320, 'dybdegående': 5321, 'udfordrende': 5322, 'jounalistik': 5323, 'mandslinger': 5324, 'overgreb': 5325, 'sympatiserer': 5326, 'velfortjente': 5327, 'vending': 5328, 'krænker': 5329, 'fortegn': 5330, 'forestil': 5331, 'umuligt': 5332, 'kortforsyningen': 5333, 'storhedstid': 5334, 'enorme': 5335, 'udbredelse': 5336, 'vikingetiden': 5337, 'nysgerrighed': 5338, 'eu3': 5339, \"can't\": 5340, 'yet': 5341, 'even': 5342, 'bigger': 5343, 'noob': 5344, 'pasterne': 5345, 'kompliment': 5346, 'skotterne': 5347, 'flagrer': 5348, 'fuckit': 5349, 'spørg': 5350, 'behøvede': 5351, 'förtjusta': 5352, 'ordning': 5353, 'flagg': 5354, 'gemmeleg': 5355, 'tronen': 5356, 'lund': 5357, '1676': 5358, '4get': 5359, 'aner': 5360, 'tævet': 5361, 'værdifulde': 5362, 'bilbo': 5363, 'charles': 5364, 'solide': 5365, 'synet': 5366, 'superellipse': 5367, 'geometriske': 5368, 'former': 5369, 'åndehul': 5370, 'titel': 5371, 'trukket': 5372, 'offentliggjorte': 5373, 'afstemningen': 5374, 'destroy': 5375, 'interwebz': 5376, 'ban': 5377, 'dmca': 5378, 'virksomhederne': 5379, 'copyrighted': 5380, 'sagsøge': 5381, 'domstole': 5382, 'operere': 5383, 'udtaget': 5384, 'filtrering': 5385, 'mv': 5386, 'funktion': 5387, 'megen': 5388, 'skade': 5389, 'princip': 5390, 'inkompetente': 5391, 'slagmark': 5392, 'hensyn': 5393, 'intelligente': 5394, 'scanne': 5395, 'modererer': 5396, 'koges': 5397, 'rødeee': 5398, 'hvidee': 5399, 'forvente': 5400, 'ködbullar': 5401, 'formet': 5402, 'testikler': 5403, 'broder': 5404, 'pusur': 5405, 'stads': 5406, 'gem': 5407, 'tudekællingerne': 5408, 'tie': 5409, 'lurker': 5410, 'problemstilling': 5411, 'skruet': 5412, 'slaraffenland': 5413, 'hylder': 5414, 'marijuana': 5415, 'jane': 5416, 'stiftede': 5417, 'kællingen': 5418, 'fart': 5419, 'kigget': 5420, 'joints': 5421, 'nødsaget': 5422, 'droppe': 5423, 'bund': 5424, 'økonomiske': 5425, 'ansættelse': 5426, 'skær': 5427, 'overlevelse': 5428, 'imidlertid': 5429, 'botilbud': 5430, 'multihandikappede': 5431, 'smadder': 5432, 'omtrent': 5433, 'psykisk': 5434, 'otte': 5435, 'begravelser': 5436, 'behandlingsforløb': 5437, 'ti': 5438, 'mix': 5439, 'dansen': 5440, 'halve': 5441, 'urlæsentlig': 5442, 'fikset': 5443, 'kærlighed': 5444, 'lussing': 5445, 'lyt': 5446, 'hvisken': 5447, 'øret': 5448, 'latin': 5449, 'orkanvind': 5450, 'orkanmedvind': 5451, 'odfd': 5452, 'dispensation': 5453, 'afbrændingsforbud': 5454, 'destruktionen': 5455, 'vederstyggelighed': 5456, 'risikoen': 5457, 'skovbrand': 5458, 'skrider': 5459, 'køkken': 5460, 'fraværsprocent': 5461, 'gymnasiemafiaen': 5462, 'hockeyn': 5463, 'evner': 5464, 'tilstødende': 5465, 'bosætte': 5466, 'behov': 5467, 'undvære': 5468, 'traf': 5469, 'hrmph': 5470, 'lånte': 5471, 'helligt': 5472, 'kapitalen': 5473, 'demands': 5474, 'standards': 5475, \"joke's\": 5476, 'femi': 5477, 'usælgelig': 5478, 'robot': 5479, 'støvsugeren': 5480, 'smilede': 5481, \"disq'et\": 5482, 'overtog': 5483, 'rövfuld': 5484, 'underhylere': 5485, 'godkendt': 5486, \"'kneb\": 5487, '100kr': 5488, 'matadorsedler': 5489, 'fortæres': 5490, 'højtider': 5491, 'hveder': 5492, 'opfundet': 5493, 'fridagen': 5494, \"go'\": 5495, 'reagerer': 5496, 'øverste': 5497, 'udvekslingsstudenter': 5498, 'cartoon': 5499, 'network': 5500, 'sofaen': 5501, 'serier': 5502, 'eastenders': 5503, 'landsbyhospitalet': 5504, 'sindsygt': 5505, 'ubrugelig': 5506, 'statistik': 5507, 'kalle': 5508, 'faggot': 5509, 'yndlings': 5510, 'titelsange': 5511, 'langskibene': 5512, 'fær': 5513, 'retmessige': 5514, 'irerne': 5515, 'besættelsesmagter': 5516, 'minuitter': 5517, 'triggered': 5518, 'transkønnede': 5519, 'præcise': 5520, 'kundskaber': 5521, 'trin': 5522, 'positiva': 5523, 'smäller': 5524, 'sånt': 5525, 'käk': 5526, 'dagligen': 5527, 'dör': 5528, 'kvickare': 5529, 'färre': 5530, 'handskas': 5531, 'modbevise': 5532, 'grusomme': 5533, 'pigen': 5534, 'opdigte': 5535, 'orker': 5536, 'klik': 5537, 'lokkemad': 5538, 'skuffe': 5539, 'serverede': 5540, 'kemikaliet': 5541, 'dihydrogenmonoxid': 5542, 'programmere': 5543, 'ouppfostrade': 5544, 'skymmer': 5545, 'sikten': 5546, 'bakom': 5547, 'skäms': 5548, 'lortepæl': 5549, 'whitepeoplegifs': 5550, 'eddermane': 5551, 'snaps': 5552, 'tændt': 5553, 'stegtflæsk': 5554, 'brunt': 5555, 'fattede': 5556, 'valget': 5557, 'skader': 5558, 'voksenlivet': 5559, 'operation': 5560, 'udsat': 5561, 'patienten': 5562, 'lokalisér': 5563, 'erstat': 5564, 'utvivlsom': 5565, 'forbedring': 5566, 'mæjestat': 5567, 'udlændingepolitik': 5568, 'billed': 5569, 'farvelagt': 5570, 'famile': 5571, 'afskaffet': 5572, 'sc2': 5573, 'binde': 5574, 'async': 5575, 'await': 5576, 'asynkront': 5577, 'javascript': 5578, 'es7': 5579, 'overraskelse': 5580, 'coroutine': 5581, 'urlændrer': 5582, 'strukturerer': 5583, 'kontrast': 5584, 'callbacks': 5585, 'futures': 5586, 'imho': 5587, 'foretrække': 5588, 'alignment': 5589, 'chaotic': 5590, 'populist': 5591, 'fortsætter': 5592, 'uendelige': 5593, 'slippery': 5594, 'slope': 5595, '“man': 5596, 'børn”': 5597, 'gudfader': 5598, 'forhud': 5599, 'tæer': 5600, 'lillefinger': 5601, 'minimere': 5602, 'fragte': 5603, 'frimærker': 5604, 'pissemasse': 5605, 'skejser': 5606, 'nullermænd': 5607, 'svamp': 5608, 'tæerne': 5609, 'fødsels': 5610, 'kneppede': 5611, 'synder': 5612, 'glorværdige': 5613, 'invasion': 5614, 'ængland': 5615, 'talentfulde': 5616, 'managere': 5617, 'faderlandet': 5618, 'corydons': 5619, 'berømte': 5620, 'integritet': 5621, 'smitte': 5622, 'efterligninger': 5623, 'druesukker': 5624, 'vinner': 5625, 'takk': 5626, 'context': 5627, 'applaus': 5628, 'københavnerstangen': 5629, 'krydret': 5630, 'urlårsfalken': 5631, 'uændret': 5632, 'köttbullar': 5633, 'badum': 5634, 'tschhhhh': 5635, 'radigale': 5636, 'andershemmingsen': 5637, 'hamrende': 5638, 'resterende': 5639, 'følgere': 5640, 'udemærket': 5641, 'samlested': 5642, 'instagrams': 5643, 'profiltekst': 5644, 'profilen': 5645, 'følgere🤗': 5646, '👻': 5647, 'snap': 5648, 'henvise': 5649, 'indtryk': 5650, 'selvopfundet': 5651, 'akt': 5652, 'indrømmet': 5653, 'indslaget': 5654, 'åbnet': 5655, 'melder': 5656, 'diverse': 5657, 'meldte': 5658, 'tll': 5659, 'ellert': 5660, 'madpornografi': 5661, 'vogn': 5662, 'stearinlys': 5663, 'dåserne': 5664, 'træets': 5665, 'træet': 5666, 'stuetempratur': 5667, 'sedler': 5668, 'bøssen': 5669, 'irrelevant': 5670, 'generalsekretæren': 5671, 'hiver': 5672, 'hyre': 5673, 'nødlidende': 5674, 'msf': 5675, 'minimal': 5676, 'frivillige': 5677, 'symbolsk': 5678, 'månedsløn': 5679, 'udsend': 5680, 'olivia': 5681, 'retfærdig': 5682, 'ekstatiske': 5683, 'proppede': 5684, 'ordret': 5685, 'fjerner': 5686, 'gravsteder': 5687, \"ramos'\": 5688, 'straffespark': 5689, 'bayern': 5690, 'evangeliske': 5691, 'uvidende': 5692, 'udbredt': 5693, \"you're\": 5694, 'lykkeligste': 5695, 'lykkeligere': 5696, 'titulere': 5697, 'majestæten': 5698, 'kopiera': 5699, 'gerningen': 5700, 'etniske': 5701, 'dean': 5702, 'lærerigt': 5703, 'kodning': 5704, 'datalogi': 5705, 'forske': 5706, 'jobmuligheder': 5707, 'ingeniør': 5708, 'holsten': 5709, 'låneord': 5710, 'fyldestgørende': 5711, 'modersmål': 5712, 'krumme': 5713, 'tær': 5714, 'søster': 5715, 'smørte': 5716, 'smøret': 5717, 'kanter': 5718, 'rugbrødet': 5719, 'sejrer': 5720, 'velfærdsstaten': 5721, 'romanforløbet': 5722, 'jysk': 5723, 'ovennævnte': 5724, 'unsubscribed': 5725, 'viske': 5726, 'timene': 5727, 'bælte': 5728, 'læder': 5729, 'mulig': 5730, 'whine': 5731, 'nedstemmerne': 5732, 'betændt': 5733, 'oringes': 5734, 'personale': 5735, 'vordingborg': 5736, 'kik': 5737, 'araber': 5738, 'fjolser': 5739, 'indfør': 5740, 'sovjettiden': 5741, 'endvidere': 5742, 'checkpoints': 5743, 'bilransagninger': 5744, 'nykøbing': 5745, 'omdøbt': 5746, 'skaldyrscenter': 5747, 'formulering': 5748, 'troværdigt': 5749, 'vestlige': 5750, 'visse': 5751, 'tilhørende': 5752, 'svunden': 5753, 'tidsalder': 5754, 'nordsjælland': 5755, 'måneds': 5756, 'anledning': 5757, 'accept': 5758, 'selfølgelig': 5759, 'nemmest': 5760, 'overvåget': 5761, 'kautionen': 5762, 'nazi': 5763, 'stemning': 5764, 'frajasaaaal': 5765, 'frajasaaaaal': 5766, '1865': 5767, 'pressen': 5768, 'indad': 5769, 'omtaler': 5770, 'psykopaters': 5771, 'parteringer': 5772, 'stenkast': 5773, 'norsviglandene': 5774, 'skånelandene': 5775, 'london': 5776, 'rugbrødsmad': 5777, 'skinkesalat': 5778, 'mikkeller': 5779, 'suveræn': 5780, 'verdensmester': 5781, 'kamikaze': 5782, 'lød': 5783, 'would': 5784, 'beliiiieve': 5785, 'danes': 5786, 'won': 5787, \"em'92\": 5788, 'landfast': 5789, 'råde': 5790, 'eeurovisionen': 5791, '1997': 5792, 'mother': 5793, 'bøfsander': 5794, 'drooooooooooooool': 5795, 'flaskekontaneren': 5796, 'burkaforbud': 5797, 'maskeringsforbud': 5798, 'sikkerhedshensyn': 5799, 'beklædning': 5800, '2009': 5801, 'opgørelse': 5802, 'steget': 5803, 'størst': 5804, 'bære': 5805, 'lovforslaget': 5806, 'gribe': 5807, 'familier': 5808, 'lemlæste': 5809, 'børns': 5810, 'kønsorganer': 5811, 'religiøse': 5812, 'udstiller': 5813, 'dobbeltmoralsk': 5814, 'bekæmpe': 5815, 'religions': 5816, 'særheder': 5817, 'sataneme': 5818, 'kryptiske': 5819, 'essentielt': 5820, 'udføre': 5821, 'sødt': 5822, 'indsætte': 5823, 'tillægsord': 5824, 'logikken': 5825, 'fortsæt': 5826, 'spin': 5827, 'dikterer': 5828, '600g': 5829, 'øget': 5830, 'dehydrering': 5831, 'sommervarme': 5832, 'konferencer': 5833, 'messer': 5834, 'udansk': 5835, 'patriothjerter': 5836, 'vogt': 5837, 'livstid': 5838, 'frataget': 5839, 'stemmeretten': 5840, 'stemmeret': 5841, 'madsen’s': 5842, 'saven': 5843, 'skruetrækkeren': 5844, 'slapper': 5845, 'musiker': 5846, 'bandet': 5847, 'blokfløjte': 5848, 'fever': 5849, 'dreams': 5850, 'postade': 5851, 'norwaypics': 5852, 'invite': 5853, 'skinnerne': 5854, 'formation': 5855, 'solnedgang': 5856, 'forkasteligt': 5857, 'undertrykke': 5858, 'øllet': 5859, 'blodspor': 5860, 'skude': 5861, 'ejderen': 5862, 'skive': 5863, 'venligboerne': 5864, 'hyggeligste': 5865, 'ristede': 5866, 'mayonnaise': 5867, 'leverpåsteg': 5868, 'hoveder': 5869, 'verdenskort': 5870, 'improved': 5871, 'edition': 5872, 'morsø': 5873, 'diamanten': 5874, 'fattet': 5875, 'hjerne': 5876, 'gerningsmanden': 5877, 'medmennesker': 5878, 'hvorvidt': 5879, 'forfærdelige': 5880, 'gerninger': 5881, 'naturkatastrofe': 5882, 'fænomen': 5883, 'hjernen': 5884, 'holdt': 5885, 'heldige': 5886, 'allesammen': 5887, '🇳🇴🇳🇴🇳🇴': 5888, 'fresh': 5889, 'prince': 5890, 'undskylder': 5891, 'eventuelle': 5892, 'oversættelsesfejl': 5893, 'dat': 5894, 'aa': 5895, 'doe': 5896, 'hundredevis': 5897, 'tusinde': 5898, 'varebiler': 5899, 'bilerne': 5900, 'maksimum': 5901, 'formiddage': 5902, 'nedeste': 5903, 'pff': 5904, 'veckor': 5905, 'tartelettirsdag': 5906, 'fornemmelsen': 5907, 'iq': 5908, 'tredive': 5909, 'anno': 5910, 'holdninger': 5911, 'way': 5912, 'foliehatten': 5913, 'indsnævrede': 5914, 'shittyfoodporn': 5915, 'huttelihut': 5916, '81': 5917, 'bestilt': 5918, 'je͟g': 5919, '͏t̴a̴ge̢ŗ': 5920, '͞al̀tid': 5921, 't͞o͡g̕e̴t': 5922, 'de͠r͟': 5923, '͟fr͢a͟': 5924, 'arbejde͜': 5925, 'h̵ͮ̍v̛ͭͥ̔̒̄̊o͂͒͐̏̏ͫȑͨ͛ͬ͐͂͠': 5926, 'j̿̓͑ͥͪ̔̃͠e̓ͨ̌̃̑gͣͣ̀̚': 5927, 'ͯ̍ͭ̅ͯ̿ͥ̕a̽ͫ̅̀ͨ̕r͑̑b̎ej̇͂̂͊̉̇͟dͭͧͯ҉e͐̉rͦͥ': 5928, '̡̈́ͫ̾̋̅̄̉pͤ̒͂ͤ̌̽̌å': 5929, '̔͌ͭ̏̚͡veͮ͐ͮ̏̽͆sͣ͘t͛͏ē̊̌̒̑r̈̆̈̎bŗ̄͗ͧ̋o̍͆͒͒̂̂': 5930, 'ͤ̿̓̎o͠gͮ͌̀̆̚͡': 5931, 'k͏̡̺͙̠̳͚ø̛̭r̫̺͕̺͠ͅé͏̼͙̘̟̯͓̩r͏̪̱̯͓͇̩́͜': 5932, '̶̶̹͙̻̺͔t̶̼̭͚̥̥̥̗i̺͍̦͟͜ͅl̡͓̰̟͈̰̪͙': 5933, '̡͕͇̲̫h̟̜̩̙͉͉͞ͅe̝̹̣͢l̷̼̝̖͍̦͎͘͞ͅv̯̹e̵͏̮̗̞̥̖̮̲̭̀d̡͍̩̕ę̜͓̩̞͓': 5934, '̴͕͙̙̞͍͘h̘̞͇v̴̤͇͈̟̮͕̳͖̰̀ò҉̴͖̱͍r͓̝̥͖̘̘̗': 5935, '̧̪͚̲̹̯͘j͏̡̨̦̻ę̞͡͞ǵ̷͎̰̬̞': 5936, '̢̡̺̭̩͓͠h̘͙͍̩͈̥͙͉͚͟a͓̪̠̤̦̗͠r̸҉̷͈̫͓͍̻̯̻̦': 5937, '̸҉̳͞e̷̟̳͘ǹ̶̞̲̗̮̟̜̪': 5938, 'r̷͉͓͖̹̜̕ͅì̧͕̪͈͙̫̝̬̙̗̺̘̗̱̺̩̣͇͟m̴̻̼̬̼͇̕͝͞͝ͅe̴̢҉̙͔̹̘̩̱͢ĺ̡̠͓̙̱̙̬̤̳̥̭̲͕͕̯͎̭͙̕ì̷̧͔͚͈̣͕͍ǵ͖͉̪̭̠̜͕̖͟t̷̵̸̼̖͈̞̙̭̻̦̲͖': 5939, '̡̙̮̫̦̱̼́͢͟͠ͅs̸͏̣͙̦̻͉̩̠̬̼̺͇v̶̨̗̪͈̣̬̖̥̝̮̟̣͟͟ͅͅę̷̦̪̬̩̰̤̰̫͖̘̱̱̣͓͓͘͜͜d͏̴̢̘̙̗ͅì̡̛̫̟̘̟͔͔̮̹͕̱̭ͅg̤̹͉͖͙̫̦͎̮̰̣̳͢͝͞': 5940, '̸͔̹̥̠̝̤̯̩͜͠ͅk̷͚̠̼͎̰̣̳̮̬͈͍̬̦̭̹̣̥̕æ̵̧͠͝͏̗̲̪͙̳̙̙̠l̡̤̲̤̩̻̲͢d̨̝͖̩̭̭͖̱͙̬̳͕̺͘è҉̶̦̳̭̬̦̘̞̗͓̫͕̞̼͈̲r̢̞̠̺̮̬͇̪̣͔̭̠͕̙̟͜͟l̶̶̛͚͚̖͉̺̰̙̭̪̟̘̱͜ͅę̨̖̟̠̠͉̘̹̤̤̱͓̮̮̻́j̷̡̟͍̗̩͙̻̪̯̝̗̫̥̠̞̫̩̗̳͘͢ͅĺ͏̧̱̰͍̘͓̬̣̜͍̦͢͞i͏͕̤̫̼͘g̡̀͏͍̬̳͚͔̞̻̝͕̲̙͇̱̹̘̘̪̪̻͞h̴҉̝̦͈͚͓͎̫̳͉͖̹̝̰̭͡è̸̢̹̹͖̖̮̻̭̬͜͡d̢͕͖̼̘̳̭̖̻͙͔͙̩̤͍͔͉͡': 5941, '̛̫̤͖͈͕̦̠̪͈̫̼͇̥̲͔͜ḿ̷̧̛̮̼̳̗̠̭̲̻͓è̴̡͖̳̻̳̱̜̹͢͠ḑ̸̵̭̭̱͙̭̮͕̖̯̦̣͇̯̰̻̙͡': 5942, '̨̕͜͝͏̖̖̦̮͚̳̜̦ę̙̪̦͉̹͍͎̙͈̗̥͜͜͡g̸̢̧̨̛̰̣̲̻͓̼̤̟̟̜̺̟͖͍̫̰͚͉e̷̴̛̼̯͍̹͟t̻̗͉͍̜̞̬̹̣̻͔̱̟̩́': 5943, '̨̛́҉͉͓̗͉̮̣̘͍͎͓̪̘ͅb҉̡͎̼͚͙̘a̰̦͎̼͕̖̼͍̮̝͉͚͉̩̤͘͢͢͜͡d̵̷̬̬͈͈̬̳̠͇̲̱̯̤̖̰̦̺̜͔̲͠͞': 5944, '҉̢̩̞̻̺̞͎̹̮̥̘̞̺͉̼͖̳̦ͅͅ': 5945, 'rødkaalborg': 5946, 'stabil': 5947, 'berggrund': 5948, 'høtyvene': 5949, 'faklerne': 5950, 'jagtes': 5951, 'cykelidiot': 5952, 'stressende': 5953, 'racercykel': 5954, 'indskrænket': 5955, 'alternativt': 5956, 'kærligheden': 5957, 'pensionsalder': 5958, 'overens': 5959, 'gennemsnits': 5960, 'danskerens': 5961, \"godwin's\": 5962, 'law': 5963, 'diskusion': 5964, \"'0'\": 5965, 'pilluarit': 5966, 'asavakkit': 5967, 'monarki': 5968, 'befrielsesdag': 5969, 'pizza': 5970, 'istedenfor': 5971, 'elendigt': 5972, 'opdraget': 5973, 'bumset': 5974, 'klisterhår': 5975, 'misforståede': 5976, 'postmændene': 5977, 'ægget': 5978, 'rolige': 5979, 'knægte': 5980, 'virksomhed': 5981, 'forurening': 5982, 'char': 5983, '“nogen': 5984, 'hertugdømmer”': 5985, 'meeeen': 5986, 'kjære': 5987, 'bjergdansken': 5988, 'feires': 5989, 'skolebrød': 5990, 'sleep': 5991, 'pod': 5992, 'aliens': 5993, 'arbejderkvarter': 5994, 'arbejderpartier': 5995, 'skolereformen': 5996, 'youtubere': 5997, 'edmonton': 5998, 'alberta': 5999, 'dårligste': 6000, 'obama': 6001, 'dukkede': 6002, 'sign': 6003, '“dobbelt': 6004, 'muhammed”': 6005, 'frisører': 6006, 'frisure': 6007, 'børster': 6008, 'hårspray': 6009, 'våbenskab': 6010, 'margarine': 6011, 'smøred': 6012, \"'ed\": 6013, 'målsætning': 6014, 'pacifist': 6015, 'whole': 6016, 'foods': 6017, 'hat': 6018, 'laden': 6019, 'konduktøren': 6020, 'skiftet': 6021, 'kek': 6022, 'satir': 6023, 'allvar': 6024, 'vanligt': 6025, 'javle': 6026, 'shittyhdr': 6027, 'condolences': 6028, 'czech': 6029, 'republic': 6030, 'næsvis': 6031, 'browseren': 6032, 'hørelse': 6033, 'sødere': 6034, 'glückwunsch': 6035, 'spytte': 6036, 'berigelse': 6037, 'undergang': 6038, 'sørgeligste': 6039, 'scener': 6040, 'tegnefilms': 6041, 'moar': 6042, 'trenger': 6043, 'eldre': 6044, 'oppførsel': 6045, 'bruno': 6046, 'mars': 6047, 'tilter': 6048, 'grillen': 6049, 'k': 6050, 'fæle': 6051, 'mums': 6052, 'nordmand': 6053, 'skuffer': 6054, 'usanerne': 6055, 'overrasker': 6056, 'ronnie': 6057, 'très': 6058, \"j'aime\": 6059, 'bien': 6060, 'longue': 6061, 'vie': 6062, 'au': 6063, 'danemark': 6064, 'kuldegysninger': 6065, 'drs': 6066, 'aspiranter': 6067, 'væmmeligt': 6068, 'kristent': 6069, 'styreformer': 6070, 'diktatoriske': 6071, 'højreekstremisme': 6072, 'islamisterne': 6073, 'broholmer': 6074, 'frønland': 6075, 'færrest': 6076, 'aldersgrupper': 6077, 'lavest': 6078, 'aldersgruppe': 6079, 'lægemidler1': 6080, 'tabel': 6081, 'aldersgruppen': 6082, 'udgør': 6083, 'relative': 6084, 'udjævner': 6085, 'sti': 6086, 'gende': 6087, 'stiger': 6088, 'receptindløsning': 6089, 'laveste': 6090, 'tallene': 6091, 'inkluderer': 6092, 'medicin': 6093, 'plejehjem': 6094, 'vovse': 6095, 'russerne': 6096, 'shålålå': 6097, 'bragte': 6098, 'gyldne': 6099, 'øjeblikke': 6100, 'tilværelsen': 6101, 'hormonprins': 6102, 'steroider': 6103, 'kanonprins': 6104, 'kokonprins': 6105, 'tyfonprins': 6106, 'muligheder': 6107, 'vänner': 6108, 'blåser': 6109, 'hårt': 6110, 'sir’': 6111, 'bar’': 6112, 'rapportere': 6113, 'eksotiske': 6114, 'genstande': 6115, 'kolonierne': 6116, \"'konge'\": 6117, 'prølihørher': 6118, 'bröndby': 6119, 'ifs': 6120, 'klubbmärke': 6121, 'värsta': 6122, 'stamme': 6123, 'hullabulla': 6124, 'sved': 6125, 'sloges': 6126, 'c6': 6127, 'spot': 6128, 'hån': 6129, 'loke': 6130, 'faret': 6131, 'jætterne': 6132, 'bliv': 6133, 'økse': 6134, 'hugst': 6135, 'utaknemmelige': 6136, 'lømler': 6137, 'højrefløjens': 6138, 'slyngler': 6139, 'forrige': 6140, \"what's\": 6141, 'bastard': 6142, 'boy': 6143, 'against': 6144, 'kingdom': 6145, 'ekstrabladet': 6146, 'soldaten': 6147, 'præstation': 6148, 'medaljerne': 6149, 'dalar': 6150, 'hestedressur': 6151, 'meter': 6152, 'falmer': 6153, 'glansen': 6154, 'genopbygningen': 6155, 'atlet': 6156, 'ollegard': 6157, 'vibes': 6158, 'children': 6159, 'udførsel': 6160, 'selvstændig': 6161, 'politikeres': 6162, 'arbejdsforhold': 6163, 'mistanke': 6164, 'mohammed': 6165, 'fjellabe': 6166, 'praktikant': 6167, 'sfs': 6168, 'valgfest': 6169, 'indgav': 6170, 'misbrugere': 6171, 'fult': 6172, 'kvæles': 6173, 'huse': 6174, 'vågner': 6175, 'svampe': 6176, 'storskryende': 6177, 'vatnisse': 6178, 'true': 6179, 'politet': 6180, 'ressourcer': 6181, 'selvfølgeligt': 6182, 'danskt': 6183, 'hornmusik': 6184, 'fristad': 6185, 'arkitektur': 6186, 'irellevans': 6187, 'evne': 6188, 'japaneren': 6189, 'ordvits': 6190, 'bizar': 6191, 'hemipenis': 6192, 'programmører': 6193, 'gates': 6194, 'donald': 6195, 'knuth': 6196, 'sir': 6197, 'tim': 6198, 'bernes': 6199, 'lee': 6200, 'lovgivet': 6201, 'borgerræpresentationen': 6202, 'odiøse': 6203, 'crush': 6204, 'historieprofessoren': 6205, 'muhammedtegningerne': 6206, 'seancen': 6207, 'stødte': 6208, 'auditoriet': 6209, 'tidsrum': 6210, 'løst': 6211, '9gag4life': 6212, 'håndboldkamp': 6213, 'saten': 6214, 'ralme': 6215, 'jävligaste': 6216, 'vilket': 6217, 'spott': 6218, 'ansiktet': 6219, 'vestindiske': 6220, 'spøger': 6221, 'faderligejokes': 6222, 'hud': 6223, 'tier': 6224, 'vods': 6225, 'hejse': 6226, 'kidsarefuckingstupid': 6227, 'grafikkort': 6228, 'italien': 6229, 'lyskryds': 6230, 'guitar': 6231, 'erikses': 6232, 'stærkere': 6233, 'aaaarg': 6234, 'splittet': 6235, 'brænde': 6236, 'esc': 6237, 'ingennogensinde': 6238, 'mådke': 6239, 'bagerbutik': 6240, 'stjal': 6241, 'avisen': 6242, 'morgenbrød': 6243, 'william': 6244, 'erobrens': 6245, 'oldefar': 6246, 'rollo': 6247, 'forfader': 6248, 'forlængelse': 6249, 'stains': 6250, 'altså😂': 6251, 'blasfemi': 6252, 'liberal': 6253, 'aaaaah': 6254, 'civiliseret': 6255, 'cremefraiche': 6256, '2edgy4me': 6257, 'bosonen': 6258, 'forsøgte': 6259, 'politichef': 6260, \"'luk\": 6261, 'kulturarv': 6262, 'tvinges': 6263, 'trailers': 6264, 'herrefolket': 6265, 'vejarbejdere': 6266, 'pære': 6267, \"mc'er\": 6268, 'udblæsning': 6269, 'blæreruten': 6270, 'træf': 6271, 'amerikaner': 6272, 'overdøver': 6273, 'centrum': 6274, 'isoleret': 6275, 'bygninger': 6276, 'møgsæk': 6277, 'portrætter': 6278, 'portræt': 6279, '70x100': 6280, 'anaconda': 6281, 'elite': 6282, 'dangerous': 6283, 'computerspil': 6284, 'disco': 6285, 'dasco': 6286, 'fuel': 6287, 'several': 6288, 'variants': 6289, 'gitte': 6290, 'fascisterne': 6291, 'afa': 6292, 'overfalder': 6293, 'nynazisterne': 6294, 'terrorisme': 6295, 'overbevisning': 6296, 'hvorhenne': 6297, 'stockholmske': 6298, 'pædagogisk': 6299, 'rækkevidde': 6300, 'aprilsnar': 6301, 'knap': 6302, 'morer': 6303, '500': 6304, 'gram': 6305, 'kugle': 6306, 'panden': 6307, 'copy': 6308, 'kvindfolk': 6309, 'redigering': 6310, 'farfar': 6311, 'lastbilvenner': 6312, 'dækkene': 6313, 'klapper': 6314, 'frømændene': 6315, 'special': 6316, 'knotten': 6317, 'bænk': 6318, 'sømmet': 6319, 'udtryk': 6320, 'værdien': 6321, 'lufte': 6322, 'babserne': 6323, 'dressur': 6324, 'jaså': 6325, 'superliga': 6326, 'mesterskaber': 6327, 'isterningebakken': 6328, 'højen': 6329, 'mast': 6330, 'arne': 6331, 'jacobsen': 6332, 'stol': 6333, 'skideflot': 6334, 'stk': 6335, 'signor': 6336, 'kaldes': 6337, 'dampede': 6338, 'grøntsager': 6339, 'lykkeligt': 6340, 'mail': 6341, 'partikontoret': 6342, 'socialdemokraterne': 6343, 'hvori': 6344, 'beskrev': 6345, 'opførsel': 6346, 'kolonisere': 6347, 'legitimt': 6348, 'civilisation': 6349, 'scrambleforsverige': 6350, 'irriterende': 6351, 'desverre': 6352, 'kulde': 6353, 'nabo': 6354, 'confirmed': 6355, 'reageringen': 6356, 'fratage': 6357, 'typsik': 6358, 'reagering': 6359, 'ågen': 6360, 'heeeeeeeeeeeey': 6361, 'mus': 6362, 'hvalsø': 6363, 'perron': 6364, 'tålmodighed': 6365, 'krymper': 6366, 'fuglekongen': 6367, 'vigtigste': 6368, 'indponereneimponerende': 6369, 'mapporn': 6370, 'øllen': 6371, 'vælter': 6372, 'grinds': 6373, 'gears': 6374, 'bubber': 6375, 'choose': 6376, 'multiscootaloo': 6377, 'ties': 6378, 'højkant': 6379, 'verkar': 6380, 'sitt': 6381, 'talar': 6382, 'danser': 6383, 'megahyggeligt': 6384, 'thanksobama': 6385, 'ignorance': 6386, 'bliss': 6387, 'sengetid': 6388, 'kernetemperatur': 6389, 'konsekvent': 6390, 'udløse': 6391, 'derved': 6392, 'attestere': 6393, 'håndfuld': 6394, 'minutters': 6395, 'sigt': 6396, 'regel': 6397, 'undervisning': 6398, 'påbudt': 6399, 'samtlige': 6400, 'jaja': 6401, 'beskytter': 6402, 'næb': 6403, 'kløer': 6404, 'ramler': 6405, 'kraft': 6406, 'lysten': 6407, 'mands': 6408, 'planlagte': 6409, 'jagttegn': 6410, 'letta': 6411, 'klammeste': 6412, 'forskrllige': 6413, 'bøtte': 6414, 'dyere': 6415, 'enjoy': 6416, 'køle': 6417, 'frys': 6418, 'isterningemaskine': 6419, 'vandtilslutning': 6420, 'golf': 6421, 'turneringer': 6422, 'obligatoriske': 6423, 'overleve': 6424, 'liters': 6425, 'henover': 6426, 'fryser': 6427, 'hælde': 6428, 'liter': 6429, 'tilgengæld': 6430, 'fyld': 6431, 'vandflasken': 6432, 'køkkenpapir': 6433, 'svøb': 6434, 'væsentligt': 6435, 'lunkent': 6436, 'taphanevand': 6437, 'iskoldt': 6438, 'skiftevis': 6439, 'håndledene': 6440, 'armhulerne': 6441, 'kølet': 6442, 'sænker': 6443, 'kropstemperaturen': 6444, 'streg': 6445, 'pausen': 6446, 'velsignelse': 6447, 'sidefif': 6448, 'størrere': 6449, \"'chafing'\": 6450, 'aberøv': 6451, \"'hyderm'\": 6452, 'livredder': 6453, 'putter': 6454, 'cocktail': 6455, 'pizzaen': 6456, 'proppet': 6457, 'kryb': 6458, 'gaden': 6459, 'pande': 6460, 'oprette': 6461, 'dane': 6462, 'fredsdrik': 6463, 'jordbær': 6464, 'rasrp': 6465, 'franske': 6466, 'trevor': 6467, 'noah': 6468, 'afgav': 6469, 'startskud': 6470, \"'nu\": 6471, \"nu'\": 6472, 'prequelmemes': 6473, 'betal': 6474, 'imigranter': 6475, 'honning': 6476, 'honnigkrukken': 6477, 'studentereksamen': 6478, 'sørgelige': 6479, 'counter': 6480, 'spy': 6481, 'trudsel': 6482, 'tjekker': 6483, 'citron': 6484, 'svag': 6485, 'hurrah': 6486, '90': 6487, 'arbejdsløshed': 6488, 'regulerede': 6489, 'arbejdsmarkeder': 6490, 'overenskomster': 6491, 'fagforeninger': 6492, 'militariseringer': 6493, 'kampen': 6494, 'champ': 6495, 'hearthstone': 6496, 'jodå': 6497, 'pucko': 6498, 'populär': 6499, 'dock': 6500, 'hotdog': 6501, 'hjertet': 6502, 'manøvre': 6503, 'kongesangen': 6504, 'hjemmet': 6505, 'hảr': 6506, 'handen': 6507, 'hierbij': 6508, 'claimt': 6509, 'cirkeltrek': 6510, 'uw': 6511, 'fietsnetwerk': 6512, 'naam': 6513, 'van': 6514, 'oven': 6515, 'sindssyge': 6516, 'lastbilchauffører': 6517, 'csgo': 6518, 'certificeret': 6519, 'thread': 6520, 'been': 6521, 'linked': 6522, 'elsewhere': 6523, 'välfärds': 6524, 'räder': 6525, 'knaprarna': 6526, 'urlåste': 6527, 'välfärdsräder': 6528, 'follow': 6529, 'any': 6530, 'above': 6531, 'respect': 6532, 'rules': 6533, 'vote': 6534, 'comment': 6535, 'questions': 6536, 'abuse': 6537, 'ivirkeligheden': 6538, 'tramp': 6539, 'disney': 6540, 'stavemåde': 6541, 'ugudelige': 6542, 'vanærer': 6543, 'menneskes': 6544, 'plet': 6545, 'were': 6546, 'asked': 6547, 'how': 6548, 'serious': 6549, 'level': 6550, 'higher': 6551, 'value': 6552, 'survey': 6553, 'believe': 6554, 'their': 6555, 'kriminaliteten': 6556, 'målt': 6557, 'befolkningens': 6558, 'kildekritik': 6559, 'manage': 6560, 'rejsning': 6561, 'sejrherren': 6562, 'stalin': 6563, \"mao's\": 6564, 'forbrydelser': 6565, 'glemmes': 6566, 'farten': 6567, 'millionvis': 6568, 'kommunismens': 6569, 'socialismens': 6570, 'mistænke': 6571, 'fortielserne': 6572, 'gætværk': 6573, 'homo': 6574, 'sapiens': 6575, 'slat': 6576, 'nævn': 6577, 'ikonisk': 6578, 'moisty': 6579, 'ølakt': 6580, 'sej': 6581, 'misundelsen': 6582, 'uendelig': 6583, 'dropper': 6584, 'venue': 6585, 'stand': 6586, 'publiceret': 6587, 'dyne': 6588, 'dybebetræk': 6589, 'bord': 6590, 'døre': 6591, 'forventning': 6592, 'køler': 6593, 'grillovn': 6594, 'sædet': 6595, 'rattet': 6596, 'vinduet': 6597, 'passagedøren': 6598, 'førerdøren': 6599, 'udskiftet': 6600, 'køreturen': 6601, 'efterlader': 6602, 'sodavand': 6603, 'overvej': 6604, 'generalforkølelse': 6605, 'behagelig': 6606, 'temperatur': 6607, 'anlæg': 6608, 'auto': 6609, 'klimaanlæg': 6610, 'fungerende': 6611, 'anlægget': 6612, 'juster': 6613, 'elle': 6614, 'smuuule': 6615, 'fødselaren': 6616, 'låse': 6617, 'demonstreret': 6618, 'misdæderlig': 6619, 'intetanende': 6620, 'årsag': 6621, 'bekvemmelighed': 6622, 'inddrag': 6623, 'indrejseforbud': 6624, 'tilbagebetaling': 6625, 'ydelser': 6626, 'prøves': 6627, 'bage': 6628, 'undskylde': 6629, 'jægerkorpset': 6630, 'lystmorder': 6631, 'diskotræsko': 6632, 'lovet': 6633, 'evig': 6634, 'forsørgelse': 6635, 'menneskesmugleren': 6636, 'bordet': 6637, 'superligaen': 6638, 'skuffende': 6639, 'hemmeligheden': 6640, 'stikpropper': 6641, 'herregud': 6642, 'nutiden': 6643, 'individet': 6644, 'forbundet': 6645, 'fornøjet': 6646, 'vurdere': 6647, 'kunderne': 6648, 'individets': 6649, 'græs': 6650, 'markareal': 6651, 'mildest': 6652, 'skovbrande': 6653, 'grådige': 6654, 'pattebørn': 6655, 'partering': 6656, 'kroppe': 6657, 'fetish': 6658, 'brækker': 6659, 'elsket': 6660, 'jyllandsosten': 6661, 'ransagning': 6662, 'spildt': 6663, 'fölar': 6664, 'völdsömt': 6665, 'stödt': 6666, 'övar': 6667, 'räkkefölgan': 6668, 'äf': 6669, 'bögstäver': 6670, 'täl': 6671, 'ër': 6672, 'forütän': 6673, 'ät': 6674, 'vära': 6675, 'antisemitisk': 6676, 'söm': 6677, 'ï': 6678, 'adolf': 6679, 'völdsamt': 6680, 'älfäbët': 6681, 'tällnörmätïvt': 6682, 'hagekors': 6683, 'julestjerne': 6684, 'forandring': 6685, 'strandvej': 6686, 'udkogt': 6687, \"op's\": 6688, 'karmafarming': 6689, 'hærværksmændene': 6690, 'lukkes': 6691, 'bispebjerg': 6692, 'skabte': 6693, 'venskaber': 6694, 'genindføre': 6695, 'kristen': 6696, 'stening': 6697, 'slaveri': 6698, 'kvindeundertrykkelse': 6699, 'lørdagen': 6700, 'synonym': 6701, 'metaen': 6702, 'perkerspillet': 6703, 'max': 6704, 'kameraet': 6705, 'liderlig': 6706, 'damer': 6707, 'fælgene': 6708, 'postit': 6709, 'målestoks': 6710, 'beløb': 6711, 'danskertråd': 6712, '4chan': 6713, 'malitetskveme': 6714, 'læg': 6715, 'anyway': 6716, 'narre': 6717, 'prægtige': 6718, 'billige': 6719, \"'æ'\": 6720, 'populistisk': 6721, 'tilbyder': 6722, 'pension': 6723, 'diskuter': 6724, 'pædagoger': 6725, 'jævla': 6726, 'lættis': 6727, 'ass': 6728, 'trefliget': 6729, 'spænde': 6730, 'vikingetidsornamentik': 6731, 'snæver': 6732, 'datering': 6733, 'dateres': 6734, 'france': 6735, 'winner': 6736, '2017': 6737, '2019': 6738, '2021': 6739, 'fitta': 6740, 'kaefte': 6741, 'sandland': 6742, 'hygger': 6743, 'benævnelse': 6744, 'tidsregning': 6745, '1323': 6746, 'hvoraf': 6747, 'snappede': 6748, '1809': 6749, 'oprettet': 6750, 'storfyrstendømmet': 6751, 'ruslands': 6752, 'selvstændigt': 6753, 'sovjetiske': 6754, 'kup': 6755, 'uafhængigheden': 6756, '1860': 6757, 'finnerne': 6758, 'finske': 6759, 'forfattere': 6760, 'identitet': 6761, 'adskille': 6762, 'sorø': 6763, 'vestsjællands': 6764, 'paris': 6765, 'dødsstraffen': 6766, 'ventede': 6767, '😞': 6768, 'kop': 6769, 'dabadeedabadey': 6770, 'månedensbillede': 6771, 'præget': 6772, 'mønterne': 6773, 'jæmtland': 6774, 'indføre': 6775, 'uhyrlig': 6776, 'told': 6777, 'samhandel': 6778, 'nordsverige': 6779, 'tamt': 6780, 'griseøjne': 6781, 'boycot': 6782, 'sensible': 6783, 'mcd': 6784, 'bestiller': 6785, 'cheeseburger': 6786, 'bondefange': 6787, 'ger': 6788, 'stödröst': 6789, 'ragnerok': 6790, 'fimbulvinteren': 6791, 'udenlændinge': 6792, 'træls': 6793, 'fellow': 6794, 'kids': 6795, 'tweets': 6796, 'franskmændene': 6797, 'urlåske': 6798, 'hævi': 6799, 'racial': 6800, 'profiling': 6801, 'notkenm': 6802, 'katolske': 6803, 'ortodokse': 6804, 'faster': 6805, 'påvirker': 6806, 'katolik': 6807, 'snakken': 6808, 'traditioner': 6809, 'foruden': 6810, 'kroppen': 6811, 'forfædre': 6812, 'fysiske': 6813, 'hyggeligt': 6814, 'styra': 6815, 'skånejäveln': 6816, 'mästare': 6817, 'oavsett': 6818, 'danskjäveln': 6819, 'perfekta': 6820, '\\U0001f929': 6821, 'update': 6822, 'danglish': 6823, 'underskrevet': 6824, '😎👍': 6825, 'thors': 6826, 'hammer': 6827, 'dude': 6828, 'hånboldhistorie': 6829, 'kvindesiden': 6830, 'sarkastisk': 6831, 'hunde': 6832, 'kneppet': 6833, 'bjæverskov': 6834, 'skrå': 6835, 'vinduerne': 6836, 'torden': 6837, '😍': 6838, 'hallo': 6839, 'gifteksperter': 6840, 'døgnvagt': 6841, 'stueplanter': 6842, 'tilfældige': 6843, \"'of'\": 6844, 'guess': 6845, 'hon': 6846, 'skøge': 6847, 'hundras': 6848, 'kallas': 6849, 'deutsche': 6850, 'dogge': 6851, 'lorthunden': 6852, 'gårdshund': 6853, 'påminner': 6854, 'peruanernas': 6855, 'bolivianernas': 6856, 'titicakasjön': 6857, 'båda': 6858, 'sidor': 6859, 'hävdar': 6860, 'bestämt': 6861, 'caka': 6862, 'sidan': 6863, 'återfinns': 6864, 'grannlandets': 6865, 'sida': 6866, 'bitte': 6867, 'skred': 6868, 'fortrød': 6869, 'klaus': 6870, 'fo': 6871, 'real': 6872, '“går”': 6873, 'æren': 6874, 'læner': 6875, \"tema'et\": 6876, 'generation': 6877, 'clancy': 6878, 'tankerne': 6879, 'spørgsmålene': 6880, 'shirts': 6881, 'åbent': 6882, 'fc': 6883, \"film's\": 6884, 'semifinalerne': 6885, 'kvartfinalerne': 6886, 'løssnus': 6887, 'bremsespor': 6888, 'trykkende': 6889, 'dråbe': 6890, 'lønforhøjelse': 6891, 'cheferne': 6892, 'hulen': 6893, 'sulte': 6894, 'krigshistorie': 6895, 'kapitel': 6896, 'katastrofe': 6897, '11000': 6898, '3600': 6899, 'tabte': 6900, '9500': 6901, 'polakkerne': 6902, 'historiehold': 6903, 'yngre': 6904, 'bastubadarna': 6905, 'svikit': 6906, 'urlär': 6907, 'giffler': 6908, 'afgjort': 6909, 'borgerforslaget': 6910, 'strid': 6911, 'grundloven': 6912, 'behandle': 6913, 'trippet': 6914, 'grundigt': 6915, 'aldersgrænse': 6916, 'øgså': 6917, 'politigård': 6918, 'misfarvet': 6919, 'krakeleret': 6920, 'sticker': 6921, 'giftliniens': 6922, 'køleskab': 6923, 'voksent': 6924, 'vagthavende': 6925, 'ungen': 6926, 'heldigt': 6927, 'monark': 6928, 'reserve': 6929, 'bornholmere': 6930, 'uheldig': 6931, 'størrelsen': 6932, 'betragtning': 6933, 'redan': 6934, 'engelska': 6935, 'emot': 6936, 'donere': 6937, 'underværker': 6938, 'kulturskat': 6939, 'døjes': 6940, 'efterligning': 6941, 'evighed': 6942, 'glimrende': 6943, 'prinsesse': 6944, 'gifte': 6945, 'sekundær': 6946, 'ministerier': 6947, 'invaderer': 6948, 'snarest': 6949, 'officielt': 6950, 'producerer': 6951, 'dr1': 6952, 'xfactor': 6953, 'oliemilliarder': 6954, 'grøn': 6955, 'omstilling': 6956, 'togbro': 6957, 'godmorgen': 6958, 'danernes': 6959, 'arrangere': 6960, 'events': 6961, 'femen': 6962, 'låget': 6963, 'ubegavet': 6964, 'taletid': 6965, 'skiiiide': 6966, '1v3': 6967, 'pit': 6968, 'gulligt': 6969, 'serieonanist': 6970, 'mäta': 6971, 'knugen': 6972, 'svea': 6973, 'rike': 6974, 'overdrevet': 6975, 'skør': 6976, 'kørede': 6977, 'taxa': 6978, '100km': 6979, 'svarede': 6980, 'anmelde': 6981, 'udført': 6982, 'udskrift': 6983, 'kørsel': 6984, 'anholder': 6985, 'selvsagt': 6986, 'forskerne': 6987, 'sammenlignings': 6988, 'greasy': 6989, 'spoon': 6990, '92': 6991, 'månelandingen': 6992, 'komplekst': 6993, 'oooog': 6994, 'bedraget': 6995, 'velfærds': 6996, 'krydrede': 6997, 'junior': 6998, 'tredjerangs': 6999, 'journalister': 7000, 'ild': 7001, 'forbrændingen': 7002, 'bekræfte': 7003, 'forsat': 7004, 'tilsydende': 7005, 'fascinerende': 7006, 'toppolitikerer': 7007, 'grineflip': 7008, 'råden': 7009, 'pokkers': 7010, 'pogchamp': 7011, 'bussen': 7012, 'køres': 7013, 'tilstedeværelse': 7014, '1864': 7015, 'uppege': 7016, 'klasseundervisning': 7017, 'folkeskolen': 7018, 'glorificerede': 7019, 'børnehaver': 7020, 'viste': 7021, 'julen': 7022, 'drivhusgasser': 7023, 'regnskabet': 7024, 'animalske': 7025, 'produkter': 7026, 'snickers': 7027, 'derhen': 7028, 'copenhagen': 7029, 'fortid': 7030, 'fejedreng': 7031, 'feje': 7032, 'gulvtæppet': 7033, 'søvn': 7034, 'dynen': 7035, 'fødderne': 7036, 'trægulv': 7037, 'feltlygte': 7038, 'natbordet': 7039, 'linsen': 7040, 'opdages': 7041, 'skruede': 7042, 'listede': 7043, 'tøjskab': 7044, 'fjernede': 7045, 'stak': 7046, 'hylde': 7047, 'hev': 7048, 'jansport': 7049, 'lynlåsen': 7050, 'indholdet': 7051, 'låg': 7052, 'skåle': 7053, 'gaffatape': 7054, 'husholdningsfilm': 7055, 'saks': 7056, 'nytårsbriller': 7057, 'masker': 7058, 'værkstedet': 7059, 'støv': 7060, 'pose': 7061, 'mors': 7062, 'opvaskehandsker': 7063, 'stakken': 7064, 'skabet': 7065, 'puttede': 7066, 'lytte': 7067, 'vågnet': 7068, 'skubbede': 7069, 'slukket': 7070, 'lygte': 7071, 'skulderstrop': 7072, 'playstation': 7073, 'dommedagsbeskeden': 7074, 'toilet': 7075, 'værelset': 7076, 'kampsvedte': 7077, 'pause': 7078, 'gta': 7079, 'indånding': 7080, 'toilettet': 7081, 'ivrigt': 7082, 'ahaha': 7083, 'nøøh': 7084, 'kaste': 7085, 'hipsterfamilie': 7086, 'grønmarksgade': 7087, 'bybørn': 7088, \"ka'\": 7089, \"ikk'\": 7090, \"tjøffenhawner'\": 7091, 'pikhoved': 7092, 'sundhed': 7093, 'mongol': 7094, 'lukkede': 7095, 'gyllebygaard': 7096, 'nøddeallergi': 7097, 'vååågn': 7098, 'smilte': 7099, 'skubbet': 7100, 'havregryn': 7101, 'kvalmen': 7102, 'nervøsiteten': 7103, 'vejbump': 7104, 'ankom': 7105, 'bildøren': 7106, 'spejdede': 7107, 'busk': 7108, 'nik': 7109, 'sløjdlokalet': 7110, 'klasseværelser': 7111, 'vendte': 7112, 'hældte': 7113, 'klippe': 7114, 'måle': 7115, 'klistre': 7116, 'ringede': 7117, 'nettoposen': 7118, 'nakke': 7119, 'hals': 7120, 'gaffa': 7121, \"lars'\": 7122, 'skjoldene': 7123, 'dragterne': 7124, 'krammede': 7125, 'øde': 7126, 'gåsehud': 7127, 'ringeklokken': 7128, 'strategiske': 7129, 'betragtelige': 7130, 'omveje': 7131, 'livsnedbrydende': 7132, 'choke': 7133, 'forinden': 7134, 'skynder': 7135, 'undersåtter': 7136, 'slaver': 7137, \"'ir'\": 7138, 'rimeligt': 7139, 'grimt': 7140, 'villet': 7141, 'brugernavn': 7142, 'bevidste': 7143, 'kommatering': 7144, 'stereotypiske': 7145, 'såsom': 7146, \"''mine\": 7147, 'bankede': 7148, \"mig''\": 7149, 'arabere': 7150, 'betegnelsen': 7151, \"''kafir''\": 7152, 'ureligiøse': 7153, 'munafiq': 7154, \"''lige\": 7155, 'mobil': 7156, \"igen''\": 7157, 'shame': 7158, 'udseende': 7159, 'lavt': 7160, 'scannet': 7161, 'pc': 7162, 'markeret': 7163, 'underskrift': 7164, 'dokument': 7165, 'jobbet': 7166, 'vennetjeneste': 7167, 'socialime': 7168, 'kioskhår': 7169, '😀': 7170, 'verdensklasse': 7171, 'ordsprog': 7172, \"'ja\": 7173, \"rådne'\": 7174, 'galgerne': 7175, 'elge': 7176, 'tanks': 7177, 'beviset': 7178, 'videoovervågningen': 7179, 'whatabout': 7180, 'forsvar': 7181, 'latterligt': 7182, 'ismer': 7183, 'madsens': 7184, 'försöker': 7185, 'medal': 7186, 'table': 7187, 'knægten': 7188, 'synge': 7189, \"nærmer'\": 7190, 'frue': 7191, 'øjenkrogen': 7192, 'indvarslede': 7193, 'selvcensur': 7194, 'tronfølger': 7195, 'downstemt': 7196, 'svenskerflag': 7197, 'vedr': 7198, 'overvurdering': 7199, 'lykkelige': 7200, 'tillidsfulde': 7201, 'naive': 7202, 'renset': 7203, 'canucks': 7204, 'event': 7205, 'beskylde': 7206, 'ligne': 7207, 'fedora': 7208, 'kyllingen': 7209, 'saltet': 7210, 'advaret': 7211, 'associationer': 7212, '1520': 7213, 'undervurdere': 7214, 'ramadansnitte': 7215, 'nedture': 7216, 'spændende': 7217, 'cod2': 7218, 'konkurrenceplan': 7219, 'svedigt': 7220, 'hinsidan': 7221, 'germansk': 7222, 'hvæse': 7223, 'flæskedag': 7224, 'apotek': 7225, 'urlæsk': 7226, 'persillesovs': 7227, 'cuisine': 7228, 'kolonier': 7229, 'gisp': 7230, 'restauranten': 7231, 'comic': 7232, 'sans': 7233, 'rengøres': 7234, 'share': 7235, 'bureaukrati': 7236, 'statsminister': 7237, 'gennemsnitligt': 7238, 'bukker': 7239, 'skandale': 7240, 'note': 7241, 'posthanen': 7242, 'bæ': 7243, 'pressefotograf': 7244, 'rustvognen': 7245, 'begravelse': 7246, 'vilfort': 7247, 'fps': 7248, 'battlefront': 7249, 'arma': 7250, 'overwatch': 7251, 'pubg': 7252, 'bokse': 7253, 'eli5': 7254, 'trodde': 7255, 'nordmenn': 7256, 'uforståelig': 7257, 'etter': 7258, 'bodd': 7259, 'velkomst': 7260, \"komite'man\": 7261, 'sigselv': 7262, 'ift': 7263, 'digitaliseringen': 7264, 'migmiger': 7265, 'grammatisk': 7266, 'punktummet': 7267, 'trommemaskine': 7268, 'autotune': 7269, 'leverlort': 7270, 'mayo': 7271, 'værge': 7272, \"theroux's\": 7273, 'dokumentar': 7274, 'westboro': 7275, 'baptist': 7276, 'church': 7277, 'anholdt': 7278, 'wbc': 7279, 'utilfredse': 7280, 'protest': 7281, 'tilfældigvis': 7282, 'løsladte': 7283, 'præsten': 7284, 'truslen': 7285, 'støvsuger': 7286, 'salg': 7287, 'produkt': 7288, 'forgriber': 7289, 'brandte': 7290, 'fjernsynet': 7291, 'brydes': 7292, 'synonymer': 7293, 'hahahahaha': 7294, 'bitcher': 7295, \"g'et\": 7296, 'hollændere': 7297, 'hostelyd': 7298, 'int': 7299, 'efterladt': 7300, 'sprut': 7301, 'cat': 7302, 'slagsmål': 7303, 'savnet': 7304, 'sten': 7305, 'kajen': 7306, 'mr': 7307, '3700': 7308, 'overnatning': 7309, 'familieafsnittet': 7310, 'nyfødte': 7311, 'indlagt': 7312, 'engelsken': 7313, 'vågne': 7314, 'make': 7315, 'dummeste': 7316, 'agtig': 7317, 'vikinghjelm': 7318, 'horn': 7319, 'fodre': 7320, 'fordomme': 7321, 'ahahahahahahah': 7322, 'hahaahhaaa': 7323, 'hhaaahaa': 7324, 'patrulle': 7325, \"fang'\": 7326, 'kørende': 7327, 'bing': 7328, 'ååh': 7329, 'seriøsitet': 7330, 'bangkok': 7331, 'airways': 7332, '“fit': 7333, 'fly”': 7334, 'specifikke': 7335, 'frase': 7336, 'skabeloner': 7337, 'lægen': 7338, 'underskrive': 7339, 'fordrevet': 7340, 'opløse': 7341, 'stivelse': 7342, 'hentehåret': 7343, 'lykkeridder': 7344, 'krænkelses': 7345, 'priviligerede': 7346, 'triggerwarning': 7347, 'korrekte': 7348, 'nummerplade': 7349, '920': 7350, 'dur': 7351, 'kammerat': 7352, 'ølpriser': 7353, 'løgskærende': 7354, 'ninjaer': 7355, 'grethe': 7356, 'ingmann': 7357, 'dansevisen': 7358, \"'63\": 7359, '1963': 7360, 'försök': 7361, 'nästa': 7362, 'gång': 7363, 'struenseeer': 7364, 'forræder': 7365, 'undsklyd': 7366, 'forlænge': 7367, 'litauen': 7368, 'gayyyyyyyyyyyyyyyyyyy': 7369, 'firkanter': 7370, 'kvadratiske': 7371, 'proportionerne': 7372, 'tilladte': 7373, '34': 7374, 'omdiskuteret': 7375, 'klimaforandringerne': 7376, 'overvurdere': 7377, 'mærkat': 7378, 'madvarerne': 7379, 'temperaturerne': 7380, 'stige': 7381, 'aftensmaden': 7382, 'kyllinge': 7383, 'oksekød': 7384, 'bøf': 7385, 'udgangspunkt': 7386, 'fugl': 7387, 'opbragt': 7388, 'delvist': 7389, 'produceres': 7390, 'kvaliteten': 7391, 'fødevareproducent': 7392, 'forbruger': 7393, 'kalorietal': 7394, 'tilsætningsstoffer': 7395, 'oehlenschläger': 7396, 'krøyer': 7397, 'fotbollskillar': 7398, 'europæisk': 7399, 'skala': 7400, 'morsomme': 7401, 'kunstneren': 7402, 'yanko': 7403, 'tsvetkov': 7404, 'parametre': 7405, 'letter': 7406, '”vi': 7407, 'citerer': 7408, 'fyrre': 7409, 'njah': 7410, 'udsagn': 7411, 'lorteartikel': 7412, 'journalisthøjskolen': 7413, 'ejer': 7414, 'mc': 7415, 'høres': 7416, 'læben': 7417, 'buldrer': 7418, 'motorstøj': 7419, 'bedere': 7420, 'rockerklub': 7421, 'amerikanerbil': 7422, 'værksted': 7423, '“larm”': 7424, 'downvoting': 7425, 'begin😄': 7426, 'bemærk': 7427, 'jomfruelig': 7428, 'valdemar': 7429, 'atterdag': 7430, 'styg': 7431, 'fordrejning': 7432, 'sønner': 7433, 'vagt': 7434, 'lysner': 7435, 'værn': 7436, 'friheden': 7437, 'bros': 7438, 'anne': 7439, 'mee': 7440, 'bundet': 7441, 'bind': 7442, 'øjene': 7443, 'lejet': 7444, 'ilden': 7445, 'ligepludselig': 7446, 'følt': 7447, 'klarhed': 7448, 'statsleder': 7449, 'zero': 7450, 'landsforvist': 7451, 'østrigerne': 7452, \"availability'en\": 7453, 'dedikeret': 7454, 'bøffen': 7455, 'importere': 7456, 'ove': 7457, 'verner': 7458, 'oprettes': 7459, 'expeditionary': 7460, 'tilkaldes': 7461, 'depåstår': 7462, 'åndssvagt': 7463, 'ssss': 7464, 'kommentere': 7465, 'ærgeligt': 7466, 'festivallen': 7467, 'halvedelen': 7468, 'doom': 7469, 'eternal': 7470, 'kikkert': 7471, '1941': 7472, 'skjulte': 7473, 'ørnen': 7474, 'såret': 7475, 'gerrighed': 7476, 'smålighed': 7477, 'marvel': 7478, 'mytologi': 7479, 'wars': 7480, 'univers': 7481, 'rumskibe': 7482, 'dricka': 7483, 'heb': 7484, 'gemist': 7485, 'slipper': 7486, 'modtage': 7487, 'rolex': 7488, 'sheikh': 7489, 'kvotekongen': 7490, 'tilfældighvis': 7491, 'fiskeriordførers': 7492, 'startup': 7493, 'håndtering': 7494, 'salget': 7495, 'dong': 7496, 'statens': 7497, 'vaccineproduktion': 7498, 'rabatkort': 7499, 'limo': 7500, 'gggi': 7501, 'cigaretter': 7502, 'casino': 7503, 'diskotek': 7504, 'hotelovernatninger': 7505, 'embeds': 7506, 'medfør': 7507, 'lovede': 7508, 'ansøgninger': 7509, 'messerschmidt': 7510, 'partiarrangementer': 7511, 'konsulent': 7512, 'presserådgiver': 7513, 'regionen': 7514, 'folketingsvalgkamp': 7515, 'fører': 7516, 'øremærket': 7517, 'vildlede': 7518, 'arbejdsmarkedsstyrelsen': 7519, 'skattely': 7520, 'forsvarer': 7521, 'pengeoverførslen': 7522, 'middagsselskaber': 7523, 'inkl': 7524, 'underholdning': 7525, 'afuk': 7526, 'bestyrelsen': 7527, 'indgår': 7528, 'studehandler': 7529, 'bæredygtigt': 7530, 'kopieret': 7531, 'notat': 7532, 'golfture': 7533, 'erhvervslivets': 7534, 'erhvervsminister': 7535, 'guldure': 7536, 'nyrups': 7537, 'statsministerfrue': 7538, 'økonomiminister': 7539, 'navngive': 7540, 'skibe': 7541, 'skattestop': 7542, 'nordsøolien': 7543, '2042': 7544, 'modtaget': 7545, 'lokaler': 7546, 'sveeeeeensker': 7547, 'trøøøøøjen': 7548, 'sooooooov': 7549, 'deeeeeeen': 7550, 'deeen': 7551, 'offered': 7552, 'svindlet': 7553, 'energi': 7554, 'kritisk': 7555, 'vinkel': 7556, 'forsætte': 7557, 'slappe': 7558, 'sygedagpenge': 7559, 'blink': 7560, 'badehotellet': 7561, 'patetisk': 7562, 'schland': 7563, 'skyd': 7564, 'afliv': 7565, 'djævle': 7566, 'shittyama': 7567, 'raket': 7568, 'bruhhhh': 7569, 'adventure': 7570, 'snakket': 7571, 'styrede': 7572, 'click': 7573, 'maner': 7574, 'udforske': 7575, 'haven': 7576, 'ånd': 7577, 'spøgelse': 7578, 'vanvid': 7579, 'broccolien': 7580, 'materialer': 7581, 'onsdags': 7582, 'quickbrev': 7583, 'ankommet': 7584, 'eksistentielt': 7585, 'negativt': 7586, 'benytter': 7587, 'overskrifter': 7588, 'bandlyst': 7589, 'nøj': 7590, 'poppe': 7591, 'blafre': 7592, 'sommerhimmel': 7593, 'hers': 7594, 'dukker': 7595, 'forpligtelse': 7596, 'varmest': 7597, 'fortalere': 7598, 'påtage': 7599, 'mundfuld': 7600, 'hist': 7601, 'øøøerlagger': 7602, 'representeret': 7603, 'skønne': 7604, 'patetiske': 7605, 'svenskerbanner': 7606, 'flyder': 7607, 'udsætte': 7608, 'stationen': 7609, 'afhøring': 7610, 'betjentene': 7611, 'prinserne': 7612, 'prinsesserne': 7613, 'klædt': 7614, 'bøllerne': 7615, 'sjette': 7616, 'jaaaa': 7617, 'leflet': 7618, 'fredags': 7619, \"'em\": 7620, 'coming': 7621, 'mandags': 7622, 'cyanidkapsel': 7623, 'iveren': 7624, 'tygge': 7625, 'kinden': 7626, 'kapslen': 7627, 'afløbet': 7628, 'varit': 7629, 'moderaterna': 7630, 'socialdemokraterna': 7631, 'iallafall': 7632, 'originella': 7633, 'lånar': 7634, '1m24s': 7635, 'move': 7636, 'brutalitet': 7637, 'uforholdsmæssigt': 7638, 'flyveren': 7639, 'vafan': 7640, 'hamnade': 7641, 'finansiere': 7642, 'forskellige': 7643, 'kanal': 7644, 'yay': 7645, \"migmig'er\": 7646, 'fjeldabe': 7647, 'skarpskydning': 7648, 'm95': 7649, 'legetøjsgevær': 7650, 'm75': 7651, 'fjoget': 7652, 'sigtet': 7653, 'øjet': 7654, 'tøffe': 7655, 'løbesko': 7656, '“normalvægtig”': 7657, 'magter': 7658, 'stræk': 7659, 'forventes': 7660, 'satan\\U0001f92e🤢': 7661, '👏🏻det': 7662, 'farfar👴🏼': 7663, 'selvmord🔪': 7664, '😣\\U0001f92f': 7665, 'dig🙅🏼\\u200d♀️': 7666, 'pis\\U0001f92e💦': 7667, '👌🏼set': 7668, '💩\\U0001f92e': 7669, 'tankenom': 7670, 'selv👉🏼👩🏼\\U0001f9d4🏼': 7671, 'ualmindeligtklamt😖': 7672, 'troen🙌🏼': 7673, '😔👬👭👫': 7674, 'kone👫': 7675, 'kartofler🥔': 7676, '♿️hold': 7677, 'kæft\\U0001f92c': 7678, 'dum🤦🏼\\u200d♀️': 7679, '😖\\U0001f92e': 7680, 'sende📬': 7681, 'klamme🤢': 7682, 'lastbilvenner🚛': 7683, '👏🏻din': 7684, '😡jeg': 7685, 'dækkene🔪': 7686, 'klapper👏🏻👊🏼alle': 7687, '😡': 7688, '👏🏻🤢': 7689, 'reb⛓': 7690, 'fast🔐': 7691, 'bil🚗💨': 7692, '🚗💨⛓♿️': 7693, '👏🏻😡👊🏼🤢': 7694, 'credit': 7695, 'depresso': 7696, 'excesso': 7697, 'unødig': 7698, 'klagede': 7699, \"'så\": 7700, 'piben': 7701, 'selvretfærdigt': 7702, 'nabolaget': 7703, 'børnebørnene': 7704, 'tracking': 7705, 'lokalområde': 7706, 'vejle': 7707, 'oplever': 7708, 'trosspørgsmål': 7709, 'objektivt': 7710, 'ultravold': 7711, 'libitum': 7712, 'kirken': 7713, 'legitimeret': 7714, 'morsomste': 7715, 'moses': 7716, 'selvtilfreds': 7717, 'klatrer': 7718, 'bloksbjerg': 7719, 'højtideligt': 7720, 'beordrer': 7721, 'tilhængere': 7722, 'kanaanæerne': 7723, 'gårde': 7724, 'marker': 7725, 'kvæg': 7726, 'jomfruelige': 7727, 'kjaerbye': 7728, '🐍bye': 7729, 'äö': 7730, 'das': 7731, 'bockwurst': 7732, 'dein': 7733, 'lomme': 7734, 'oder': 7735, 'bist': 7736, 'doch': 7737, 'nur': 7738, 'froh': 7739, 'mich': 7740, 'zu': 7741, 'seehen': 7742, 'våres': 7743, 'svenskevitsene': 7744, 'll': 7745, 'simpelhen': 7746, 'skøn': 7747, 'hahahahah': 7748, 'brølt': 7749, 'brormand': 7750, 'færdigpakkede': 7751, 'sandwich': 7752, 'tankstationer': 7753, 'långyxa': 7754, 'välfärdsspråk': 7755, 'undrar': 7756, 'svedsken': 7757, 'dankort': 7758, 'skin': 7759, 'stimulering': 7760, 'timerne': 7761, 'navneform': 7762, 'byg': 7763, 'hegn': 7764, 'regionerne': 7765, 'småting': 7766, 'wawe': 7767, 'lærerig': 7768, 'dverger': 7769, 'drakamp': 7770, 'farverigt': 7771, 'ringeklokke': 7772, 'lovpligtigt': 7773, 'bagfra': 7774, 'syner': 7775, 'ovre': 7776, 'gengive': 7777, 'myrdet': 7778, 'hagekorset': 7779, 'lillebitte': 7780, 'dungarn': 7781, 'nørrebro': 7782, 'ulækker': 7783, 'forretningsmodel': 7784, 'teenagere': 7785, 'cod': 7786, 'indførte': 7787, 'brøndbyfan': 7788, 'tøpholms': 7789, 'glædesudbrud': 7790, 'df’ere': 7791, 'landsforrædder': 7792, 'gorm': 7793, 'anholdte': 7794, 'realiseret': 7795, 'bøfsandwich': 7796, 'småflag': 7797, 'køllerne': 7798, 'uudholdelig': 7799, 'hykler': 7800, 'optræder': 7801, 'påtaget': 7802, 'puritansk': 7803, 'træffe': 7804, 'amoralske': 7805, 'egoistiske': 7806, 'førsteklasseseksemplar': 7807, 'republiansk': 7808, 'evangelical': 7809, 'fusket': 7810, 'missionskole': 7811, 'erstattet': 7812, 'optaget': 7813, 'tvivlsom': 7814, 'frifindelse': 7815, 'plagieret': 7816, 'christiansborgtale': 7817, 'kvotekonge': 7818, 'vestjydsk': 7819, 'valgkreds': 7820, 'vedtagelse': 7821, 'landbrugspakke': 7822, 'gennemsnit': 7823, 'anmeldte': 7824, 'voldtægter': 7825, 'beviseligt': 7826, 'anklages': 7827, 'reel': 7828, 'hesten': 7829, 'kval': 7830, 'konkrete': 7831, 'eksempelvis': 7832, 'gasser': 7833, 'enevælde': 7834, 'samarbejder': 7835, 'udtalelser': 7836, 'hejlsberg': 7837, 'php': 7838, 'pølsemanden': 7839, \"fat'\": 7840, 'overtager': 7841, 'makes': 7842, 'sense': 7843, '“': 7844, 'land”': 7845, 'rocke': 7846, 'bamse': 7847, 'politikker': 7848, 'berømt': 7849, 'mediedækning': 7850, 'massemorder': 7851, 'jargonen': 7852, 'telefon': 7853, 'strøm': 7854, 'slukker': 7855, 'sædvanlige': 7856, 'kulturberigerne': 7857, 'ganialt': 7858, 'indgreb': 7859, 'udvej': 7860, 'bedømmelse': 7861, 'lover': 7862, 'bomben': 7863, 'spcielt': 7864, 'parterne': 7865, 'forholds': 7866, 'samleje': 7867, 'studere': 7868, 'bolleven': 7869, 'gravid': 7870, 'uroligheden': 7871, 'påvirke': 7872, 'foretaget': 7873, 'fortryder': 7874, 'nån': 7875, 'sorts': 7876, 'osthyvel': 7877, 'dygtige': 7878, 'iceland': 7879, 'rettidig': 7880, 'omhu': 7881, 'fogh': 7882, 'sms': 7883, 'kæmpet': 7884, 'baguetterne': 7885, 'tilykke': 7886, 'instantly': 7887, 'akkumuleret': 7888, 'storhedsvanvid': 7889, 'hospitalsregninger': 7890, 'kontoudtog': 7891, 'overførsler': 7892, 'maler': 7893, 'unlimited': 7894, 'uindviede': 7895, 'racing': 7896, 'mmo': 7897, 'tågerne': 7898, 'stikprøve': 7899, 'grænsekontrollen': 7900, 'betjent': 7901, 'hjemmeværnsmand': 7902, 'vinker': 7903, 'tryg': 7904, 'verdensmand': 7905, 'skull': 7906, 'organisk': 7907, 'organiske': 7908, 'vanilje': 7909, 'negere': 7910, 'plukke': 7911, 'sejle': 7912, 'enkeltvis': 7913, 'karton': 7914, 'bærer': 7915, 'plasticpose': 7916, 'stadogvæk': 7917, 'efterladte': 7918, 'ledsaget': 7919, 'udtalelse': 7920, 'fortæller': 7921, 'han\\xa0betegner': 7922, 'uheldige': 7923, 'gentofte': 7924, 'hospital': 7925, 'virket': 7926, 'klæ': 7927, 'meld': 7928, 'menneskeligehed': 7929, 'sum': 7930, 'rigt': 7931, 'hsr': 7932, 'bassinet': 7933, 'flyde': 7934, 'översätter': 7935, 'ungefär': 7936, 'scam': 7937, 'pack': 7938, 'afslutning': 7939, 'bidrag': 7940, 'løjerne': 7941, 'selve': 7942, 'underrated': 7943, 'fly': 7944, 'uskyldigt': 7945, 'begået': 7946, 'våran': 7947, 'konung': 7948, 'ensam': 7949, 'segrare': 7950, 'slaget': 7951, 'smider': 7952, 'ejere': 7953, 'feminazierne': 7954, 'spørgsmålstegn': 7955, 'kvinders': 7956, 'cupcake': 7957, 'därför': 7958, 'samarbeta': 7959, 'starkare': 7960, 'ryssen': 7961, 'tjockisen': 7962, 'korea': 7963, 'lorteopslag': 7964, 'rest': 7965, 'peace': 7966, '“hvil': 7967, 'fred”': 7968, 'thi': 7969, 'retteligen': 7970, 'lorteret': 7971, 'plyndr': 7972, 'flækkede': 7973, 'øjenbryn': 7974, 'øh': 7975, 'danelagen': 7976, 'nummerplads': 7977, 'sb': 7978, '018': 7979, 'storebælt': 7980, 'anklagemyndigheden': 7981, 'løbende': 7982, 'updates': 7983, 'værdsættes': 7984, 'idt': 7985, 'kommunismen': 7986, 'profeten': 7987, 'skrev': 7988, 'andegaarden': 7989, 'naar': 7990, 'svaneæg': 7991, 'pensum': 7992, 'forstyrre': 7993, 'ansvarlige': 7994, 'uddanelse': 7995, 'tænkere': 7996, 'hø': 7997, '😈': 7998, 'vestegns': 7999, 'eksem': 8000, 'smag': 8001, 'indstiller': 8002, 'cavling': 8003, 'vigtigeste': 8004, 'folkevalgte': 8005, 'benyttet': 8006, 'pudsigt': 8007, 'vægter': 8008, 'brødres': 8009, 'tidlig': 8010, 'forældres': 8011, 'frihedsbedrøvelse': 8012, 'opvokst': 8013, 'skab': 8014, 'beslutte': 8015, 'dør': 8016, 'nødenstund': 8017, 'stiftet': 8018, 'hjemsted': 8019, 'hælder': 8020, 'luksus': 8021, 'billetter': 8022, '150kr': 8023, '95kr': 8024, 'frede': 8025, 'pölsen': 8026, 'prata': 8027, 'människa': 8028, 'boobs': 8029, 'koldskaal': 8030, 'kvalitetsmeme': 8031, 'boiz': 8032, 'moské': 8033, 'sigøjnerbossen': 8034, 'hilser': 8035, 'kusine': 8036, 'pot': 8037, 'rode': 8038, 'uinteressant': 8039, 'skarpere': 8040, 'gladere': 8041, 'svenskerlort': 8042, 'simple': 8043, 'proportioner': 8044, 'installeret': 8045, 'låt': 8046, \"æ'\": 8047, 'nævner': 8048, 'nnå': 8049, 'dækket': 8050, 'threat': 8051, 'hentydende': 8052, 'suggestive': 8053, 'surely': 8054, 'something': 8055, 'romantic': 8056, 'sexual': 8057, 'nature': 8058, 'sorta': 8059, 'missing': 8060, '👍': 8061, 'vulgære': 8062, 'plebejer': 8063, 'opført': 8064, 'helsingør': 8065, \"df'er\": 8066, 'göbbels': 8067, 'gentaget': 8068, 'populistiske': 8069, 'enkeltsagspolitik': 8070, 'uhyggelig': 8071, 'ofrer': 8072, 'latterlig': 8073, 'ældrecheck': 8074, 'besparelser': 8075, 'ældrepleje': 8076, 'sygehuse': 8077, 'uligheden': 8078, 'rigeste': 8079, 'bytte': 8080, 'roligt': 8081, 'tyve': 8082, 'røvere': 8083, 'indvandere': 8084, 'nemmelig': 8085, 'primitive': 8086, 'smutter': 8087, 'kraftige': 8088, 'højreskred': 8089, 'stigende': 8090, 'foruroligende': 8091, 'gj': 8092, 'retardering': 8093, 'ministerpost': 8094, 'salam': 8095, 'sorligt': 8096, 'danskjävlarna': 8097, 'egna': 8098, 'idéer': 8099, 'sno': 8100, 'ifrån': 8101, 'konteksten': 8102, 'studievejleder': 8103, 'advarsler': 8104, 'pudse': 8105, 'glorie': 8106, 'repetere': 8107, 'opnår': 8108, 'kammerater': 8109, 'stikken': 8110, 'hävdade': 8111, 'jänkare': 8112, 'självklart': 8113, 'udtrykket': 8114, 'lortevarmt': 8115, 'uegnet': 8116, 'idioten': 8117, 'indtaste': 8118, 'koden': 8119, '2022': 8120, 'världens': 8121, 'minsta': 8122, 'tomma': 8123, 'lykkelig': 8124, 'blæsten': 8125, 'venlig': 8126, 'genboens': 8127, 'møgirriterende': 8128, 'vindklokke': 8129, 'night': 8130, 'theme': 8131, 'pls': 8132, 'klovn”': 8133, 'værktøj': 8134, 'markere': 8135, 'w': 8136, 'stride': 8137, 'strømme': 8138, 'humoren': 8139, 'fordommene': 8140, 'danner': 8141, 'kategorier': 8142, 'maaaaaaaasser': 8143, 'radioen': 8144, 'smilebåndet': 8145, 'højrebenet': 8146, 'sådanmark': 8147, 'mænds': 8148, 'taktik': 8149, 'sticka': 8150, 'kniven': 8151, 'upptagen': 8152, 'gyfler': 8153, 'homer': 8154, 'overheating': 8155, 'myggehelvede': 8156, 'hovedpointen': 8157, 'fox': 8158, 'agenda': 8159, 'misforstå': 8160, 'eksemplet': 8161, 'afmelde': 8162, 'fraflytning': 8163, 'mådenlige': 8164, 'moustafa’s': 8165, '33': 8166, 'simon': 8167, 'spies': 8168, 'christianshavn': 8169, 'ånden': 8170, 'overlegen': 8171, 'pølsebilen': 8172, 'mikroovn': 8173, 'ovenpå': 8174, 'humbug': 8175, 'neeej': 8176, 'venskab': 8177, 'norway': 8178, 'uspiseligt': 8179, 'funderar': 8180, 'sväng': 8181, 'förbi': 8182, 'snabbt': 8183, 'goingarna': 8184, 'udenomssnak': 8185, 'diskriminikaiton': 8186, 'mirror': 8187, 'kosten': 8188, 'bakker': 8189, 'snagvendt': 8190, 'popper': 8191, 'tørret': 8192, 'majs': 8193, 'duk': 8194, 'splejs': 8195, 'prol': 8196, 'swarjistan': 8197, 'hhahhhahaha': 8198, 'iuul': 8199, 'rave': 8200, 'taper': 8201, 'surstrømming': 8202, 'loftet': 8203, 'kreditere': 8204, 'pragtfulde': 8205, 'værk': 8206, 'modvind': 8207, 'høvles': 8208, 'manér': 8209, 'stockfoto': 8210, 'klinikker': 8211, 'hjørner': 8212, 'grammatik': 8213, 'we': 8214, 'are': 8215, 'champions': 8216, 'friends': 8217, 'spøjs': 8218, 'smelting': 8219, 'hahahahahahahahaha': 8220, 'gnider': 8221, 'distancere': 8222, 'misforstået': 8223, 'jep': 8224, 'banale': 8225, 'indfører': 8226, 'servere': 8227, 'isp': 8228, 'misforstår': 8229, 'rofl': 8230, 'skit': 8231, 'torsk': 8232, 'teknologisk': 8233, 'udfordret': 8234, 'bagt': 8235, 'rædsel': 8236, 'pletter': 8237, 'indeni': 8238, 'chokoladestykker': 8239, 'hah': 8240, 'roligaste': 8241, 'skämtet': 8242, 'øresund': 8243, 'spejlede': 8244, 'blåhvalen': 8245, 'dyreart': 8246, 'blåhvaler': 8247, 'skildt': 8248, 'besudler': 8249, 'retard': 8250, 'ironi': 8251, 'forekomme': 8252, 'regningerne': 8253, 'ärligt': 8254, 'tyckte': 8255, 'skitlåten': 8256, 'vokset': 8257, \"kim's\": 8258, 'senest': 8259, 'højskole': 8260, 'sangtimer': 8261, 'folkeskat': 8262, 'offentliggjort': 8263, 'fordøje': 8264, 'dave': 8265, 'chapelle': 8266, 'prædestineret': 8267, 'brandbeskattet': 8268, 'udnyttet': 8269, 'lønseddel': 8270, 'heads': 8271, 'bådet': 8272, 'hades': 8273, 'fejladministrerer': 8274, 'flad': 8275, 'registreringsafgift': 8276, 'afgifter': 8277, 'strikket': 8278, 'velfærdsmodel': 8279, 'afleverer': 8280, 'ihhh': 8281, 'originalitet': 8282, 'nyskapande': 8283, 'inget': 8284, 'kulinariske': 8285, 'specialiteter': 8286, 'lutfisk': 8287, 'forbryderalbum': 8288, 'macg': 8289, 'koldbrand': 8290, 'repræsentativt': 8291, 'lider': 8292, 'selektionsbias': 8293, 'firmaets': 8294, 'farvefulde': 8295, 'veldesignede': 8296, 'slides': 8297, 'småt': 8298, 'rapporten': 8299, 'ef': 8300, 'beskrivelse': 8301, 'tæskes': 8302, 'nårh': 8303, 'tilstrækkeligt': 8304, 'börjar': 8305, 'bäst': 8306, 'formidable': 8307, 'bolognaise': 8308, 'tvungen': 8309, 'uniform': 8310, 'bukser': 8311, 'ligeledes': 8312, 'shirt': 8313, 'inverse': 8314, 'årtier': 8315, 'uk': 8316, 'jack': 8317, 'skagen': 8318, 'accepteres': 8319, 'retmæssigt': 8320, 'klokt': 8321, 'val': 8322, 'hvepsen': 8323, 'fjendens': 8324, 'svagheder': 8325, 'natureporn': 8326, 'bar': 8327, 'talent': 8328, 'vildkat': 8329, 'krigeres': 8330, 'hjerter': 8331, 'inviteres': 8332, 'sparkes': 8333, 'kræftensbekæmbelse': 8334, 'rødekors': 8335, 'arme': 8336, 'ski': 8337, 'folkeskole': 8338, 'hæver': 8339, 'matrikel': 8340, 'løsere': 8341, 'våbenlov': 8342, 'konsekvens': 8343, 'britiske': 8344, 'tyranni': 8345, 'totalitært': 8346, 'marxisme': 8347, 'hybrid': 8348, 'halljø': 8349, 'statsmagten': 8350, 'pusher': 8351, 'ishus': 8352, 'danskens': 8353, 'retmæssige': 8354, 'finale': 8355, 'landin': 8356, 'silkeborg': 8357, 'fordelt': 8358, 'besteg': 8359, 'udfordring': 8360, 'modificerede': 8361, 'landeveje': 8362, 'ruten': 8363, 'birkesø': 8364, 'julsø': 8365, 'borresø': 8366, 'almindesø': 8367, 'selvbruner': 8368, 'barakkerne': 8369, 'krigen': 8370, 'albertslund': 8371, 'ukendte': 8372, 'pk': 8373, 'signalementløse': 8374, 'gerningsmænd': 8375, 'sund': 8376, 'ork': 8377, 'repostet': 8378, 'flæskesværene': 8379, 'pynt': 8380, 'scoret': 8381, 'højrøvet': 8382, 'tåbe': 8383, 'tegneserie': 8384, 'vigsø': 8385, 'sympati': 8386, 'savne': 8387, 'thailand': 8388, 'farvelll': 8389, 'daskere': 8390, 'forsørgelses': 8391, 'minkonge': 8392, 'rikke': 8393, 'gude': 8394, 'shout': 8395, 'selerne': 8396, 'grillbarer': 8397, 'risengrøden': 8398, 'lurpark': 8399, 'kanelsukker': 8400, 'vef': 8401, 'opium': 8402, 'brus': 8403, 'hyped': 8404, 'nynazist': 8405, 'interesser': 8406, 'rådhuspladsen': 8407, 'storkespringvandet': 8408, 'æder': 8409, 'tun': 8410, 'fortrudt': 8411, 'dødstraf': 8412, 'kastrering': 8413, 'patriotisme': 8414, 'kind': 8415, 'éen': 8416, 'aaalt': 8417, 'delish': 8418, 'hætten': 8419, 'kulturikon': 8420, 'rat': 8421, 'bukseben': 8422, 'gæve': 8423, 'krigere': 8424, 'ballade': 8425, 'levemand': 8426, 'forladt': 8427, 'engangsbeløb': 8428, 'globaloffensive': 8429, 'urlører': 8430, 'tiltagende': 8431, 'nostalgi': 8432, 'knäppa': 8433, 'huvudet': 8434, 'nästar': 8435, 'svimmar': 8436, 'holdet': 8437, 'kondi': 8438, 'hutlihut': 8439, 'klasser': 8440, 'puttet': 8441, 'tyre': 8442, 'needless': 8443, 'say': 8444, 'politikernes': 8445, 'vindersag': 8446, 'folketingsmedlemmer': 8447, 'storkreds': 8448, 'foretrukne': 8449, 'forlod': 8450, 'flabede': 8451, 'dimensioner': 8452, 'uorden': 8453, 'indeholde': 8454, 'face': 8455, 'swap': 8456, 'papegøjen': 8457, 'neckbeardjokes': 8458, 'båt': 8459, 'hirtsals': 8460, 'kristiansand': 8461, 'oldinge': 8462, 'berige': 8463, 'bagedyst': 8464, 'selvreizend': 8465, 'bakmeel': 8466, 'villigt': 8467, 'screenshot': 8468, 'mobilen': 8469, 'fløjtepuster': 8470, 'fisefornemt': 8471, 'term': 8472, 'dolkegris': 8473, 'majestætiske': 8474, 'væsener': 8475, 'dåse': 8476, 'lömska': 8477, 'känn': 8478, 'älgarnas': 8479, 'kk': 8480, 'brännvin': 8481, 'mataffären': 8482, 'langæg': 8483, 'powerade': 8484, 'genopretter': 8485, 'elektrolytbalancen': 8486, 'fælder': 8487, 'sut': 8488, 'nationalmuseum': 8489, 'storartet': 8490, 'dissing': 8491, 'nobelprisvindere': 8492, 'grundtvig': 8493, 'vitus': 8494, 'bering': 8495, 'knud': 8496, 'rasmussen': 8497, 'isflage': 8498, 'kanalen': 8499, \"''the\": 8500, \"dane''\": 8501, 'mg': 8502, 'maskingevær': 8503, 'ynkelig': 8504, 'pistol': 8505, 'voksende': 8506, 'indvandrerbefolkning': 8507, 'hostile': 8508, 'takeover': 8509, 'likeus': 8510, 'shitposte': 8511, 'retfærdiggøre': 8512, 'problematisk': 8513, 'propagandastrategi': 8514, 'absurde': 8515, 'søjlediagram': 8516, 'skævvredet': 8517, 'forbedringer': 8518, 'kæmpestore': 8519, 'absurditet': 8520, 'swisserne': 8521, 'overlade': 8522, 'svanens': 8523, 'kondolere': 8524, 'nære': 8525, 'pårørende': 8526, 'knus': 8527, 'scenarie': 8528, 'känna': 8529, 'överträffar': 8530, 'kärlek': 8531, 'konstnärliga': 8532, 'kartor': 8533, 'danskhat': 8534, 'begriber': 8535, 'bombet': 8536, 'sædvanligvis': 8537, 'knullebehovet': 8538, 'sterkere': 8539, 'frykten': 8540, 'diller': 8541, 'shut': 8542, 'naser': 8543, 'sænk': 8544, 'opbakning': 8545, 'størrer': 8546, '4500': 8547, 'guldkaramelpapir': 8548, 'sveriges': 8549, 'migrationspolitik': 8550, 'tänker': 8551, 'tävlar': 8552, 'vara': 8553, 'goda': 8554, 'möjligt': 8555, 'likadana': 8556, 'nooo': 8557, 'trafikdengsen': 8558, 'fjern': 8559, 'uafhængige': 8560, 'ophold': 8561, 'målføj': 8562, 'body': 8563, 'guards': 8564, 'skuffet': 8565, 'hjelme': 8566, 'cozyplaces': 8567, 'træner': 8568, 'bellahøj': 8569, 'svømmestadion': 8570, 'lykkedes': 8571, 'skilt': 8572, 'dømme': 8573, 'kog': 8574, 'overhaler': 8575, 'moster': 8576, 'bente': 8577, 'elcykel': 8578, 'torpedere': 8579, 'trille': 8580, 'evige': 8581, 'fodgængerfeltet': 8582, 'finkerne': 8583, 'tredje': 8584, 'fjerde': 8585, 'svajer': 8586, 'færdselsreglerne': 8587, 'fyrrerne': 8588, 'hands': 8589, 'down': 8590, 'peoplefuckingdying': 8591, 'blitt': 8592, 'gjørt': 8593, 'moderator': 8594, 'nuancerne': 8595, 'valgdagen': 8596, 'faen': 8597, 'blackface': 8598, 'østeuropæere': 8599, 'dræber': 8600, 'viber': 8601, 'hverdags': 8602, 'forstadsterror': 8603, 'nakskov': 8604, 'circlejerk': 8605, 'bagdad': 8606, 'dagblad': 8607, 'læsere': 8608, 'needs': 8609, 'jpeg': 8610, 'gennemblødte': 8611, 'håndtere': 8612, 'dyp': 8613, 'surströmming': 8614, 'rul': 8615, 'landsforræderi': 8616, 'andenplads': 8617, 'triumfatorholdet': 8618, 'turnering': 8619, 'cyklede': 8620, 'bøvl': 8621, 'paranoia': 8622, 'people': 8623, 'avundsjuka': 8624, 'vår': 8625, 'industrisektor': 8626, 'sangen': 8627, 'f••': 8628, 'bilder': 8629, 'smæk': 8630, 'automatisk': 8631, 'zlatan': 8632, 'forsmået': 8633, 'danerne': 8634, 'klat': 8635, 'forude': 8636, 'sugerør': 8637, 'malt': 8638, 'hjerteanfald': 8639, 'marvels': 8640, 'avengers': 8641, 'kopi': 8642, 'valhalla': 8643, 'tbh': 8644, 'klage': 8645, 'skidegode': 8646, 'kontaktperson': 8647, '70': 8648, '76': 8649, '66': 8650, 'etniskung': 8651, 'lyv': 8652, 'lortejob': 8653, 'flyt': 8654, 'geografi': 8655, 'kraftig': 8656, 'kollegie': 8657, 'ungdomsuddannelse': 8658, 'konsekvenserne': 8659, 'spansk': 8660, 'skåning': 8661, 'danmarksvän': 8662, 'gillar': 8663, 'buu': 8664, 'grimmere': 8665, 'tænder': 8666, 'nicolaj': 8667, 'lie': 8668, 'kaas': 8669, 'mini': 8670, 'afsnit': 8671, 'makke': 8672, 'lobbyist': 8673, '‘reklame’': 8674, 'kul': 8675, 'nog': 8676, 'köpa': 8677, 'gången': 8678, 'förstasidan': 8679, 'välkomna': 8680, 'misser': 8681, 'forlæsning': 8682, 'forberedelse': 8683, 'eksamen': 8684, 'crossposte': 8685, 'europe': 8686, 'doulingo': 8687, 'despacito': 8688, 'subscribed': 8689, 'billiga': 8690, 'skiten': 8691, 'dricker': 8692, 'onanisten': 8693, 'lugnt': 8694, 'klarar': 8695, 'vestlig': 8696, 'imperialist': 8697, 'håner': 8698, 'skibsnation': 8699, 'anholde': 8700, 'lift': 8701, 'hotellet': 8702, 'album': 8703, 'grinet': 8704, 'smell': 8705, 'behørig': 8706, 'thank': 8707, 'sverigeafton': 8708, 'randrussianer': 8709, 'approve': 8710, 'opfordre': 8711, 'boykotte': 8712, 'kanalerne': 8713, 'krigerkongen': 8714, 'oprør': 8715, 'islandske': 8716, 'besiddelser': 8717, 'fjollede': 8718, 'ungdomsoprør': 8719, 'donau': 8720, 'foråret': 8721, 'snestorm': 8722, 'bonehurtingjuice': 8723, 'ubevidst': 8724, 'stay': 8725, 'classy': 8726, 'menes': 8727, 'streng': 8728, 'demokratisk': 8729, 'afstemning': 8730, 'universelle': 8731, 'institutioner': 8732, 'droide': 8733, 'wookieerne': 8734, 'garnet': 8735, 'boobiebanger': 8736, 'memet': 8737, 'smart': 8738, 'kåre': 8739, 'månedens': 8740, 'memer': 8741, 'vits': 8742, 'potet': 8743, 'see': 8744, 'overtalt': 8745, 'papas': 8746, 'tested': 8747, 'motherfuckker': 8748, 'leves': 8749, 'forlæns': 8750, 'konvertere': 8751, 'bestof': 8752, 'puts': 8753, 'embargo': 8754, 'american': 8755, 'replaces': 8756, 'with': 8757, 'instruktioner': 8758, 'masterclass': 8759, 'visuel': 8760, 'møbler': 8761, 'instruktionerne': 8762, 'titelporno': 8763, 'slagtilfælde': 8764, '„ægge': 8765, 'hvider“': 8766, '„ikke': 8767, 'videre“': 8768, 'heja': 8769, 'ff': 8770, 'voldsparate': 8771, 'britterne': 8772, 'walesere': 8773, 'mystiske': 8774, 'hvoooooooooooor': 8775, 'woo': 8776, 'anerkende': 8777, 'heeey': 8778, 'børnehaveklasse': 8779, 'sags': 8780, 'lusankya': 8781, 'gg': 8782, 'skilling': 8783, 'utallige': 8784, 'skandaler': 8785, 'røver': 8786, 'oplsag': 8787, 'matadorpenge': 8788, \"play'er\": 8789, 'polle': 8790, 'snave': 8791, '🤢': 8792, 'eeew': 8793, 'jehovaer': 8794, 'adventister': 8795, 'officielle': 8796, 'afholdsfolk': 8797, 'motiver': 8798, 'afleveret': 8799, 'berettigede': 8800, 'effektivt': 8801, 'hehe': 8802, 'omgivet': 8803, 'øllebrød': 8804, 'senpai': 8805, 'stive': 8806, 'fredog': 8807, 'talefod': 8808, 'overnatte': 8809, 'overvejet': 8810, 'behandlings': 8811, 'always': 8812, 'bright': 8813, 'kontroversielle': 8814, 'sætning': 8815, 'prestige': 8816, 'fashion': 8817, 'argh': 8818, \"bar'\": 8819, 'akkurat': 8820, 'datteren': 8821, 'veninder': 8822, 'nerve': 8823, 'sammenbrud': 8824, 'skift': 8825, 'teltplads': 8826, 'indlægget': 8827, 'slettet': 8828, 'festivalen': 8829, 'snyder': 8830, 'indsamler': 8831, '90procent': 8832, 'admistration': 8833, '3n': 8834, 'hull': 8835, 'vigtigere': 8836, 'beskæftige': 8837, 'andedam': 8838, 'næsetip': 8839, 'marketingskampagnen': 8840, 'missilerne': 8841, 'symbolske': 8842, 'anført': 8843, 'indført': 8844, 'brugerbetaling': 8845, 'kapitalister': 8846, 'rotter': 8847, 'perfektionist': 8848, 'geværet': 8849, 'recolor': 8850, 'gonna': 8851, 'bet': 8852, \"it's\": 8853, 'æbleskiver': 8854, 'opstemmer': 8855, 'optjent': 8856, 'solid': 8857, 'folketingspension': 8858, 'ægtefælle': 8859, 'børnepension': 8860, '134': 8861, '61': 8862, 'drivkrafter': 8863, 'politikerlede': 8864, 'blankt': 8865, 'cirkus': 8866, 'derinde': 8867, 'borgen': 8868, 'indsats': 8869, 'folkevalgt': 8870, 'underholdningen': 8871, 'menige': 8872, 'vindmølle': 8873, 'råderum': 8874, 'gylle': 8875, 'gate': 8876, 'vind': 8877, 'presist': 8878, 'dræbersnegle': 8879, 'billedbiks': 8880, 'tillräckligt': 8881, 'gammal': 8882, 'rostat': 8883, 'blivit': 8884, 'röd': 8885, 'leva': 8886, 'nasser': 8887, 'sundhedsvæsen': 8888, 'döden': 8889, 'vinst': 8890, 'lortememe': 8891, 'plastik': 8892, 'danegeld': 8893, \"vikingerne's\": 8894, 'magtdemonstration': 8895, 'joe': 8896, 'juice': 8897, 'hertil': 8898, 'troll': 8899, 'account': 8900, 'direktør': 8901, 'mdr': 8902, \"uuuuu'\": 8903, \"båååå'\": 8904, 'årets': 8905, 'hit': 8906, 'rider': 8907, 'families': 8908, 'møgso': 8909, 'øv': 8910, 'overskyet': 8911, 'steger': 8912, 'september': 8913, 'tosser': 8914, 'fangede': 8915, \"denmark's\": 8916, 'fascination': 8917, 'opfordring': 8918, 'fase': 8919, 'idet': 8920, 'hjørnestenen': 8921, 'dansksvin': 8922, 'imponerende': 8923, 'kæresten': 8924, 'tramper': 8925, 'tilintetgøres': 8926, 'komisk': 8927, '“ja': 8928, 'troværdig': 8929, 'billigst': 8930, 'nydelse': 8931, 'knogler': 8932, 'arbejdsmarkedet': 8933, 'projekt': 8934, 'gruppearbejde': 8935, 'universiteter': 8936, 'ulemper': 8937, 'kandidater': 8938, 'cbs': 8939, 'cowboys': 8940, 'påpeger': 8941, 'tripple': 8942, 'giraffen': 8943, 'bekräfta': 8944, 'källa': 8945, 'otrevlig': 8946, 'patriarkalsk': 8947, 'oprob': 8948, 'logoet': 8949, 'hkh': 8950, 'fjeldaben': 8951, 'myself': 8952, 'pimpin': 8953, 'bullshit': 8954, 'pinden': 8955, 'excel': 8956, 'vægtmæssigt': 8957, '2½k': 8958, 'logisk': 8959, 'langsommere': 8960, 'glatte': 8961, 'bremselængde': 8962, 'routes4you': 8963, 'årsagerne': 8964, 'højst': 8965, 'kontanthjælp': 8966, \"kabaa'en\": 8967, 'mekka': 8968, 'tynd': 8969, 'mave': 8970, 'grædemuren': 8971, 'winwin': 8972, 'stråleskide': 8973, 'mvh': 8974, 'messias': 8975, '1994': 8976, 'dørene': 8977, 'outta': 8978, 'laget': 8979, 'liker': 8980, 'flair': 8981, 'skåninger': 8982, 'formel1': 8983, 'efterlade': 8984, 'ifså': 8985, 'drage': 8986, 'grotesk': 8987, 'safe': 8988, 'zones': 8989, 'områderne': 8990, 'fortsætte': 8991, 'beholder': 8992, 'mojn': 8993, \"hol'\": 8994, 'farveblinde': 8995, 'jpg': 8996, 'animation': 8997, 'hunter': 8998, 'thompsons': 8999, 'morgenmads': 9000, 'rutine': 9001, 'snup': 9002, 'tudekiks': 9003, 'afsløre': 9004, 'maritime': 9005, 'signalflag': 9006, 'søgt': 9007, '114': 9008, 'skelet': 9009, 'simpel': 9010, 'fam': 9011, 'bwahahahahahah': 9012, 'ingenørkunst': 9013, 'tudefjæser': 9014, 'vandtæt': 9015, 'dragt': 9016, 'tå': 9017, 'gasmaske': 9018, 'postbud': 9019, 'uddele': 9020, 'dhl': 9021, 'gls': 9022, 'bring': 9023, 'feks': 9024, 'forpligtet': 9025, 'adresser': 9026, 'tyndskids': 9027, 'brev': 9028, '15min': 9029, 'ordnet': 9030, 'fedte': 9031, 'hente': 9032, 'underholde': 9033, 'koll': 9034, 'kunna': 9035, 'forståelse': 9036, 'pakken': 9037, 'tilhænger': 9038, 'kæpheste': 9039, 'beregningen': 9040, 'ækvivalenter': 9041, 'ækv': 9042, 'kg': 9043, 'enhed': 9044, 'beregnes': 9045, 'energiindholdet': 9046, 'generel': 9047, 'oplysningskampagne': 9048, 'forurenende': 9049, 'belaste': 9050, 'hahhaaha': 9051, 'lær': 9052, 'biiiiiaaaatch': 9053, 'populære': 9054, 'pladser': 9055, 'ledige': 9056, '48': 9057, 'troppe': 9058, 'trine': 9059, 'bramsens': 9060, '07': 9061, 'kongerigets': 9062, 'område': 9063, 'fantasiløs': 9064, 'nordmændende': 9065, 'leende': 9066, 'fortjæner': 9067, 'photoshoppet': 9068, 'loop': 9069, 'skuespiller': 9070, 'verdenshistorien': 9071, 'insanity': 9072, 'tyrkisk': 9073, 'fatte': 9074, 'grundlagt': 9075, \"atatürk's\": 9076, 'vision': 9077, 'sekularisering': 9078, 'undervisnings': 9079, 'området': 9080, 'skinkeskuden': 9081, 'almindeligt': 9082, 'fort': 9083, 'fastlægge': 9084, 'nææh': 9085, 'rosiner': 9086, 'bagværkets': 9087, 'narrefisse': 9088, 'reposter': 9089, 'forlange': 9090, 'forblive': 9091, 'børnene': 9092, 'features': 9093, 'interesserer': 9094, 'rust': 9095, 'markedsføre': 9096, 'perfmant': 9097, 'metallet': 9098, 'usikker': 9099, 'balancen': 9100, 'vismanden': 9101, '2006': 9102, 'tempel': 9103, 'næse': 9104, 'drugs': 9105, 'hjemmelavede': 9106, 'ribbet': 9107, 'flået': 9108, 'pampere': 9109, 'nydt': 9110, 'sandelig': 9111, 'melidenhed': 9112, 'naboland': 9113, 'ganskevist': 9114, 'såe': 9115, 'research': 9116, 'grundlægge': 9117, 'undret': 9118, 'skotland': 9119, 'overvældet': 9120, 'skotske': 9121, 'drink': 9122, 'hånden': 9123, 'hugh': 9124, 'five': 9125, 'tatovør': 9126, 'malone': 9127, 'hamster': 9128, 'daglige': 9129, 'grannländer': 9130, 'hjälp': 9131, 'ibland': 9132, 'ansat': 9133, 'fængsel': 9134, 'lortesøskende': 9135, 'fremtiden': 9136, 'indgive': 9137, 'anklagede': 9138, 'pisser': 9139, 'trodser': 9140, 'rettigheder': 9141, 'tilsyneladende': 9142, 'kvaler': 9143, 'grillet': 9144, 'fornærme': 9145, 'intelligens': 9146, 'hive': 9147, 'barnagtigt': 9148, 'fædrelandskærligheds': 9149, 'morsomt': 9150, 'rasmus': 9151, 'vilddyr': 9152, 'trængt': 9153, 'krog': 9154, 'bider': 9155, 'desperation': 9156, 'pegefinger': 9157, 'behjælpelig': 9158, 'fungere': 9159, 'midlertidig': 9160, 'hvileplads': 9161, 'masseovervågnings': 9162, 'stigen': 9163, 'kattene': 9164, 'kattepasserne': 9165, 'potentielle': 9166, 'lortesituation': 9167, 'pønser': 9168, 'svyskere': 9169, 'druk': 9170, 'fremmedhad': 9171, '“undisputed': 9172, 'byde': 9173, 'lejligheder': 9174, 'fedeste': 9175, 'somre': 9176, 'cowboyderne': 9177, 'fortjent': 9178, 'costa': 9179, 'rica': 9180, 'minimum': 9181, 'funny': 9182, 'parken': 9183, 'kylle': 9184, 'rylle': 9185, 'brækkede': 9186, 'antydningen': 9187, 'pisgule': 9188, 'udfordre': 9189, 'sygeligtgørende': 9190, 'cocio': 9191, 'sake': 9192, 'narhval': 9193, 'nutidens': 9194, 'hurrar': 9195, 'skrattar': 9196, 'armén': 9197, 'undre': 9198, 'australien': 9199, 'gyldent': 9200, 'vikingeånd': 9201, 'slikskål': 9202, 'ledninger': 9203, 'vingummier': 9204, 'snørebånd': 9205, 'mishandlede': 9206, 'vindruer': 9207, 'skrivebordsbaggrund': 9208, '‘fake’': 9209, '😅': 9210, 'reaktioner': 9211, '😏': 9212, 'opdut': 9213, '👌': 9214, 'congobajeren': 9215, 'viborg': 9216, 'kyndelmisse': 9217, 'forglemme': 9218, 'dagli': 9219, 'kæde': 9220, 'torn': 9221, 'heldighvis': 9222, 'gudforladte': 9223, 'tjaaa': 9224, 'hær': 9225, 'portrætteret': 9226, 'sagnkonge': 9227, 'seiv': 9228, 'granted': 9229, 'pærer': 9230, 'overdrive': 9231, 'nip': 9232, 'nappet': 9233, 'delt': 9234, 'nedanför': 9235, 'kartan': 9236, 'brian': 9237, 'saaby': 9238, 'malerier': 9239, 'ideelt': 9240, 'ydersiden': 9241, 'tøs': 9242, 'elefantordenen': 9243, 'sån': 9244, 'mat': 9245, 'hela': 9246, 'plyndred': 9247, 'tjaa': 9248, 'hæmningsløse': 9249, 'pivåbne': 9250, 'redt': 9251, 'dessutom': 9252, 'vårat': 9253, 'riksvapen': 9254, 'allmänt': 9255, 'snyggare': 9256, 'sjunger': 9257, 'henriksen': 9258, 'fejre': 9259, 'integrationen': 9260, 'ungdom': 9261, 'somalia': 9262, 'somalier': 9263, 'gift': 9264, 'fissen': 9265, 'udelukker': 9266, 'assimilere': 9267, 'radar': 9268, 'sprænge': 9269, 'udlægning': 9270, 'begreber': 9271, 'forbandet': 9272, 'vrøvl': 9273, 'mål': 9274, 'outline': 9275, 'fintuning': 9276, 'profit': 9277, 'lyserødt': 9278, 'radikal': 9279, 'snuden': 9280, 'fære': 9281, 'penis': 9282, 'gymnasielærer': 9283, 'voldtægtsmænd': 9284, 'magten': 9285, 'behændigt': 9286, 'møgdyr': 9287, 'mafia': 9288, 'åndssvage': 9289, 'storm': 9290, 'supermand': 9291, 'gear': 9292, 'fansne': 9293, 'påført': 9294, 'kønssygdom': 9295, 'helbredes': 9296, 'risikabel': 9297, 'levevej': 9298, 'opstem': 9299, 'uudtaleligt': 9300, 'fuckhoveder': 9301, 'skyrim': 9302, 'belongs': 9303, 'nords': 9304, 'reaktionen': 9305, 'tålmodige': 9306, 'ærke': 9307, 'nemesis': 9308, 'ulve': 9309, 'giraffer': 9310, 'kalifat': 9311, 'kvickly': 9312, 'anskaffe': 9313, 'snitter': 9314, 'kanoner': 9315, 'rigelig': 9316, 'hjemløse': 9317, 'skrald': 9318, 'misundelige': 9319, 'episk': 9320, 'ps': 9321, 'ærede': 9322, 'league': 9323, 'legends': 9324, 'froggen': 9325, 'baggrundsskærm': 9326, 'dissede': 9327, 'langelændere': 9328, 'stream': 9329, 'danemarken': 9330, 'mad😵': 9331, 'hvofor': 9332, 'ohhhhh': 9333, 'shots': 9334, 'fired': 9335, 'åhhh': 9336, 'ira': 9337, 'cm': 9338, 'sjovere': 9339, 'liberale': 9340, 'strengt': 9341, 'tegningen': 9342, 'oppefra': 9343, 'uret': 9344, 'stuerent': 9345, 'påduttes': 9346, \"mcdonald's\": 9347, 'klæde': 9348, 'brun': 9349, 'asiat': 9350, 'inder': 9351, 'kermit': 9352, 'landforræder': 9353, 'eurovision': 9354, 'koldere': 9355, 'hornene': 9356, 'hvemses': 9357, 'desses': 9358, 'herses': 9359, 'timer’s': 9360, 'hvile': 9361, 'iberegnet': 9362, 'transport': 9363, 'escort': 9364, 'regnestykket': 9365, 'mememageri': 9366, 'underverdenens': 9367, 'pinsler': 9368, 'fødselsdag': 9369, 'instaen': 9370, 'thomas': 9371, 'nazitiden': 9372, 'østeuropaer': 9373, 'kastrer': 9374, 'fader': 9375, 'syndat': 9376, 'uppbåt': 9377, 'nuttet': 9378, \"00'erene\": 9379, 'afdelinger': 9380, 'jobcenteret': 9381, 'myndighedsafdelingen': 9382, 'serviceloven': 9383, 'henvende': 9384, 'glistrup': 9385, 'tjen': 9386, 'indirekte': 9387, 'stormer': 9388, 'svenskern': 9389, 'tyk': 9390, 'nordirak': 9391, 'syrien': 9392, 'nutella': 9393, 'stresser': 9394, 'ager': 9395, 'glo': 9396, 'stikkene': 9397, 'tilmed': 9398, 'levet': 9399, 'pustet': 9400, 'bagerjomfru': 9401, 'creme': 9402, 'solgt': 9403, 'ingrediens': 9404, 'åd': 9405, 'råt': 9406, 'sv': 9407, 'endelige': 9408, 'resultater': 9409, 'forstået': 9410, 'skiftede': 9411, 'ammitzbille': 9412, 'venstrefløjsere': 9413, 'pladderhumanister': 9414, 'venligboere': 9415, 'anledningen': 9416, 'kraftigere': 9417, 'done': 9418, 'arbejdsopgave': 9419, 'gryder': 9420, 'pander': 9421, 'malmø': 9422, 'forstad': 9423, 'gasgrill': 9424, \"ac'ens\": 9425, 'kølige': 9426, 'brise': 9427, 'redtube': 9428, 'fullcommunism': 9429, 'bike': 9430, 'brothers': 9431, 'unite': 9432, 'velbekomme': 9433, 'hævder': 9434, 'logger': 9435, 'sørme': 9436, '52': 9437, 'roteret': 9438, 'hullet': 9439, 'løftede': 9440, 'danny': 9441, 'sørensen': 9442, 'coach': 9443, 'navnet': 9444, 'zonic': 9445, \"li'\": 9446, 'tegnet': 9447, 'skånske': 9448, 'ell': 9449, 'darth': 9450, 'maul': 9451, 'uduelig': 9452, 'ground': 9453, \"ska'\": 9454, \"sgu'\": 9455, 'riktiga': 9456, 'årlige': 9457, 'happiest': 9458, 'countries': 9459, 'nuanceret': 9460, 'konkluderer': 9461, 'cnn': 9462, 'amount': 9463, 'health': 9464, 'memenister': 9465, 'rep': 9466, 'tykt': 9467, 'opblæste': 9468, 'selvopfattelse': 9469, 'udpluk': 9470, 'regnbuesamfund': 9471, 'kulturer': 9472, 'seksualiteter': 9473, 'harmonisk': 9474, 'springer': 9475, 'regnbuefarvet': 9476, 'brystvorter': 9477, 'henholdsvis': 9478, 'justin': 9479, 'timberlake': 9480, 'burhan': 9481, 'priden': 9482, 'forringer': 9483, 'velfærden': 9484, 'blåøjede': 9485, 'ventet': 9486, 'udspile': 9487, 'muskulaturen': 9488, 'kinderne': 9489, 'basunisten': 9490, 'tappat': 9491, 'förståndet': 9492, 'hållet': 9493, 'sneklædte': 9494, 'jyske': 9495, 'bjerge': 9496, 'mangen': 9497, 'vandretur': 9498, 'spenderet': 9499, 'gurglende': 9500, 'floder': 9501, 'slavemaster123': 9502, 'belastende': 9503, 'motionsform': 9504, 'tære': 9505, 'heksen': 9506, 'fjæsbog': 9507, 'himlet': 9508, \"'afsløringer'\": 9509, 'småskør': 9510, 'historik': 9511, 'opfyldelse': 9512, 'deler': 9513, 'f2': 9514, 'nedslagte': 9515, 'girl': 9516, 'primære': 9517, 'fortrunke': 9518, 'programmeringssprog': 9519, 'fornøjelse': 9520, 'udvikle': 9521, 'tekniske': 9522, 'paul': 9523, 'mcjones': 9524, 'oral': 9525, 'stroustrup': 9526, 'afgørende': 9527, 'fredstogt': 9528, 'østeuropa': 9529, 'fornærmede': 9530, 'værter': 9531, 'udlægger': 9532, 'rassragr': 9533, 'style': 9534, 'værsgo': 9535, 'pølsevognen': 9536, 'originalt': 9537, 'heimdal': 9538, 'bolde': 9539, 'bifrost': 9540, 'mått': 9541, 'klassförakt': 9542, 'sådant': 9543, 'statsmannamässiga': 9544, 'tosso': 9545, 'hd': 9546, 'runder': 9547, 'funnygagawful': 9548, 'karussellen': 9549, 'had': 9550, 'then': 9551, 'took': 9552, 'away': 9553, 'sjakaler': 9554, 'grundlagde': 9555, 'nedværdigene': 9556, 'prostition': 9557, 'verdend': 9558, 'aligevel': 9559, 'synker': 9560, 'væl': 9561, 'verdi': 9562, 'ecort': 9563, 'blind': 9564, 'fejlfarve': 9565, 'fabeldyr': 9566, 'menneskekrop': 9567, 'fodboldhoved': 9568, 'cykelløb': 9569, 'marathoner': 9570, 'triatlons': 9571, 'trænger': 9572, 'rökte': 9573, 'kal': 9574, 'mar': 9575, 'drr': 9576, 'flasker': 9577, 'memen': 9578, 'nationaliteten': 9579, 'tilnærmelsesvist': 9580, 'proud': 9581, 'be': 9582, 'crap': 9583, 'volbeat': 9584, 'tilfældigt': 9585, 'videoer': 9586, 'breaking': 9587, 'telefoner': 9588, 'apperater': 9589, 'onepage': 9590, 'tattooed': 9591, '20monarch': 9592, '20with': 9593, '2045': 9594, '20in': 9595, '20chest': 9596, 'false': 9597, 'mandom': 9598, 'murica': 9599, 'pølen': 9600, 'tune': 9601, 'md': 9602, 'carlsberg': 9603, 'menuen': 9604, 'direktørens': 9605, 'kommentarerene': 9606, 'knalde': 9607, '5000kr': 9608, 'vidare': 9609, 'prisa': 9610, 'unødvendig': 9611, 'undertegnede': 9612, 'støt': 9613, 'redde': 9614, 'klode': 9615, 'grundig': 9616, 'antagelse': 9617, 'dokumentaren': 9618, 'soaked': 9619, 'bleach': 9620, 'humorforladt': 9621, 'skindød': 9622, 'katten': 9623, 'amdi': 9624, 'familierne': 9625, 'overvåger': 9626, 'tinna': 9627, 'roller': 9628, 'arrrrrrrrrrrrrrrrrrrrgggghhh': 9629, 'håndsøksen': 9630, 'vanskabning': 9631, 'nationens': 9632, 'israel': 9633, 'religionshensyn': 9634, 'krænkelsesret': 9635, 'uofficiel': 9636, 'dags': 9637, 'råb': 9638, 'skrig': 9639, 'stonia': 9640, 'hub': 9641, \"eu's\": 9642, 'governance': 9643, 'model': 9644, 'forgårs': 9645, 'kontantfrit': 9646, 'afgiver': 9647, 'privatliv': 9648, 'vågn': 9649, 'kløver': 9650, 'kastetvej': 9651, '❤': 9652, 'meetup': 9653, 'promenaden': 9654, 'metoden': 9655, 'mah': 9656, 'løgnersækken': 9657, 'etinisk': 9658, 'walkinghawking': 9659, 'foreslog': 9660, 'rådgivning': 9661, 'hjulpet': 9662, 'tigger': 9663, 'dokumenteret': 9664, 'søge': 9665, 'polititilhold': 9666, 'gentager': 9667, 'safehouse': 9668, 'æresrelaterede': 9669, 'afdeling': 9670, '78': 9671, 'døgnåbent': 9672, 'eksperter': 9673, 'situationer': 9674, 'irriterer': 9675, 'biffen': 9676, 'trailere': 9677, 'joina': 9678, 'smuthullet': 9679, 'snuskede': 9680, 'stambar': 9681, 'skarpe': 9682, 'udvekslede': 9683, 'mellemtiden': 9684, 'starstruck': 9685, \"gu'\": 9686, 'humør': 9687, 'dødelige': 9688, 'smiger': 9689, 'jaha': 9690, 'åtminstone': 9691, 'tvångsmatar': 9692, 'potatis': 9693, 'oversættelse': 9694, 'djævlesprog': 9695, 'efterforskes': 9696, 'tab': 9697, 'oplyst': 9698, 'trækker': 9699, 'landsforræder': 9700, 'voldtage': 9701, 'li': 9702, 'mår': 9703, 'illa': 9704, \"å'\": 9705, 'äkta': 9706, 'fil': 9707, 'norrländska': 9708, 'skogar': 9709, 'flagstang': 9710, 'ordenlig': 9711, 'ordstyre': 9712, 'debater': 9713, 'borgere': 9714, 'intereserede': 9715, 'bortforklaringer': 9716, 'afbryd': 9717, 'imgen': 9718, 'barriere': 9719, 'bønder': 9720, 'idioterne': 9721, 'knivstikkeri': 9722, 'sværgest': 9723, 'hårdeste': 9724, 'forløb': 9725, 'hash': 9726, 'advare': 9727, 'virklig': 9728, 'sjælden': 9729, 'opgave': 9730, 'lockoute': 9731, 'videoovervågning': 9732, 'hærværk': 9733, 'sveskn': 9734, 'terrorangrebene': 9735, 'dø': 9736, 'pigebarnet': 9737, 'sjw': 9738, 'overvåge': 9739, 'ordstyrer': 9740, 'ordstyreren': 9741, 'skibet': 9742, 'vasa': 9743, 'søndag': 9744, 'overfaldet': 9745, 'bladet': 9746, 'kommaer': 9747, 'anglosaxisk': 9748, 'leflen': 9749, 'jaaahr': 9750, 'ukraine': 9751, 'aserbajdsjan': 9752, 'fløjt’': 9753, 'syndt': 9754, 'fodboldkampe': 9755, 'spilder': 9756, 'grænsekontroller': 9757, 'yah': 9758, 'konsistent': 9759, 'excellent': 9760, 'reflektere': 9761, 'hashen': 9762, 'derimod': 9763, 'ændrede': 9764, 'studier': 9765, 'hang': 9766, 'pinde': 9767, 'vennegruppe': 9768, 'opstod': 9769, 'studerede': 9770, 'hadefulde': 9771, 'apatisk': 9772, 'følte': 9773, 'søvnløse': 9774, 'nætter': 9775, 'kollegiet': 9776, 'holdte': 9777, 'pindene': 9778, 'dagligt': 9779, \"'handler'\": 9780, 'apatiske': 9781, 'tåge': 9782, 'kinesisk': 9783, 'fritid': 9784, 'stranden': 9785, 'erhvervsuddannelse': 9786, 'multimediedesigner': 9787, 'td': 9788, 'henhold': 9789, 'agter': 9790, 'vane': 9791, 'tilegne': 9792, 'skævt': 9793, 'helvedes': 9794, 'sygt': 9795, 'dataersmuk': 9796, 'kulturberigelse': 9797, 'forbryder': 9798, 'udenlanske': 9799, 'bagtremmer': 9800, 'bevismateriale': 9801, 'ligestillingen': 9802, 'dråben': 9803, 'nationaliser': 9804, 'verdensmestre': 9805, 'ungdomsdruk': 9806, 'tokiga': 9807, 'skrattade': 9808, 'ändå': 9809, 'belaster': 9810, 'behæftet': 9811, 'måling': 9812, 'forvirring': 9813, 'miljøvenligt': 9814, 'økologiske': 9815, 'bæredygtighed': 9816, 'måles': 9817, 'ozonlaget': 9818, 'forbrug': 9819, 'begrænsning': 9820, 'destruktion': 9821, 'dyreområder': 9822, 'catch': 9823, 'ifm': 9824, 'fiskeri': 9825, 'demokrati': 9826, \"mep'er\": 9827, 'chok': 9828, 'frømænd': 9829, 'uu': 9830, 'smørrebrødsbiks': 9831, 'ub': 9832, 'velfærdssystem': 9833, 'ua': 9834, 'ganjioverdose': 9835, 'søgning': 9836, 'urløvrigt': 9837, 'vin': 9838, 'bordeaux': 9839, 'vine': 9840, 'scorer': 9841, 'vivino': 9842, 'priser': 9843, 'mm': 9844, 'urimelige': 9845, 'repræsentationer': 9846, 'henrivende': 9847, 'grav': 9848, 'stråler': 9849, 'klareste': 9850, 'rav': 9851, 'dødes': 9852, 'swinger': 9853, 'pianomand': 9854, 'selvmordstanker': 9855, 'arrghh': 9856, 'afdankede': 9857, 'stjerner': 9858, 'fortryde': 9859, 'ar': 9860, 'sjæl': 9861, 'tragistan': 9862, 'syn': 9863, 'musikere': 9864, 'groupies': 9865, 'grab': 9866, 'håbet': 9867, 'detaljeret': 9868, 'rapport': 9869, 'disken': 9870, 'eksemplarer': 9871, 'frække': 9872, 'uartige': 9873, 'classified': 9874, 'cuppen': 9875, 'mangel': 9876, 'vejert': 9877, 'påklædningen': 9878, 'respekten': 9879, 'offerede': 9880, 'udtagelse': 9881, 'veteran': 9882, 'fange': 9883, 'failass': 9884, 'ops': 9885, 'svenskerløgne': 9886, 'grint': 9887, 'opstemning': 9888, 'free': 9889, 'zone': 9890, 'barbari': 9891, 'net': 9892, 'fluer': 9893, 'køtersnak': 9894, 'forurener': 9895, 'stammer': 9896, 'dumpe': 9897, 'støjforurener': 9898, 'pedo': 9899, 'episke': 9900, 'sarte': 9901, 'forfængelige': 9902, 'mobbes': 9903, 'jokes': 9904, 'kiosk': 9905, 'stopp': 9906, 'maasse': 9907, 'ensporet': 9908, 'kommentarfeltet': 9909, 'emne': 9910, 'næh': 9911, 'sprang': 9912, 'pillen': 9913, 'metaforisk': 9914, 'prikkede': 9915, 'stealther': 9916, 'sidstnævnte': 9917, 'præmisser': 9918, 'indgået': 9919, 'piller': 9920, 'præmis': 9921, 'frafalder': 9922, 'meddele': 9923, 'graviditeten': 9924, 'betænkningstid': 9925, 'uheld': 9926, 'fødslen': 9927, 'bevisbyrden': 9928, 'foregå': 9929, 'papirarbejde': 9930, 'enighed': 9931, 'retssag': 9932, 'dommers': 9933, 'fravælge': 9934, 'raske': 9935, 'tvinge': 9936, 'betænkninger': 9937, 'tl': 9938, 'påpasselig': 9939, 'myndighedsinstans': 9940, 'backsies': 9941, 'gymnasiefester': 9942, 'mur': 9943, 'forlænget': 9944, 'nnnnnnnå': 9945, 'jaget': 9946, 'stuen': 9947, 'kildet': 9948, 'rationer': 9949, 'asylshoppere': 9950, 'jovi': 9951, 'thestrup': 9952, 'innehålla': 9953, 'spår': 9954, 'välfärd': 9955, 'osse': 9956, 'røvgevir': 9957, 'lysene': 9958, 'strandvasker': 9959, 'story': 9960, '“hvorfår': 9961, 'suddenlygay': 9962, 'cheese': 9963, 'cakes': 9964, 'studeres': 9965, 'ruske': 9966, 'fedtmule': 9967, 'müsli': 9968, 'ækelt': 9969, 'nan': 9970}\n"
          ],
          "name": "stdout"
        }
      ]
    },
    {
      "cell_type": "code",
      "metadata": {
        "id": "UqNlCi5nn71M",
        "colab_type": "code",
        "outputId": "ee829e44-537f-414b-fa63-78a749968c7c",
        "colab": {
          "base_uri": "https://localhost:8080/",
          "height": 302
        }
      },
      "source": [
        "!pip install keras-self-attention"
      ],
      "execution_count": 0,
      "outputs": [
        {
          "output_type": "stream",
          "text": [
            "Collecting keras-self-attention\n",
            "  Downloading https://files.pythonhosted.org/packages/44/3e/eb1a7c7545eede073ceda2f5d78442b6cad33b5b750d7f0742866907c34b/keras-self-attention-0.42.0.tar.gz\n",
            "Requirement already satisfied: numpy in /usr/local/lib/python3.6/dist-packages (from keras-self-attention) (1.17.5)\n",
            "Requirement already satisfied: Keras in /usr/local/lib/python3.6/dist-packages (from keras-self-attention) (2.2.5)\n",
            "Requirement already satisfied: six>=1.9.0 in /usr/local/lib/python3.6/dist-packages (from Keras->keras-self-attention) (1.12.0)\n",
            "Requirement already satisfied: pyyaml in /usr/local/lib/python3.6/dist-packages (from Keras->keras-self-attention) (3.13)\n",
            "Requirement already satisfied: scipy>=0.14 in /usr/local/lib/python3.6/dist-packages (from Keras->keras-self-attention) (1.4.1)\n",
            "Requirement already satisfied: keras-applications>=1.0.8 in /usr/local/lib/python3.6/dist-packages (from Keras->keras-self-attention) (1.0.8)\n",
            "Requirement already satisfied: h5py in /usr/local/lib/python3.6/dist-packages (from Keras->keras-self-attention) (2.8.0)\n",
            "Requirement already satisfied: keras-preprocessing>=1.1.0 in /usr/local/lib/python3.6/dist-packages (from Keras->keras-self-attention) (1.1.0)\n",
            "Building wheels for collected packages: keras-self-attention\n",
            "  Building wheel for keras-self-attention (setup.py) ... \u001b[?25l\u001b[?25hdone\n",
            "  Created wheel for keras-self-attention: filename=keras_self_attention-0.42.0-cp36-none-any.whl size=17296 sha256=43d492c5fbb9ec84c8811ce2f928596e2b3aa25d3c0e0538c381ec469143cfed\n",
            "  Stored in directory: /root/.cache/pip/wheels/7b/05/a0/99c0cf60d383f0494e10eca2b238ea98faca9a1fe03cac2894\n",
            "Successfully built keras-self-attention\n",
            "Installing collected packages: keras-self-attention\n",
            "Successfully installed keras-self-attention-0.42.0\n"
          ],
          "name": "stdout"
        }
      ]
    },
    {
      "cell_type": "code",
      "metadata": {
        "id": "cvMYqskUGeo8",
        "colab_type": "code",
        "colab": {}
      },
      "source": [
        "from keras.layers import Concatenate\n",
        "from sklearn.metrics import precision_recall_fscore_support"
      ],
      "execution_count": 0,
      "outputs": []
    },
    {
      "cell_type": "code",
      "metadata": {
        "id": "znStVwbnGmG3",
        "colab_type": "code",
        "outputId": "46c4eb1d-9594-4264-9de5-3656fa6b5a3b",
        "colab": {
          "base_uri": "https://localhost:8080/",
          "height": 188
        }
      },
      "source": [
        "from keras import backend as K\n",
        "from keras.engine.topology import Layer\n",
        "from keras import initializers, regularizers, constraints\n",
        "from keras_self_attention import SeqSelfAttention\n",
        "from keras.layers import CuDNNGRU,CuDNNLSTM,GlobalMaxPooling1D,GlobalAveragePooling1D\n",
        "from sklearn.utils import class_weight\n",
        "class Attention(Layer):\n",
        "    def __init__(self,step_dim=20,\n",
        "                 W_regularizer=None, b_regularizer=None,\n",
        "                 W_constraint=None, b_constraint=None,\n",
        "                 bias=True, **kwargs):\n",
        "        self.supports_masking = True\n",
        "        self.init = initializers.get('glorot_uniform')\n",
        "\n",
        "        self.W_regularizer = regularizers.get(W_regularizer)\n",
        "        self.b_regularizer = regularizers.get(b_regularizer)\n",
        "\n",
        "        self.W_constraint = constraints.get(W_constraint)\n",
        "        self.b_constraint = constraints.get(b_constraint)\n",
        "\n",
        "        self.bias = bias\n",
        "        self.step_dim = step_dim\n",
        "        self.features_dim = 0\n",
        "        super(Attention, self).__init__(**kwargs)\n",
        "\n",
        "    def build(self, input_shape):\n",
        "        assert len(input_shape) == 3\n",
        "\n",
        "        self.W = self.add_weight((input_shape[-1],),\n",
        "                                 initializer=self.init,\n",
        "                                 name='{}_W'.format(self.name),\n",
        "                                 regularizer=self.W_regularizer,\n",
        "                                 constraint=self.W_constraint)\n",
        "        self.features_dim = input_shape[-1]\n",
        "\n",
        "        if self.bias:\n",
        "            self.b = self.add_weight((input_shape[1],),\n",
        "                                     initializer='zero',\n",
        "                                     name='{}_b'.format(self.name),\n",
        "                                     regularizer=self.b_regularizer,\n",
        "                                     constraint=self.b_constraint)\n",
        "        else:\n",
        "            self.b = None\n",
        "\n",
        "        self.built = True\n",
        "\n",
        "    def compute_mask(self, input, input_mask=None):\n",
        "        return None\n",
        "\n",
        "    def call(self, x, mask=None):\n",
        "        features_dim = self.features_dim\n",
        "        step_dim = self.step_dim\n",
        "\n",
        "        eij = K.reshape(K.dot(K.reshape(x, (-1, features_dim)),\n",
        "                        K.reshape(self.W, (features_dim, 1))), (-1, step_dim))\n",
        "\n",
        "        if self.bias:\n",
        "            eij += self.b\n",
        "\n",
        "        eij = K.tanh(eij)\n",
        "\n",
        "        a = K.exp(eij)\n",
        "\n",
        "        if mask is not None:\n",
        "            a *= K.cast(mask, K.floatx())\n",
        "\n",
        "        a /= K.cast(K.sum(a, axis=1, keepdims=True) + K.epsilon(), K.floatx())\n",
        "\n",
        "        a = K.expand_dims(a)\n",
        "        weighted_input = x * a\n",
        "        return K.sum(weighted_input, axis=1)\n",
        "\n",
        "    def compute_output_shape(self, input_shape):\n",
        "        return input_shape[0],  self.features_dim\n",
        "from keras.models import Model\n",
        "from keras.layers import Dense, Embedding, Input\n",
        "from keras.layers import LSTM, Bidirectional, Dropout\n",
        "\n",
        "#max_len=\n",
        "\n",
        "def BidLstm(maxlen, max_features, embed_size):\n",
        "    inp1 = Input(shape=(maxlen, ))\n",
        "    #inp2=Input(shape=(1,))\n",
        "    x1=Embedding(max_words+1,embed_size)(inp1)\n",
        "    #x1 = Embedding(max_words + 1,embed_size,weights=[embedding_matrix_1],\n",
        "    #              trainable=True)(inp1)\n",
        "    # x2 = Embedding(len(tok.word_index) + 1,embed_size_2,weights=[embedding_matrix_2],\n",
        "    #                trainable=True)(inp1)\n",
        "    # x3 = Embedding(len(tok.word_index) + 1,embed_size_3,weights=[embedding_matrix_3],\n",
        "    #                trainable=True)(inp1)\n",
        "    # x1 = Bidirectional(LSTM(200, return_sequences=True, dropout=0.4,\n",
        "    #                        recurrent_dropout=0.4))(x1)\n",
        "    # x2 = Bidirectional(LSTM(200, return_sequences=True, dropout=0.4,\n",
        "    #                        recurrent_dropout=0.4))(x2)\n",
        "    # x3 = Bidirectional(LSTM(200, return_sequences=True, dropout=0.4,\n",
        "    #                        recurrent_dropout=0.4))(x3)   \n",
        "    #x1 = Attention(maxlen)(x1)\n",
        "    # x2 = Attention(maxlen)(x2)\n",
        "    # x3 = Attention(maxlen)(x3)\n",
        "    # x=  Concatenate()([x1,x2,x3])\n",
        "    x1 = CuDNNLSTM(200, return_sequences=True)(x1)   \n",
        "    x2=  GlobalMaxPooling1D()(x1)\n",
        "    x3= GlobalAveragePooling1D()(x1)\n",
        "    x=  Concatenate()([x2,x3])\n",
        "    x = Dropout(0.1)(x)\n",
        "    #x = Attention(maxlen)(x)\n",
        "    # layer = Dense(600,name='FC1')(x)\n",
        "    # layer = Dense(300,activation='relu')(layer)\n",
        "    layer = Dense(128,activation='relu')(x)\n",
        " #   layer = BatchNormalization(name = 'BN1')(layer)\n",
        "    #layer = Activation('relu')(layer)\n",
        "    #layer = Dropout(0.4)(layer)\n",
        "    layer = Dense(64,name='FC2')(layer)\n",
        "#    layer = BatchNormalization(name = 'BN2')(layer)\n",
        "    layer = Activation('relu')(layer)\n",
        "    layer = Dropout(0.4)(layer)\n",
        "   # layer=  Concatenate()([layer,inp2])\n",
        "    # layer=Dense(256,activation='relu')(layer)\n",
        "    # layer=Dense(128,activation='relu')(layer)\n",
        "    layer = Dense(1,name='out_layer',activation='sigmoid')(layer)\n",
        "\n",
        "    model = Model(inputs=[inp1],outputs=layer)\n",
        "\n",
        "    return model\n",
        "model_bi=BidLstm(max_len,max_features=max_words,embed_size=100)"
      ],
      "execution_count": 0,
      "outputs": [
        {
          "output_type": "stream",
          "text": [
            "WARNING:tensorflow:From /usr/local/lib/python3.6/dist-packages/keras/backend/tensorflow_backend.py:541: The name tf.placeholder is deprecated. Please use tf.compat.v1.placeholder instead.\n",
            "\n",
            "WARNING:tensorflow:From /usr/local/lib/python3.6/dist-packages/keras/backend/tensorflow_backend.py:4432: The name tf.random_uniform is deprecated. Please use tf.random.uniform instead.\n",
            "\n",
            "WARNING:tensorflow:From /usr/local/lib/python3.6/dist-packages/keras/backend/tensorflow_backend.py:148: The name tf.placeholder_with_default is deprecated. Please use tf.compat.v1.placeholder_with_default instead.\n",
            "\n",
            "WARNING:tensorflow:From /usr/local/lib/python3.6/dist-packages/keras/backend/tensorflow_backend.py:3733: calling dropout (from tensorflow.python.ops.nn_ops) with keep_prob is deprecated and will be removed in a future version.\n",
            "Instructions for updating:\n",
            "Please use `rate` instead of `keep_prob`. Rate should be set to `rate = 1 - keep_prob`.\n"
          ],
          "name": "stdout"
        }
      ]
    },
    {
      "cell_type": "code",
      "metadata": {
        "id": "jNt2iKeEGrgl",
        "colab_type": "code",
        "outputId": "6b5d6a6c-8f07-4a99-caf9-7bf4c6fc222f",
        "colab": {
          "base_uri": "https://localhost:8080/",
          "height": 188
        }
      },
      "source": [
        "model_bi.compile(optimizer='Adam',loss='binary_crossentropy',metrics=['acc',km.f1_score()])"
      ],
      "execution_count": 0,
      "outputs": [
        {
          "output_type": "stream",
          "text": [
            "WARNING:tensorflow:From /usr/local/lib/python3.6/dist-packages/keras/optimizers.py:793: The name tf.train.Optimizer is deprecated. Please use tf.compat.v1.train.Optimizer instead.\n",
            "\n",
            "WARNING:tensorflow:From /usr/local/lib/python3.6/dist-packages/keras/backend/tensorflow_backend.py:3657: The name tf.log is deprecated. Please use tf.math.log instead.\n",
            "\n",
            "WARNING:tensorflow:From /usr/local/lib/python3.6/dist-packages/tensorflow_core/python/ops/nn_impl.py:183: where (from tensorflow.python.ops.array_ops) is deprecated and will be removed in a future version.\n",
            "Instructions for updating:\n",
            "Use tf.where in 2.0, which has the same broadcast rule as np.where\n",
            "WARNING:tensorflow:From /usr/local/lib/python3.6/dist-packages/keras/backend/tensorflow_backend.py:1033: The name tf.assign_add is deprecated. Please use tf.compat.v1.assign_add instead.\n",
            "\n"
          ],
          "name": "stdout"
        }
      ]
    },
    {
      "cell_type": "code",
      "metadata": {
        "id": "hjQYKV-kGwPO",
        "colab_type": "code",
        "outputId": "980d258e-b305-406d-ff35-e723f19810c8",
        "colab": {
          "base_uri": "https://localhost:8080/",
          "height": 571
        }
      },
      "source": [
        "model_bi.summary()"
      ],
      "execution_count": 0,
      "outputs": [
        {
          "output_type": "stream",
          "text": [
            "Model: \"model_1\"\n",
            "__________________________________________________________________________________________________\n",
            "Layer (type)                    Output Shape         Param #     Connected to                     \n",
            "==================================================================================================\n",
            "input_1 (InputLayer)            (None, 45)           0                                            \n",
            "__________________________________________________________________________________________________\n",
            "embedding_1 (Embedding)         (None, 45, 100)      300100      input_1[0][0]                    \n",
            "__________________________________________________________________________________________________\n",
            "cu_dnnlstm_1 (CuDNNLSTM)        (None, 45, 200)      241600      embedding_1[0][0]                \n",
            "__________________________________________________________________________________________________\n",
            "global_max_pooling1d_1 (GlobalM (None, 200)          0           cu_dnnlstm_1[0][0]               \n",
            "__________________________________________________________________________________________________\n",
            "global_average_pooling1d_1 (Glo (None, 200)          0           cu_dnnlstm_1[0][0]               \n",
            "__________________________________________________________________________________________________\n",
            "concatenate_1 (Concatenate)     (None, 400)          0           global_max_pooling1d_1[0][0]     \n",
            "                                                                 global_average_pooling1d_1[0][0] \n",
            "__________________________________________________________________________________________________\n",
            "dropout_1 (Dropout)             (None, 400)          0           concatenate_1[0][0]              \n",
            "__________________________________________________________________________________________________\n",
            "dense_1 (Dense)                 (None, 128)          51328       dropout_1[0][0]                  \n",
            "__________________________________________________________________________________________________\n",
            "FC2 (Dense)                     (None, 64)           8256        dense_1[0][0]                    \n",
            "__________________________________________________________________________________________________\n",
            "activation_2 (Activation)       (None, 64)           0           FC2[0][0]                        \n",
            "__________________________________________________________________________________________________\n",
            "dropout_2 (Dropout)             (None, 64)           0           activation_2[0][0]               \n",
            "__________________________________________________________________________________________________\n",
            "out_layer (Dense)               (None, 1)            65          dropout_2[0][0]                  \n",
            "==================================================================================================\n",
            "Total params: 601,349\n",
            "Trainable params: 601,349\n",
            "Non-trainable params: 0\n",
            "__________________________________________________________________________________________________\n"
          ],
          "name": "stdout"
        }
      ]
    },
    {
      "cell_type": "code",
      "metadata": {
        "id": "qhqzfTntGyHO",
        "colab_type": "code",
        "colab": {}
      },
      "source": [
        "class_weights = class_weight.compute_class_weight('balanced',np.unique(y_train),y_train)\n",
        "class_weights=dict(enumerate(class_weights))"
      ],
      "execution_count": 0,
      "outputs": []
    },
    {
      "cell_type": "code",
      "metadata": {
        "id": "v1a3cDLzG09-",
        "colab_type": "code",
        "colab": {}
      },
      "source": [
        "# print(class_weights)"
      ],
      "execution_count": 0,
      "outputs": []
    },
    {
      "cell_type": "code",
      "metadata": {
        "id": "ZVpE0RLEG23A",
        "colab_type": "code",
        "colab": {}
      },
      "source": [
        "cp_filepath='/content/drive/My Drive/offenseval/'+'checkpoints/lstm_model_2020a_danish.h5'\n",
        "cp_check_point=keras.callbacks.ModelCheckpoint(cp_filepath, monitor='val_f1_score', verbose=0, save_best_only=True, save_weights_only=False, mode='max', period=1)\n",
        "es = EarlyStopping(monitor='val_f1_score', mode='max', min_delta=0,patience=2,restore_best_weights=True)\n",
        "reduce_lr=keras.callbacks.ReduceLROnPlateau(monitor='val_loss', factor=0.1, patience=10, verbose=0, mode='auto', min_delta=0.0001, cooldown=0, min_lr=0)"
      ],
      "execution_count": 0,
      "outputs": []
    },
    {
      "cell_type": "code",
      "metadata": {
        "id": "kC8_JSdcG8hP",
        "colab_type": "code",
        "colab": {}
      },
      "source": [
        "# model_bi.fit([sequences_matrix_train],y_train,validation_data=([sequences_matrix_dev],y_dev),epochs=10,batch_size=32,class_weight=class_weights,callbacks=[es,cp_check_point])"
      ],
      "execution_count": 0,
      "outputs": []
    },
    {
      "cell_type": "code",
      "metadata": {
        "id": "GbDV_eeDG_Je",
        "colab_type": "code",
        "colab": {}
      },
      "source": [
        "# y_preds_dl=model_bi.predict(sequences_matrix_dev)"
      ],
      "execution_count": 0,
      "outputs": []
    },
    {
      "cell_type": "code",
      "metadata": {
        "id": "BfsVlw4_HppI",
        "colab_type": "code",
        "colab": {}
      },
      "source": [
        "from sklearn.metrics import classification_report\n",
        "\n",
        "#y_pred = model_bi.predict(X_dev, batch_size=30, verbose=1)\n",
        "\n",
        "# print(classification_report(y_dev, y_preds_dl.round()))"
      ],
      "execution_count": 0,
      "outputs": []
    },
    {
      "cell_type": "code",
      "metadata": {
        "id": "IOux2y0YcZNI",
        "colab_type": "code",
        "colab": {}
      },
      "source": [
        "# train_data.head()"
      ],
      "execution_count": 0,
      "outputs": []
    },
    {
      "cell_type": "code",
      "metadata": {
        "id": "m2orjhI6dS4Z",
        "colab_type": "code",
        "colab": {}
      },
      "source": [
        "y=(train_data['subtask_a']==\"OFF\").astype(int)\n",
        "# sequences_train = tok.texts_to_sequences(df_train['tweet'].astype(str))\n",
        "# vocab_size = len(tok.word_index) + 1\n",
        "# sequences_matrix_train = sequence.pad_sequences(sequences_train,maxlen=max_len,padding='post',truncating='post')"
      ],
      "execution_count": 0,
      "outputs": []
    },
    {
      "cell_type": "code",
      "metadata": {
        "id": "kWfNXt_fbk5J",
        "colab_type": "code",
        "outputId": "6712f468-104f-453b-8f59-92265ed0e644",
        "colab": {
          "base_uri": "https://localhost:8080/",
          "height": 1000
        }
      },
      "source": [
        "f1s=[]\n",
        "for train_ind,dev_ind in kfold.split(train_data['tweet'],y):\n",
        "  #print(train_data['tweet'][train_ind].shape)\n",
        "  x_train=train_data['tweet'][train_ind]\n",
        "  y_train=y[train_ind]\n",
        "  x_dev=train_data['tweet'][dev_ind]\n",
        "  y_dev=y[dev_ind]\n",
        "  seq_train=tok.texts_to_sequences(x_train.astype(str))\n",
        "  seq_matrix_train=sequence.pad_sequences(seq_train,maxlen=max_len,padding='post',truncating='post')\n",
        "  seq_dev=tok.texts_to_sequences(x_dev.astype(str))\n",
        "  seq_matrix_dev=sequence.pad_sequences(seq_dev,maxlen=max_len,padding='post',truncating='post')\n",
        "  model_bi.compile(optimizer='Adam',loss='binary_crossentropy',metrics=['acc',km.f1_score()])\n",
        "  model_bi.fit([seq_matrix_train],y_train,validation_split=0.1,epochs=10,batch_size=32,class_weight=class_weights,callbacks=[es,cp_check_point])\n",
        "  scores = model_bi.evaluate(seq_matrix_dev, y_dev, verbose=0)\n",
        "  pred = model_bi.predict(seq_matrix_dev)\n",
        "  print(classification_report(y_dev, pred.round()))\n",
        "  f1s.append(f1_score(y_dev,pred.round(),average='macro'))\n",
        "  #f1s.append(scores[2])\n",
        "  print(scores)\n",
        "print(\"Mean f1:{0}, standard dev:{1}\".format(np.mean(f1s),np.std(f1s)))"
      ],
      "execution_count": 0,
      "outputs": [
        {
          "output_type": "stream",
          "text": [
            "Train on 2397 samples, validate on 267 samples\n",
            "Epoch 1/10\n",
            "2397/2397 [==============================] - 2s 778us/step - loss: 0.0316 - acc: 0.9917 - f1_score: 0.9687 - val_loss: 3.4256 - val_acc: 0.8464 - val_f1_score: 0.3692\n",
            "Epoch 2/10\n",
            "2397/2397 [==============================] - 1s 306us/step - loss: 0.0299 - acc: 0.9917 - f1_score: 0.9687 - val_loss: 3.7579 - val_acc: 0.8502 - val_f1_score: 0.3750\n",
            "Epoch 3/10\n",
            "2397/2397 [==============================] - 1s 305us/step - loss: 0.0320 - acc: 0.9912 - f1_score: 0.9671 - val_loss: 3.2205 - val_acc: 0.8539 - val_f1_score: 0.3810\n",
            "Epoch 4/10\n",
            "2397/2397 [==============================] - 1s 309us/step - loss: 0.0455 - acc: 0.9862 - f1_score: 0.9490 - val_loss: 2.8864 - val_acc: 0.8577 - val_f1_score: 0.4242\n",
            "Epoch 5/10\n",
            "2397/2397 [==============================] - 1s 302us/step - loss: 0.0283 - acc: 0.9917 - f1_score: 0.9687 - val_loss: 3.0753 - val_acc: 0.8539 - val_f1_score: 0.4179\n",
            "Epoch 6/10\n",
            "2397/2397 [==============================] - 1s 317us/step - loss: 0.0293 - acc: 0.9883 - f1_score: 0.9568 - val_loss: 2.7829 - val_acc: 0.8240 - val_f1_score: 0.3733\n",
            "              precision    recall  f1-score   support\n",
            "\n",
            "           0       0.99      0.98      0.99       258\n",
            "           1       0.90      0.92      0.91        39\n",
            "\n",
            "    accuracy                           0.98       297\n",
            "   macro avg       0.94      0.95      0.95       297\n",
            "weighted avg       0.98      0.98      0.98       297\n",
            "\n",
            "[0.19667997400814147, 0.9764309766316654, 0.9113923527639829]\n",
            "Train on 2398 samples, validate on 267 samples\n",
            "Epoch 1/10\n",
            "2398/2398 [==============================] - 2s 812us/step - loss: 0.0342 - acc: 0.9900 - f1_score: 0.9623 - val_loss: 2.7132 - val_acc: 0.7978 - val_f1_score: 0.4130\n",
            "Epoch 2/10\n",
            "2398/2398 [==============================] - 1s 294us/step - loss: 0.0309 - acc: 0.9867 - f1_score: 0.9505 - val_loss: 3.0172 - val_acc: 0.7940 - val_f1_score: 0.4086\n",
            "Epoch 3/10\n",
            "2398/2398 [==============================] - 1s 306us/step - loss: 0.0339 - acc: 0.9908 - f1_score: 0.9654 - val_loss: 2.8327 - val_acc: 0.8427 - val_f1_score: 0.4615\n",
            "Epoch 4/10\n",
            "2398/2398 [==============================] - 1s 297us/step - loss: 0.0355 - acc: 0.9908 - f1_score: 0.9654 - val_loss: 3.0004 - val_acc: 0.8464 - val_f1_score: 0.4225\n",
            "Epoch 5/10\n",
            "2398/2398 [==============================] - 1s 308us/step - loss: 0.0352 - acc: 0.9892 - f1_score: 0.9594 - val_loss: 3.2062 - val_acc: 0.8315 - val_f1_score: 0.4156\n",
            "              precision    recall  f1-score   support\n",
            "\n",
            "           0       1.00      0.98      0.99       258\n",
            "           1       0.88      0.97      0.93        38\n",
            "\n",
            "    accuracy                           0.98       296\n",
            "   macro avg       0.94      0.98      0.96       296\n",
            "weighted avg       0.98      0.98      0.98       296\n",
            "\n",
            "[0.2017469463517537, 0.9797297297297297, 0.9249999478125027]\n",
            "Train on 2398 samples, validate on 267 samples\n",
            "Epoch 1/10\n",
            "2398/2398 [==============================] - 2s 829us/step - loss: 0.0431 - acc: 0.9829 - f1_score: 0.9370 - val_loss: 2.4902 - val_acc: 0.7940 - val_f1_score: 0.4330\n",
            "Epoch 2/10\n",
            "2398/2398 [==============================] - 1s 305us/step - loss: 0.0421 - acc: 0.9875 - f1_score: 0.9528 - val_loss: 3.5362 - val_acc: 0.8390 - val_f1_score: 0.4267\n",
            "Epoch 3/10\n",
            "2398/2398 [==============================] - 1s 304us/step - loss: 0.0330 - acc: 0.9883 - f1_score: 0.9558 - val_loss: 3.8497 - val_acc: 0.8390 - val_f1_score: 0.4267\n",
            "              precision    recall  f1-score   support\n",
            "\n",
            "           0       1.00      0.99      0.99       258\n",
            "           1       0.93      0.97      0.95        38\n",
            "\n",
            "    accuracy                           0.99       296\n",
            "   macro avg       0.96      0.98      0.97       296\n",
            "weighted avg       0.99      0.99      0.99       296\n",
            "\n",
            "[0.15128472650020913, 0.9864864864864865, 0.9487178963182142]\n",
            "Train on 2398 samples, validate on 267 samples\n",
            "Epoch 1/10\n",
            "2398/2398 [==============================] - 2s 820us/step - loss: 0.0400 - acc: 0.9921 - f1_score: 0.9699 - val_loss: 4.1368 - val_acc: 0.8240 - val_f1_score: 0.3896\n",
            "Epoch 2/10\n",
            "2398/2398 [==============================] - 1s 297us/step - loss: 0.0286 - acc: 0.9929 - f1_score: 0.9731 - val_loss: 3.6950 - val_acc: 0.7978 - val_f1_score: 0.4130\n",
            "Epoch 3/10\n",
            "2398/2398 [==============================] - 1s 301us/step - loss: 0.0530 - acc: 0.9842 - f1_score: 0.9412 - val_loss: 2.5892 - val_acc: 0.8090 - val_f1_score: 0.4516\n",
            "Epoch 4/10\n",
            "2398/2398 [==============================] - 1s 310us/step - loss: 0.0264 - acc: 0.9921 - f1_score: 0.9700 - val_loss: 3.7524 - val_acc: 0.8464 - val_f1_score: 0.4384\n",
            "Epoch 5/10\n",
            "2398/2398 [==============================] - 1s 302us/step - loss: 0.0266 - acc: 0.9929 - f1_score: 0.9729 - val_loss: 3.6442 - val_acc: 0.8240 - val_f1_score: 0.4051\n",
            "              precision    recall  f1-score   support\n",
            "\n",
            "           0       0.99      0.97      0.98       258\n",
            "           1       0.80      0.92      0.85        38\n",
            "\n",
            "    accuracy                           0.96       296\n",
            "   macro avg       0.89      0.94      0.92       296\n",
            "weighted avg       0.96      0.96      0.96       296\n",
            "\n",
            "[0.18342104218931668, 0.9594594594594594, 0.8536584847709725]\n",
            "Train on 2398 samples, validate on 267 samples\n",
            "Epoch 1/10\n",
            "2398/2398 [==============================] - 2s 861us/step - loss: 0.0359 - acc: 0.9879 - f1_score: 0.9552 - val_loss: 3.4287 - val_acc: 0.8577 - val_f1_score: 0.4412\n",
            "Epoch 2/10\n",
            "2398/2398 [==============================] - 1s 308us/step - loss: 0.0413 - acc: 0.9900 - f1_score: 0.9626 - val_loss: 3.1733 - val_acc: 0.8614 - val_f1_score: 0.4638\n",
            "Epoch 3/10\n",
            "2398/2398 [==============================] - 1s 306us/step - loss: 0.0479 - acc: 0.9787 - f1_score: 0.9231 - val_loss: 2.6493 - val_acc: 0.8277 - val_f1_score: 0.4250\n",
            "Epoch 4/10\n",
            "2398/2398 [==============================] - 1s 301us/step - loss: 0.0715 - acc: 0.9808 - f1_score: 0.9299 - val_loss: 2.6364 - val_acc: 0.8727 - val_f1_score: 0.5000\n",
            "Epoch 5/10\n",
            "2398/2398 [==============================] - 1s 326us/step - loss: 0.0314 - acc: 0.9904 - f1_score: 0.9640 - val_loss: 2.9114 - val_acc: 0.8652 - val_f1_score: 0.4706\n",
            "Epoch 6/10\n",
            "2398/2398 [==============================] - 1s 323us/step - loss: 0.0306 - acc: 0.9908 - f1_score: 0.9656 - val_loss: 2.8093 - val_acc: 0.8352 - val_f1_score: 0.4211\n",
            "              precision    recall  f1-score   support\n",
            "\n",
            "           0       0.98      0.99      0.98       258\n",
            "           1       0.94      0.84      0.89        38\n",
            "\n",
            "    accuracy                           0.97       296\n",
            "   macro avg       0.96      0.92      0.94       296\n",
            "weighted avg       0.97      0.97      0.97       296\n",
            "\n",
            "[0.23877639387344085, 0.972972972972973, 0.8888888365740768]\n",
            "Train on 2398 samples, validate on 267 samples\n",
            "Epoch 1/10\n",
            "2398/2398 [==============================] - 2s 889us/step - loss: 0.0411 - acc: 0.9887 - f1_score: 0.9576 - val_loss: 2.6040 - val_acc: 0.7978 - val_f1_score: 0.4375\n",
            "Epoch 2/10\n",
            "2398/2398 [==============================] - 1s 323us/step - loss: 0.0290 - acc: 0.9904 - f1_score: 0.9639 - val_loss: 3.7270 - val_acc: 0.8577 - val_f1_score: 0.4722\n",
            "Epoch 3/10\n",
            "2398/2398 [==============================] - 1s 305us/step - loss: 0.0299 - acc: 0.9904 - f1_score: 0.9639 - val_loss: 3.2745 - val_acc: 0.8390 - val_f1_score: 0.4416\n",
            "Epoch 4/10\n",
            "2398/2398 [==============================] - 1s 307us/step - loss: 0.0281 - acc: 0.9912 - f1_score: 0.9669 - val_loss: 2.9742 - val_acc: 0.8127 - val_f1_score: 0.4444\n",
            "              precision    recall  f1-score   support\n",
            "\n",
            "           0       0.98      0.99      0.98       258\n",
            "           1       0.92      0.87      0.89        38\n",
            "\n",
            "    accuracy                           0.97       296\n",
            "   macro avg       0.95      0.93      0.94       296\n",
            "weighted avg       0.97      0.97      0.97       296\n",
            "\n",
            "[0.2673313971725744, 0.972972972972973, 0.8918918395178991]\n",
            "Train on 2398 samples, validate on 267 samples\n",
            "Epoch 1/10\n",
            "2398/2398 [==============================] - 2s 895us/step - loss: 0.0352 - acc: 0.9912 - f1_score: 0.9666 - val_loss: 3.7801 - val_acc: 0.8015 - val_f1_score: 0.4045\n",
            "Epoch 2/10\n",
            "2398/2398 [==============================] - 1s 323us/step - loss: 0.0367 - acc: 0.9871 - f1_score: 0.9515 - val_loss: 3.7248 - val_acc: 0.8277 - val_f1_score: 0.4103\n",
            "Epoch 3/10\n",
            "2398/2398 [==============================] - 1s 314us/step - loss: 0.0277 - acc: 0.9929 - f1_score: 0.9729 - val_loss: 3.5334 - val_acc: 0.8090 - val_f1_score: 0.4138\n",
            "Epoch 4/10\n",
            "2398/2398 [==============================] - 1s 308us/step - loss: 0.0273 - acc: 0.9929 - f1_score: 0.9729 - val_loss: 3.6609 - val_acc: 0.8277 - val_f1_score: 0.4390\n",
            "Epoch 5/10\n",
            "2398/2398 [==============================] - 1s 302us/step - loss: 0.0279 - acc: 0.9929 - f1_score: 0.9729 - val_loss: 3.7095 - val_acc: 0.8240 - val_f1_score: 0.4337\n",
            "Epoch 6/10\n",
            "2398/2398 [==============================] - 1s 311us/step - loss: 0.0275 - acc: 0.9929 - f1_score: 0.9729 - val_loss: 3.6917 - val_acc: 0.8240 - val_f1_score: 0.4198\n",
            "              precision    recall  f1-score   support\n",
            "\n",
            "           0       0.99      0.98      0.98       258\n",
            "           1       0.88      0.92      0.90        38\n",
            "\n",
            "    accuracy                           0.97       296\n",
            "   macro avg       0.93      0.95      0.94       296\n",
            "weighted avg       0.97      0.97      0.97       296\n",
            "\n",
            "[0.12504128167180367, 0.972972972972973, 0.8974358451676556]\n",
            "Train on 2398 samples, validate on 267 samples\n",
            "Epoch 1/10\n",
            "2398/2398 [==============================] - 2s 926us/step - loss: 0.0387 - acc: 0.9917 - f1_score: 0.9683 - val_loss: 3.7323 - val_acc: 0.8090 - val_f1_score: 0.4000\n",
            "Epoch 2/10\n",
            "2398/2398 [==============================] - 1s 299us/step - loss: 0.0290 - acc: 0.9917 - f1_score: 0.9683 - val_loss: 3.6272 - val_acc: 0.7940 - val_f1_score: 0.4086\n",
            "Epoch 3/10\n",
            "2398/2398 [==============================] - 1s 318us/step - loss: 0.0310 - acc: 0.9904 - f1_score: 0.9637 - val_loss: 4.5141 - val_acc: 0.8764 - val_f1_score: 0.4590\n",
            "Epoch 4/10\n",
            "2398/2398 [==============================] - 1s 314us/step - loss: 0.0304 - acc: 0.9921 - f1_score: 0.9697 - val_loss: 4.6431 - val_acc: 0.8689 - val_f1_score: 0.4444\n",
            "Epoch 5/10\n",
            "2398/2398 [==============================] - 1s 304us/step - loss: 0.0421 - acc: 0.9904 - f1_score: 0.9637 - val_loss: 4.2227 - val_acc: 0.8652 - val_f1_score: 0.4194\n",
            "              precision    recall  f1-score   support\n",
            "\n",
            "           0       0.99      0.97      0.98       257\n",
            "           1       0.82      0.95      0.88        39\n",
            "\n",
            "    accuracy                           0.97       296\n",
            "   macro avg       0.91      0.96      0.93       296\n",
            "weighted avg       0.97      0.97      0.97       296\n",
            "\n",
            "[0.250804463351095, 0.9662162162162162, 0.8809523291099801]\n",
            "Train on 2398 samples, validate on 267 samples\n",
            "Epoch 1/10\n",
            "2398/2398 [==============================] - 2s 933us/step - loss: 0.0588 - acc: 0.9892 - f1_score: 0.9587 - val_loss: 4.2934 - val_acc: 0.8165 - val_f1_score: 0.3951\n",
            "Epoch 2/10\n",
            "2398/2398 [==============================] - 1s 316us/step - loss: 0.0241 - acc: 0.9921 - f1_score: 0.9697 - val_loss: 4.3109 - val_acc: 0.8202 - val_f1_score: 0.4000\n",
            "Epoch 3/10\n",
            "2398/2398 [==============================] - 1s 310us/step - loss: 0.0259 - acc: 0.9900 - f1_score: 0.9621 - val_loss: 4.3019 - val_acc: 0.8202 - val_f1_score: 0.4000\n",
            "Epoch 4/10\n",
            "2398/2398 [==============================] - 1s 310us/step - loss: 0.0245 - acc: 0.9908 - f1_score: 0.9652 - val_loss: 4.3113 - val_acc: 0.8240 - val_f1_score: 0.4051\n",
            "Epoch 5/10\n",
            "2398/2398 [==============================] - 1s 311us/step - loss: 0.0242 - acc: 0.9921 - f1_score: 0.9698 - val_loss: 4.3021 - val_acc: 0.8240 - val_f1_score: 0.4198\n",
            "Epoch 6/10\n",
            "2398/2398 [==============================] - 1s 315us/step - loss: 0.0250 - acc: 0.9921 - f1_score: 0.9698 - val_loss: 4.3163 - val_acc: 0.8165 - val_f1_score: 0.3951\n",
            "Epoch 7/10\n",
            "2398/2398 [==============================] - 1s 309us/step - loss: 0.0241 - acc: 0.9925 - f1_score: 0.9713 - val_loss: 4.2994 - val_acc: 0.8165 - val_f1_score: 0.3951\n",
            "              precision    recall  f1-score   support\n",
            "\n",
            "           0       1.00      0.98      0.99       257\n",
            "           1       0.86      0.97      0.92        39\n",
            "\n",
            "    accuracy                           0.98       296\n",
            "   macro avg       0.93      0.98      0.95       296\n",
            "weighted avg       0.98      0.98      0.98       296\n",
            "\n",
            "[0.16890308561515033, 0.9763513513513513, 0.915662598577445]\n",
            "Train on 2398 samples, validate on 267 samples\n",
            "Epoch 1/10\n",
            "2398/2398 [==============================] - 3s 1ms/step - loss: 0.0542 - acc: 0.9933 - f1_score: 0.9744 - val_loss: 4.4319 - val_acc: 0.7790 - val_f1_score: 0.3218\n",
            "Epoch 2/10\n",
            "2398/2398 [==============================] - 1s 329us/step - loss: 0.0504 - acc: 0.9917 - f1_score: 0.9684 - val_loss: 4.1201 - val_acc: 0.8052 - val_f1_score: 0.3659\n",
            "Epoch 3/10\n",
            "2398/2398 [==============================] - 1s 328us/step - loss: 0.0342 - acc: 0.9917 - f1_score: 0.9684 - val_loss: 3.8203 - val_acc: 0.8202 - val_f1_score: 0.4000\n",
            "Epoch 4/10\n",
            "2398/2398 [==============================] - 1s 356us/step - loss: 0.0342 - acc: 0.9912 - f1_score: 0.9668 - val_loss: 4.0679 - val_acc: 0.8577 - val_f1_score: 0.4242\n",
            "Epoch 5/10\n",
            "2398/2398 [==============================] - 1s 339us/step - loss: 0.0287 - acc: 0.9917 - f1_score: 0.9683 - val_loss: 3.9096 - val_acc: 0.8315 - val_f1_score: 0.4000\n",
            "Epoch 6/10\n",
            "2398/2398 [==============================] - 1s 314us/step - loss: 0.0277 - acc: 0.9921 - f1_score: 0.9699 - val_loss: 4.3155 - val_acc: 0.8315 - val_f1_score: 0.3836\n",
            "              precision    recall  f1-score   support\n",
            "\n",
            "           0       0.99      0.99      0.99       257\n",
            "           1       0.93      0.95      0.94        39\n",
            "\n",
            "    accuracy                           0.98       296\n",
            "   macro avg       0.96      0.97      0.96       296\n",
            "weighted avg       0.98      0.98      0.98       296\n",
            "\n",
            "[0.11136913638508328, 0.9831081081081081, 0.936708808396093]\n",
            "Mean f1:0.9452055023966432, standard dev:0.015520646441851417\n"
          ],
          "name": "stdout"
        }
      ]
    },
    {
      "cell_type": "code",
      "metadata": {
        "id": "w3xwsOAhLoKz",
        "colab_type": "code",
        "colab": {}
      },
      "source": [
        "from sklearn.metrics import f1_score"
      ],
      "execution_count": 0,
      "outputs": []
    },
    {
      "cell_type": "code",
      "metadata": {
        "id": "nEqaOm7-HtDh",
        "colab_type": "code",
        "outputId": "7abfd3a4-d68c-41c0-9e66-eafe41d673e0",
        "colab": {
          "base_uri": "https://localhost:8080/",
          "height": 185
        }
      },
      "source": [
        "pred = model_bi.predict(seq_matrix_dev)\n",
        "print(f1_score(y_dev,pred.round(),average='macro'))\n",
        "print(classification_report(y_dev, pred.round()))"
      ],
      "execution_count": 0,
      "outputs": [
        {
          "output_type": "stream",
          "text": [
            "0.9342660448589829\n",
            "              precision    recall  f1-score   support\n",
            "\n",
            "           0       0.98      0.98      0.98       257\n",
            "           1       0.88      0.90      0.89        39\n",
            "\n",
            "    accuracy                           0.97       296\n",
            "   macro avg       0.93      0.94      0.93       296\n",
            "weighted avg       0.97      0.97      0.97       296\n",
            "\n"
          ],
          "name": "stdout"
        }
      ]
    },
    {
      "cell_type": "code",
      "metadata": {
        "id": "8BnxgKVMhNZg",
        "colab_type": "code",
        "outputId": "7ef6fa1c-0b99-442f-e0e0-aa4171585b72",
        "colab": {
          "base_uri": "https://localhost:8080/",
          "height": 162
        }
      },
      "source": [
        "classification_report(y_dev, pred.round())"
      ],
      "execution_count": 0,
      "outputs": [
        {
          "output_type": "error",
          "ename": "TypeError",
          "evalue": "ignored",
          "traceback": [
            "\u001b[0;31m---------------------------------------------------------------------------\u001b[0m",
            "\u001b[0;31mTypeError\u001b[0m                                 Traceback (most recent call last)",
            "\u001b[0;32m<ipython-input-50-f7da788f87dd>\u001b[0m in \u001b[0;36m<module>\u001b[0;34m()\u001b[0m\n\u001b[0;32m----> 1\u001b[0;31m \u001b[0mclassification_report\u001b[0m\u001b[0;34m(\u001b[0m\u001b[0my_dev\u001b[0m\u001b[0;34m,\u001b[0m \u001b[0mpred\u001b[0m\u001b[0;34m.\u001b[0m\u001b[0mround\u001b[0m\u001b[0;34m(\u001b[0m\u001b[0;34m)\u001b[0m\u001b[0;34m)\u001b[0m\u001b[0;34m[\u001b[0m\u001b[0;34m'f1-score'\u001b[0m\u001b[0;34m]\u001b[0m\u001b[0;34m\u001b[0m\u001b[0;34m\u001b[0m\u001b[0m\n\u001b[0m",
            "\u001b[0;31mTypeError\u001b[0m: string indices must be integers"
          ]
        }
      ]
    },
    {
      "cell_type": "code",
      "metadata": {
        "id": "tJyFtRUuhRTU",
        "colab_type": "code",
        "colab": {}
      },
      "source": [
        ""
      ],
      "execution_count": 0,
      "outputs": []
    }
  ]
}